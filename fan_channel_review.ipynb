{
 "cells": [
  {
   "cell_type": "markdown",
   "metadata": {},
   "source": [
    "### Do Premier League fan accounts get more views when their team loses?\n",
    "\n",
    "I will use data from 5 fan accounts of respective Premier League teams on YouTube and data from Chelsea FC's YouTube channel:\n",
    "- Mark Goldbridge - The United Stand (Manchester United)\n",
    "https://www.youtube.com/channel/UCMmVPVb0BwSIOWVeDwlPocQ\n",
    "- Craig - Anfield Agenda (Liverpool)\n",
    "https://www.youtube.com/channel/UC4B_hCk3keopt4-eJc8neiA\n",
    "- Expressions Oozing - self (Tottenham)\n",
    "https://www.youtube.com/channel/UC-HSLEEHVlnqlgTB7UptLeg\n",
    "- DT - AFTV (Arsenal)\n",
    "https://www.youtube.com/channel/UCBTy8j2cPy6zw68godcE7MQ\n",
    "- Younes - YounesTalksFootball (Chelsea)\n",
    "https://www.youtube.com/channel/UC7AiAq4zB5ylQy23gg3H8hA\n",
    "Chelsea FC - \n",
    "https://www.youtube.com/user/chelseafc"
   ]
  },
  {
   "cell_type": "code",
   "execution_count": 1018,
   "metadata": {},
   "outputs": [],
   "source": [
    "import numpy as np \n",
    "import matplotlib.pyplot as plt\n",
    "import pandas as pd \n",
    "import seaborn as sns\n",
    "sns.set()"
   ]
  },
  {
   "cell_type": "code",
   "execution_count": 1019,
   "metadata": {},
   "outputs": [],
   "source": [
    "AFTV_path = r\"C:\\Users\\georg\\OneDrive\\Desktop\\Fan Channel views\\AFTV_Views - Copy.csv\"\n",
    "Anfield_Agenda_path = r\"C:\\Users\\georg\\OneDrive\\Desktop\\Fan Channel views\\Anfield_Agenda_Views.csv\"\n",
    "Expressionz_path = r\"C:\\Users\\georg\\OneDrive\\Desktop\\Fan Channel views\\Expressionz_Views.csv\"\n",
    "United_Stand_path = r\"C:\\Users\\georg\\OneDrive\\Desktop\\Fan Channel views\\United_stand_views.csv\"\n",
    "Younes_path = r\"C:\\Users\\georg\\OneDrive\\Desktop\\Fan Channel views\\YounesFootball_Views.csv\"\n",
    "\n",
    "aftv = pd.read_csv(AFTV_path)\n",
    "AA = pd.read_csv(Anfield_Agenda_path)\n",
    "Ex = pd.read_csv(Expressionz_path)\n",
    "US = pd.read_csv(United_Stand_path)\n",
    "Younes = pd.read_csv(Younes_path)"
   ]
  },
  {
   "cell_type": "code",
   "execution_count": 1020,
   "metadata": {},
   "outputs": [
    {
     "data": {
      "text/html": [
       "<div>\n",
       "<style scoped>\n",
       "    .dataframe tbody tr th:only-of-type {\n",
       "        vertical-align: middle;\n",
       "    }\n",
       "\n",
       "    .dataframe tbody tr th {\n",
       "        vertical-align: top;\n",
       "    }\n",
       "\n",
       "    .dataframe thead th {\n",
       "        text-align: right;\n",
       "    }\n",
       "</style>\n",
       "<table border=\"1\" class=\"dataframe\">\n",
       "  <thead>\n",
       "    <tr style=\"text-align: right;\">\n",
       "      <th></th>\n",
       "      <th>Competition</th>\n",
       "      <th>Opponent</th>\n",
       "      <th>Opposition Score</th>\n",
       "      <th>Arsenal Score</th>\n",
       "      <th>Goal Margin</th>\n",
       "      <th>Result (W, D or L)</th>\n",
       "      <th>DT Reaction video views (K)</th>\n",
       "      <th>Watch along views (K)</th>\n",
       "    </tr>\n",
       "  </thead>\n",
       "  <tbody>\n",
       "    <tr>\n",
       "      <th>0</th>\n",
       "      <td>Premier League</td>\n",
       "      <td>Crystal Palace</td>\n",
       "      <td>0</td>\n",
       "      <td>0</td>\n",
       "      <td>0</td>\n",
       "      <td>D</td>\n",
       "      <td>136</td>\n",
       "      <td>269</td>\n",
       "    </tr>\n",
       "    <tr>\n",
       "      <th>1</th>\n",
       "      <td>FA Cup</td>\n",
       "      <td>Newcastle</td>\n",
       "      <td>0</td>\n",
       "      <td>2</td>\n",
       "      <td>2</td>\n",
       "      <td>W</td>\n",
       "      <td>198</td>\n",
       "      <td>314</td>\n",
       "    </tr>\n",
       "    <tr>\n",
       "      <th>2</th>\n",
       "      <td>Premier League</td>\n",
       "      <td>West Brom</td>\n",
       "      <td>0</td>\n",
       "      <td>4</td>\n",
       "      <td>4</td>\n",
       "      <td>W</td>\n",
       "      <td>307</td>\n",
       "      <td>416</td>\n",
       "    </tr>\n",
       "    <tr>\n",
       "      <th>3</th>\n",
       "      <td>Premier League</td>\n",
       "      <td>Brighton</td>\n",
       "      <td>0</td>\n",
       "      <td>1</td>\n",
       "      <td>1</td>\n",
       "      <td>W</td>\n",
       "      <td>247</td>\n",
       "      <td>376</td>\n",
       "    </tr>\n",
       "    <tr>\n",
       "      <th>4</th>\n",
       "      <td>Premier League</td>\n",
       "      <td>Chelsea</td>\n",
       "      <td>1</td>\n",
       "      <td>3</td>\n",
       "      <td>2</td>\n",
       "      <td>W</td>\n",
       "      <td>535</td>\n",
       "      <td>783</td>\n",
       "    </tr>\n",
       "  </tbody>\n",
       "</table>\n",
       "</div>"
      ],
      "text/plain": [
       "      Competition        Opponent  Opposition Score  Arsenal Score  \\\n",
       "0  Premier League  Crystal Palace                 0              0   \n",
       "1          FA Cup       Newcastle                 0              2   \n",
       "2  Premier League       West Brom                 0              4   \n",
       "3  Premier League        Brighton                 0              1   \n",
       "4  Premier League         Chelsea                 1              3   \n",
       "\n",
       "   Goal Margin Result (W, D or L)  DT Reaction video views (K)  \\\n",
       "0            0                  D                          136   \n",
       "1            2                  W                          198   \n",
       "2            4                  W                          307   \n",
       "3            1                  W                          247   \n",
       "4            2                  W                          535   \n",
       "\n",
       "   Watch along views (K)  \n",
       "0                    269  \n",
       "1                    314  \n",
       "2                    416  \n",
       "3                    376  \n",
       "4                    783  "
      ]
     },
     "execution_count": 1020,
     "metadata": {},
     "output_type": "execute_result"
    }
   ],
   "source": [
    "aftv.head()"
   ]
  },
  {
   "cell_type": "markdown",
   "metadata": {},
   "source": [
    "##### Table Explanation:\n",
    "The table details all of the games Arsenal have played so far this season. The objective of this analysis is to determine whether or not fan channels recieve more viewers when their team is losing, therefore we have data for the number of views a channels watch along videos get and a video of the immediate reactions after the game. \n",
    "For example, In Arsenals match against Chelsea where they won 3-1, the watch along received 783 thousand views and DT's reaction video after the game got 535 thousand views. We're going to see how these numbers change depending on the results of the game. "
   ]
  },
  {
   "cell_type": "markdown",
   "metadata": {},
   "source": [
    "## Checking our data\n",
    "##### AFTV:"
   ]
  },
  {
   "cell_type": "code",
   "execution_count": 1021,
   "metadata": {
    "scrolled": true
   },
   "outputs": [
    {
     "data": {
      "text/plain": [
       "Competition                    object\n",
       "Opponent                       object\n",
       "Opposition Score                int64\n",
       "Arsenal Score                   int64\n",
       "Goal Margin                     int64\n",
       "Result (W, D or L)             object\n",
       "DT Reaction video views (K)     int64\n",
       "Watch along views (K)           int64\n",
       "dtype: object"
      ]
     },
     "execution_count": 1021,
     "metadata": {},
     "output_type": "execute_result"
    }
   ],
   "source": [
    "aftv.dtypes"
   ]
  },
  {
   "cell_type": "code",
   "execution_count": 1022,
   "metadata": {},
   "outputs": [
    {
     "data": {
      "text/html": [
       "<div>\n",
       "<style scoped>\n",
       "    .dataframe tbody tr th:only-of-type {\n",
       "        vertical-align: middle;\n",
       "    }\n",
       "\n",
       "    .dataframe tbody tr th {\n",
       "        vertical-align: top;\n",
       "    }\n",
       "\n",
       "    .dataframe thead th {\n",
       "        text-align: right;\n",
       "    }\n",
       "</style>\n",
       "<table border=\"1\" class=\"dataframe\">\n",
       "  <thead>\n",
       "    <tr style=\"text-align: right;\">\n",
       "      <th></th>\n",
       "      <th>Competition</th>\n",
       "      <th>Opponent</th>\n",
       "      <th>Opposition Score</th>\n",
       "      <th>Arsenal Score</th>\n",
       "      <th>Goal Margin</th>\n",
       "      <th>Result (W, D or L)</th>\n",
       "      <th>DT Reaction video views (K)</th>\n",
       "      <th>Watch along views (K)</th>\n",
       "    </tr>\n",
       "  </thead>\n",
       "  <tbody>\n",
       "  </tbody>\n",
       "</table>\n",
       "</div>"
      ],
      "text/plain": [
       "Empty DataFrame\n",
       "Columns: [Competition, Opponent, Opposition Score, Arsenal Score, Goal Margin, Result (W, D or L), DT Reaction video views (K), Watch along views (K)]\n",
       "Index: []"
      ]
     },
     "execution_count": 1022,
     "metadata": {},
     "output_type": "execute_result"
    }
   ],
   "source": [
    "null_values = aftv[aftv.isnull().any(axis = 1)]\n",
    "null_values    #No null values"
   ]
  },
  {
   "cell_type": "code",
   "execution_count": 1023,
   "metadata": {},
   "outputs": [],
   "source": [
    "aftv[\"DT Reaction video views (K)\"].replace(0, np.nan, inplace = True)\n",
    "aftv.dropna(inplace = True)\n",
    "aftv[\"DT Reaction video views (K)\"] = aftv[\"DT Reaction video views (K)\"].astype(int)"
   ]
  },
  {
   "cell_type": "code",
   "execution_count": 1024,
   "metadata": {},
   "outputs": [
    {
     "data": {
      "text/plain": [
       "<bound method Series.unique of 0        Crystal Palace\n",
       "1             Newcastle\n",
       "2             West Brom\n",
       "3              Brighton\n",
       "4               Chelsea\n",
       "5       Manchester City\n",
       "6               Everton\n",
       "7           Southampton\n",
       "8               Burnley\n",
       "9               Dundalk\n",
       "10            Tottenham\n",
       "11         Rapid Vienna\n",
       "12               Wolves\n",
       "13                Molde\n",
       "14                Leeds\n",
       "15          Aston Villa\n",
       "16                Molde\n",
       "17    Manchester United\n",
       "18              Dundalk\n",
       "19            Leicester\n",
       "20         Rapid Vienna\n",
       "21      Manchester City\n",
       "22     Sheffield United\n",
       "23            Liverpool\n",
       "24            Liverpool\n",
       "26             West Ham\n",
       "Name: Opponent, dtype: object>"
      ]
     },
     "execution_count": 1024,
     "metadata": {},
     "output_type": "execute_result"
    }
   ],
   "source": [
    "aftv[\"Opponent\"].unique # Checking for errors in team names."
   ]
  },
  {
   "cell_type": "markdown",
   "metadata": {},
   "source": [
    "##### Anfield Agenda:"
   ]
  },
  {
   "cell_type": "code",
   "execution_count": 1025,
   "metadata": {},
   "outputs": [
    {
     "data": {
      "text/plain": [
       "Competition              object\n",
       "Opponent                 object\n",
       "Opposition Score          int64\n",
       "Liverpool Score           int64\n",
       "Goal Margin               int64\n",
       "Result (W, D or L)       object\n",
       "Craig's Reaction (K)      int64\n",
       "Watch along views (K)     int64\n",
       "dtype: object"
      ]
     },
     "execution_count": 1025,
     "metadata": {},
     "output_type": "execute_result"
    }
   ],
   "source": [
    "AA.dtypes"
   ]
  },
  {
   "cell_type": "code",
   "execution_count": 1026,
   "metadata": {},
   "outputs": [
    {
     "data": {
      "text/html": [
       "<div>\n",
       "<style scoped>\n",
       "    .dataframe tbody tr th:only-of-type {\n",
       "        vertical-align: middle;\n",
       "    }\n",
       "\n",
       "    .dataframe tbody tr th {\n",
       "        vertical-align: top;\n",
       "    }\n",
       "\n",
       "    .dataframe thead th {\n",
       "        text-align: right;\n",
       "    }\n",
       "</style>\n",
       "<table border=\"1\" class=\"dataframe\">\n",
       "  <thead>\n",
       "    <tr style=\"text-align: right;\">\n",
       "      <th></th>\n",
       "      <th>Competition</th>\n",
       "      <th>Opponent</th>\n",
       "      <th>Opposition Score</th>\n",
       "      <th>Liverpool Score</th>\n",
       "      <th>Goal Margin</th>\n",
       "      <th>Result (W, D or L)</th>\n",
       "      <th>Craig's Reaction (K)</th>\n",
       "      <th>Watch along views (K)</th>\n",
       "    </tr>\n",
       "  </thead>\n",
       "  <tbody>\n",
       "  </tbody>\n",
       "</table>\n",
       "</div>"
      ],
      "text/plain": [
       "Empty DataFrame\n",
       "Columns: [Competition, Opponent, Opposition Score, Liverpool Score, Goal Margin, Result (W, D or L), Craig's Reaction (K), Watch along views (K)]\n",
       "Index: []"
      ]
     },
     "execution_count": 1026,
     "metadata": {},
     "output_type": "execute_result"
    }
   ],
   "source": [
    "null_values = AA[AA.isnull().any(axis = 1)]\n",
    "null_values # No null values"
   ]
  },
  {
   "cell_type": "code",
   "execution_count": 1027,
   "metadata": {},
   "outputs": [
    {
     "data": {
      "text/plain": [
       "<bound method Series.unique of 0          Aston Villa\n",
       "1          Southampton\n",
       "2            Newcastle\n",
       "3            West Brom\n",
       "4       Crystal Palace\n",
       "5            Tottenham\n",
       "6               Fulham\n",
       "7          Midtjylland\n",
       "8               Wolves\n",
       "9                 Ajax\n",
       "10            Brighton\n",
       "11            Atalanta\n",
       "12           Leicester\n",
       "13     Manchester City\n",
       "14            Atalanta\n",
       "15            West Ham\n",
       "16         Midtjylland\n",
       "17    Sheffield United\n",
       "18                Ajax\n",
       "19             Everton\n",
       "20         Aston Villa\n",
       "21             Arsenal\n",
       "22             Arsenal\n",
       "23             Lincoln\n",
       "24             Chelsea\n",
       "25               Leeds\n",
       "Name: Opponent, dtype: object>"
      ]
     },
     "execution_count": 1027,
     "metadata": {},
     "output_type": "execute_result"
    }
   ],
   "source": [
    "AA[\"Opponent\"].unique # No errors"
   ]
  },
  {
   "cell_type": "markdown",
   "metadata": {},
   "source": [
    "##### Expressions Oozing:"
   ]
  },
  {
   "cell_type": "code",
   "execution_count": 1028,
   "metadata": {},
   "outputs": [
    {
     "data": {
      "text/plain": [
       "Competition                 object\n",
       "Opponent                    object\n",
       "Opposition Score             int64\n",
       "Tottenham Score              int64\n",
       "Goal Margin                  int64\n",
       "Result (W, D or L)          object\n",
       "Expressionz Reaction (K)     int64\n",
       "Watch along views (K)        int64\n",
       "dtype: object"
      ]
     },
     "execution_count": 1028,
     "metadata": {},
     "output_type": "execute_result"
    }
   ],
   "source": [
    "Ex.dtypes"
   ]
  },
  {
   "cell_type": "code",
   "execution_count": 1029,
   "metadata": {},
   "outputs": [],
   "source": [
    "Ex[\"Watch along views (K)\"].replace(0, np.nan, inplace = True)\n",
    "Ex.dropna(inplace = True)\n",
    "Ex[\"Watch along views (K)\"] = Ex[\"Watch along views (K)\"].astype(int)"
   ]
  },
  {
   "cell_type": "code",
   "execution_count": 1030,
   "metadata": {},
   "outputs": [
    {
     "data": {
      "text/html": [
       "<div>\n",
       "<style scoped>\n",
       "    .dataframe tbody tr th:only-of-type {\n",
       "        vertical-align: middle;\n",
       "    }\n",
       "\n",
       "    .dataframe tbody tr th {\n",
       "        vertical-align: top;\n",
       "    }\n",
       "\n",
       "    .dataframe thead th {\n",
       "        text-align: right;\n",
       "    }\n",
       "</style>\n",
       "<table border=\"1\" class=\"dataframe\">\n",
       "  <thead>\n",
       "    <tr style=\"text-align: right;\">\n",
       "      <th></th>\n",
       "      <th>Competition</th>\n",
       "      <th>Opponent</th>\n",
       "      <th>Opposition Score</th>\n",
       "      <th>Tottenham Score</th>\n",
       "      <th>Goal Margin</th>\n",
       "      <th>Result (W, D or L)</th>\n",
       "      <th>Expressionz Reaction (K)</th>\n",
       "      <th>Watch along views (K)</th>\n",
       "    </tr>\n",
       "  </thead>\n",
       "  <tbody>\n",
       "  </tbody>\n",
       "</table>\n",
       "</div>"
      ],
      "text/plain": [
       "Empty DataFrame\n",
       "Columns: [Competition, Opponent, Opposition Score, Tottenham Score, Goal Margin, Result (W, D or L), Expressionz Reaction (K), Watch along views (K)]\n",
       "Index: []"
      ]
     },
     "execution_count": 1030,
     "metadata": {},
     "output_type": "execute_result"
    }
   ],
   "source": [
    "null_values = Ex[Ex.isnull().any(axis = 1)]\n",
    "null_values # No missing values"
   ]
  },
  {
   "cell_type": "code",
   "execution_count": 1031,
   "metadata": {},
   "outputs": [
    {
     "data": {
      "text/plain": [
       "<bound method Series.unique of 0                Fulham\n",
       "2             Brentford\n",
       "3                 Leeds\n",
       "4                Wolves\n",
       "5                 Stoke\n",
       "6             Leicester\n",
       "7             Liverpool\n",
       "8        Crystal Palace\n",
       "9               Antwerp\n",
       "10              Arsenal\n",
       "11                 LASK\n",
       "12              Chelsea\n",
       "13           Ludogorets\n",
       "14      Manchester City\n",
       "15            West Brom\n",
       "16           Ludogorets\n",
       "17             Brighton\n",
       "18              Antwerp\n",
       "19              Burnley\n",
       "20                 LASK\n",
       "21             West Ham\n",
       "22    Manchester United\n",
       "24              Chelsea\n",
       "25            Newcastle\n",
       "27          Southampton\n",
       "29              Everton\n",
       "Name: Opponent, dtype: object>"
      ]
     },
     "execution_count": 1031,
     "metadata": {},
     "output_type": "execute_result"
    }
   ],
   "source": [
    "Ex[\"Opponent\"].unique # No errors"
   ]
  },
  {
   "cell_type": "markdown",
   "metadata": {},
   "source": [
    "##### The United Stand"
   ]
  },
  {
   "cell_type": "code",
   "execution_count": 1032,
   "metadata": {},
   "outputs": [
    {
     "data": {
      "text/plain": [
       "Competition                object\n",
       "Opponent                   object\n",
       "Opposition Score            int64\n",
       "United Score                int64\n",
       "Goal Margin                 int64\n",
       "Result (W, D or L)         object\n",
       "Goldbridge Reaction (K)     int64\n",
       "Watch along views (K)       int64\n",
       "dtype: object"
      ]
     },
     "execution_count": 1032,
     "metadata": {},
     "output_type": "execute_result"
    }
   ],
   "source": [
    "US.dtypes"
   ]
  },
  {
   "cell_type": "code",
   "execution_count": 1033,
   "metadata": {},
   "outputs": [
    {
     "data": {
      "text/html": [
       "<div>\n",
       "<style scoped>\n",
       "    .dataframe tbody tr th:only-of-type {\n",
       "        vertical-align: middle;\n",
       "    }\n",
       "\n",
       "    .dataframe tbody tr th {\n",
       "        vertical-align: top;\n",
       "    }\n",
       "\n",
       "    .dataframe thead th {\n",
       "        text-align: right;\n",
       "    }\n",
       "</style>\n",
       "<table border=\"1\" class=\"dataframe\">\n",
       "  <thead>\n",
       "    <tr style=\"text-align: right;\">\n",
       "      <th></th>\n",
       "      <th>Competition</th>\n",
       "      <th>Opponent</th>\n",
       "      <th>Opposition Score</th>\n",
       "      <th>United Score</th>\n",
       "      <th>Goal Margin</th>\n",
       "      <th>Result (W, D or L)</th>\n",
       "      <th>Goldbridge Reaction (K)</th>\n",
       "      <th>Watch along views (K)</th>\n",
       "    </tr>\n",
       "  </thead>\n",
       "  <tbody>\n",
       "  </tbody>\n",
       "</table>\n",
       "</div>"
      ],
      "text/plain": [
       "Empty DataFrame\n",
       "Columns: [Competition, Opponent, Opposition Score, United Score, Goal Margin, Result (W, D or L), Goldbridge Reaction (K), Watch along views (K)]\n",
       "Index: []"
      ]
     },
     "execution_count": 1033,
     "metadata": {},
     "output_type": "execute_result"
    }
   ],
   "source": [
    "null_values = US[US.isnull().any(axis = 1)]\n",
    "null_values #No missing values"
   ]
  },
  {
   "cell_type": "code",
   "execution_count": 1034,
   "metadata": {},
   "outputs": [
    {
     "data": {
      "text/plain": [
       "<bound method Series.unique of 0              Burnley\n",
       "1              Watford\n",
       "2      Manchester City\n",
       "3          Aston Villa\n",
       "4               Wolves\n",
       "5            Leicester\n",
       "6              Everton\n",
       "7                Leeds\n",
       "8     Sheffield United\n",
       "9      Manchester City\n",
       "10             Leipzig\n",
       "11            West Ham\n",
       "12                 PSG\n",
       "13         Southampton\n",
       "14          Basaksehir\n",
       "15           West Brom\n",
       "16             Everton\n",
       "17          Basaksehir\n",
       "18             Arsenal\n",
       "19             Leipzig\n",
       "20             Chelsea\n",
       "21                 PSG\n",
       "22           Newcastle\n",
       "23           Tottenham\n",
       "24            Brighton\n",
       "25            Brighton\n",
       "26               Luton\n",
       "27      Crystal Palace\n",
       "Name: Opponent, dtype: object>"
      ]
     },
     "execution_count": 1034,
     "metadata": {},
     "output_type": "execute_result"
    }
   ],
   "source": [
    "US[\"Opponent\"].unique #No errors"
   ]
  },
  {
   "cell_type": "markdown",
   "metadata": {},
   "source": [
    "##### YounesTalksFootball:"
   ]
  },
  {
   "cell_type": "code",
   "execution_count": 1035,
   "metadata": {},
   "outputs": [
    {
     "data": {
      "text/plain": [
       "Competition                        object\n",
       "Opponent                           object\n",
       "Opposition Score                    int64\n",
       "Chelsea Score                       int64\n",
       "Goal Margin                         int64\n",
       "Result (W, D or L)                 object\n",
       "Younes Reaction (K)                 int64\n",
       "Watch along views (K)              object\n",
       "Chelsea FC highlight views (K)    float64\n",
       "dtype: object"
      ]
     },
     "execution_count": 1035,
     "metadata": {},
     "output_type": "execute_result"
    }
   ],
   "source": [
    "Younes.dtypes"
   ]
  },
  {
   "cell_type": "code",
   "execution_count": 1036,
   "metadata": {},
   "outputs": [
    {
     "data": {
      "text/html": [
       "<div>\n",
       "<style scoped>\n",
       "    .dataframe tbody tr th:only-of-type {\n",
       "        vertical-align: middle;\n",
       "    }\n",
       "\n",
       "    .dataframe tbody tr th {\n",
       "        vertical-align: top;\n",
       "    }\n",
       "\n",
       "    .dataframe thead th {\n",
       "        text-align: right;\n",
       "    }\n",
       "</style>\n",
       "<table border=\"1\" class=\"dataframe\">\n",
       "  <thead>\n",
       "    <tr style=\"text-align: right;\">\n",
       "      <th></th>\n",
       "      <th>Competition</th>\n",
       "      <th>Opponent</th>\n",
       "      <th>Opposition Score</th>\n",
       "      <th>Chelsea Score</th>\n",
       "      <th>Goal Margin</th>\n",
       "      <th>Result (W, D or L)</th>\n",
       "      <th>Younes Reaction (K)</th>\n",
       "      <th>Watch along views (K)</th>\n",
       "      <th>Chelsea FC highlight views (K)</th>\n",
       "    </tr>\n",
       "  </thead>\n",
       "  <tbody>\n",
       "    <tr>\n",
       "      <th>0</th>\n",
       "      <td>FA Cup</td>\n",
       "      <td>Morecombe</td>\n",
       "      <td>0</td>\n",
       "      <td>4</td>\n",
       "      <td>4</td>\n",
       "      <td>W</td>\n",
       "      <td>37</td>\n",
       "      <td>38</td>\n",
       "      <td>658.0</td>\n",
       "    </tr>\n",
       "    <tr>\n",
       "      <th>1</th>\n",
       "      <td>Premier League</td>\n",
       "      <td>Manchester City</td>\n",
       "      <td>3</td>\n",
       "      <td>1</td>\n",
       "      <td>-2</td>\n",
       "      <td>L</td>\n",
       "      <td>49</td>\n",
       "      <td>50</td>\n",
       "      <td>2200.0</td>\n",
       "    </tr>\n",
       "    <tr>\n",
       "      <th>2</th>\n",
       "      <td>Premier League</td>\n",
       "      <td>Aston Villa</td>\n",
       "      <td>1</td>\n",
       "      <td>1</td>\n",
       "      <td>0</td>\n",
       "      <td>D</td>\n",
       "      <td>37</td>\n",
       "      <td>58</td>\n",
       "      <td>950.0</td>\n",
       "    </tr>\n",
       "    <tr>\n",
       "      <th>3</th>\n",
       "      <td>Premier League</td>\n",
       "      <td>Arsenal</td>\n",
       "      <td>3</td>\n",
       "      <td>1</td>\n",
       "      <td>-2</td>\n",
       "      <td>L</td>\n",
       "      <td>53</td>\n",
       "      <td>48</td>\n",
       "      <td>2900.0</td>\n",
       "    </tr>\n",
       "    <tr>\n",
       "      <th>4</th>\n",
       "      <td>Premier League</td>\n",
       "      <td>West Ham</td>\n",
       "      <td>0</td>\n",
       "      <td>3</td>\n",
       "      <td>3</td>\n",
       "      <td>W</td>\n",
       "      <td>30</td>\n",
       "      <td>35</td>\n",
       "      <td>1800.0</td>\n",
       "    </tr>\n",
       "  </tbody>\n",
       "</table>\n",
       "</div>"
      ],
      "text/plain": [
       "      Competition         Opponent  Opposition Score  Chelsea Score  \\\n",
       "0          FA Cup        Morecombe                 0              4   \n",
       "1  Premier League  Manchester City                 3              1   \n",
       "2  Premier League      Aston Villa                 1              1   \n",
       "3  Premier League          Arsenal                 3              1   \n",
       "4  Premier League         West Ham                 0              3   \n",
       "\n",
       "   Goal Margin Result (W, D or L)  Younes Reaction (K) Watch along views (K)  \\\n",
       "0            4                  W                   37                    38   \n",
       "1           -2                  L                   49                    50   \n",
       "2            0                  D                   37                    58   \n",
       "3           -2                  L                   53                    48   \n",
       "4            3                  W                   30                    35   \n",
       "\n",
       "   Chelsea FC highlight views (K)  \n",
       "0                           658.0  \n",
       "1                          2200.0  \n",
       "2                           950.0  \n",
       "3                          2900.0  \n",
       "4                          1800.0  "
      ]
     },
     "execution_count": 1036,
     "metadata": {},
     "output_type": "execute_result"
    }
   ],
   "source": [
    "Younes.head()"
   ]
  },
  {
   "cell_type": "code",
   "execution_count": 1037,
   "metadata": {},
   "outputs": [
    {
     "data": {
      "text/html": [
       "<div>\n",
       "<style scoped>\n",
       "    .dataframe tbody tr th:only-of-type {\n",
       "        vertical-align: middle;\n",
       "    }\n",
       "\n",
       "    .dataframe tbody tr th {\n",
       "        vertical-align: top;\n",
       "    }\n",
       "\n",
       "    .dataframe thead th {\n",
       "        text-align: right;\n",
       "    }\n",
       "</style>\n",
       "<table border=\"1\" class=\"dataframe\">\n",
       "  <thead>\n",
       "    <tr style=\"text-align: right;\">\n",
       "      <th></th>\n",
       "      <th>Competition</th>\n",
       "      <th>Opponent</th>\n",
       "      <th>Opposition Score</th>\n",
       "      <th>Chelsea Score</th>\n",
       "      <th>Goal Margin</th>\n",
       "      <th>Result (W, D or L)</th>\n",
       "      <th>Younes Reaction (K)</th>\n",
       "      <th>Watch along views (K)</th>\n",
       "      <th>Chelsea FC highlight views (K)</th>\n",
       "    </tr>\n",
       "  </thead>\n",
       "  <tbody>\n",
       "    <tr>\n",
       "      <th>7</th>\n",
       "      <td>Champions League</td>\n",
       "      <td>Krasnodar</td>\n",
       "      <td>1</td>\n",
       "      <td>1</td>\n",
       "      <td>0</td>\n",
       "      <td>D</td>\n",
       "      <td>26</td>\n",
       "      <td>29</td>\n",
       "      <td>NaN</td>\n",
       "    </tr>\n",
       "    <tr>\n",
       "      <th>9</th>\n",
       "      <td>Champions League</td>\n",
       "      <td>Sevilla</td>\n",
       "      <td>0</td>\n",
       "      <td>4</td>\n",
       "      <td>4</td>\n",
       "      <td>W</td>\n",
       "      <td>38</td>\n",
       "      <td>-</td>\n",
       "      <td>NaN</td>\n",
       "    </tr>\n",
       "    <tr>\n",
       "      <th>11</th>\n",
       "      <td>Champions League</td>\n",
       "      <td>Rennes</td>\n",
       "      <td>1</td>\n",
       "      <td>2</td>\n",
       "      <td>1</td>\n",
       "      <td>W</td>\n",
       "      <td>34</td>\n",
       "      <td>-</td>\n",
       "      <td>NaN</td>\n",
       "    </tr>\n",
       "    <tr>\n",
       "      <th>14</th>\n",
       "      <td>Champions League</td>\n",
       "      <td>Rennes</td>\n",
       "      <td>0</td>\n",
       "      <td>3</td>\n",
       "      <td>3</td>\n",
       "      <td>W</td>\n",
       "      <td>35</td>\n",
       "      <td>-</td>\n",
       "      <td>NaN</td>\n",
       "    </tr>\n",
       "    <tr>\n",
       "      <th>16</th>\n",
       "      <td>Champions League</td>\n",
       "      <td>Krasnodar</td>\n",
       "      <td>0</td>\n",
       "      <td>4</td>\n",
       "      <td>4</td>\n",
       "      <td>W</td>\n",
       "      <td>45</td>\n",
       "      <td>-</td>\n",
       "      <td>NaN</td>\n",
       "    </tr>\n",
       "    <tr>\n",
       "      <th>18</th>\n",
       "      <td>Champions League</td>\n",
       "      <td>Sevilla</td>\n",
       "      <td>0</td>\n",
       "      <td>0</td>\n",
       "      <td>0</td>\n",
       "      <td>D</td>\n",
       "      <td>34</td>\n",
       "      <td>-</td>\n",
       "      <td>NaN</td>\n",
       "    </tr>\n",
       "  </tbody>\n",
       "</table>\n",
       "</div>"
      ],
      "text/plain": [
       "         Competition   Opponent  Opposition Score  Chelsea Score  Goal Margin  \\\n",
       "7   Champions League  Krasnodar                 1              1            0   \n",
       "9   Champions League    Sevilla                 0              4            4   \n",
       "11  Champions League     Rennes                 1              2            1   \n",
       "14  Champions League     Rennes                 0              3            3   \n",
       "16  Champions League  Krasnodar                 0              4            4   \n",
       "18  Champions League    Sevilla                 0              0            0   \n",
       "\n",
       "   Result (W, D or L)  Younes Reaction (K) Watch along views (K)  \\\n",
       "7                   D                   26                    29   \n",
       "9                   W                   38                     -   \n",
       "11                  W                   34                     -   \n",
       "14                  W                   35                     -   \n",
       "16                  W                   45                     -   \n",
       "18                  D                   34                     -   \n",
       "\n",
       "    Chelsea FC highlight views (K)  \n",
       "7                              NaN  \n",
       "9                              NaN  \n",
       "11                             NaN  \n",
       "14                             NaN  \n",
       "16                             NaN  \n",
       "18                             NaN  "
      ]
     },
     "execution_count": 1037,
     "metadata": {},
     "output_type": "execute_result"
    }
   ],
   "source": [
    "null_values = Younes[Younes.isnull().any(axis = 1)]\n",
    "null_values \n",
    "# We can see Chelsea havent uploaded Champions League highlights and Younes didnt do watch alongs to them."
   ]
  },
  {
   "cell_type": "code",
   "execution_count": 1038,
   "metadata": {},
   "outputs": [
    {
     "data": {
      "text/plain": [
       "<bound method Series.unique of 0     38\n",
       "1     50\n",
       "2     58\n",
       "3     48\n",
       "4     35\n",
       "5      -\n",
       "6     37\n",
       "7     29\n",
       "8      -\n",
       "9      -\n",
       "10     -\n",
       "11     -\n",
       "12     -\n",
       "13     -\n",
       "14     -\n",
       "15     -\n",
       "16     -\n",
       "17     -\n",
       "18     -\n",
       "19     -\n",
       "20     -\n",
       "21     -\n",
       "22     -\n",
       "23     -\n",
       "24     -\n",
       "25     -\n",
       "Name: Watch along views (K), dtype: object>"
      ]
     },
     "execution_count": 1038,
     "metadata": {},
     "output_type": "execute_result"
    }
   ],
   "source": [
    "Younes[\"Watch along views (K)\"].unique # Watch along column is useless, we can drop this column"
   ]
  },
  {
   "cell_type": "code",
   "execution_count": 1039,
   "metadata": {},
   "outputs": [
    {
     "data": {
      "text/plain": [
       "<bound method Series.unique of 0      658.0\n",
       "1     2200.0\n",
       "2      950.0\n",
       "3     2900.0\n",
       "4     1800.0\n",
       "5     1300.0\n",
       "6     1100.0\n",
       "7        NaN\n",
       "8     3100.0\n",
       "9        NaN\n",
       "10    1000.0\n",
       "11       NaN\n",
       "12    1600.0\n",
       "13    3500.0\n",
       "14       NaN\n",
       "15    2600.0\n",
       "16       NaN\n",
       "17    2000.0\n",
       "18       NaN\n",
       "19    2700.0\n",
       "20    1900.0\n",
       "21    2300.0\n",
       "22    2700.0\n",
       "23    4100.0\n",
       "24    2700.0\n",
       "25    3000.0\n",
       "Name: Chelsea FC highlight views (K), dtype: float64>"
      ]
     },
     "execution_count": 1039,
     "metadata": {},
     "output_type": "execute_result"
    }
   ],
   "source": [
    "Younes[\"Chelsea FC highlight views (K)\"].unique #We can just drop the Champions League matches"
   ]
  },
  {
   "cell_type": "code",
   "execution_count": 1040,
   "metadata": {},
   "outputs": [],
   "source": [
    "Younes.drop(columns = [\"Watch along views (K)\"], inplace = True)"
   ]
  },
  {
   "cell_type": "code",
   "execution_count": 1041,
   "metadata": {},
   "outputs": [],
   "source": [
    "Younes.dropna(inplace = True)"
   ]
  },
  {
   "cell_type": "code",
   "execution_count": 1042,
   "metadata": {},
   "outputs": [
    {
     "data": {
      "text/html": [
       "<div>\n",
       "<style scoped>\n",
       "    .dataframe tbody tr th:only-of-type {\n",
       "        vertical-align: middle;\n",
       "    }\n",
       "\n",
       "    .dataframe tbody tr th {\n",
       "        vertical-align: top;\n",
       "    }\n",
       "\n",
       "    .dataframe thead th {\n",
       "        text-align: right;\n",
       "    }\n",
       "</style>\n",
       "<table border=\"1\" class=\"dataframe\">\n",
       "  <thead>\n",
       "    <tr style=\"text-align: right;\">\n",
       "      <th></th>\n",
       "      <th>Competition</th>\n",
       "      <th>Opponent</th>\n",
       "      <th>Opposition Score</th>\n",
       "      <th>Chelsea Score</th>\n",
       "      <th>Goal Margin</th>\n",
       "      <th>Result (W, D or L)</th>\n",
       "      <th>Younes Reaction (K)</th>\n",
       "      <th>Chelsea FC highlight views (K)</th>\n",
       "    </tr>\n",
       "  </thead>\n",
       "  <tbody>\n",
       "  </tbody>\n",
       "</table>\n",
       "</div>"
      ],
      "text/plain": [
       "Empty DataFrame\n",
       "Columns: [Competition, Opponent, Opposition Score, Chelsea Score, Goal Margin, Result (W, D or L), Younes Reaction (K), Chelsea FC highlight views (K)]\n",
       "Index: []"
      ]
     },
     "execution_count": 1042,
     "metadata": {},
     "output_type": "execute_result"
    }
   ],
   "source": [
    "null_values = Younes[Younes.isnull().any(axis = 1)]\n",
    "null_values # No null values left"
   ]
  },
  {
   "cell_type": "code",
   "execution_count": 1043,
   "metadata": {},
   "outputs": [
    {
     "data": {
      "text/plain": [
       "<bound method Series.unique of 0             Morecombe\n",
       "1       Manchester City\n",
       "2           Aston Villa\n",
       "3               Arsenal\n",
       "4              West Ham\n",
       "5                Wolves\n",
       "6               Everton\n",
       "8                 Leeds\n",
       "10            Tottenham\n",
       "12            Newcastle\n",
       "13     Sheffield United\n",
       "15              Burnley\n",
       "17    Manchester United\n",
       "19          Southampton\n",
       "20       Crystal Palace\n",
       "21            Tottenham\n",
       "22            West Brom\n",
       "23             Barnsley\n",
       "24            Liverpool\n",
       "25             Brighton\n",
       "Name: Opponent, dtype: object>"
      ]
     },
     "execution_count": 1043,
     "metadata": {},
     "output_type": "execute_result"
    }
   ],
   "source": [
    "Younes[\"Opponent\"].unique # No errors"
   ]
  },
  {
   "cell_type": "markdown",
   "metadata": {},
   "source": [
    "To conclude, for YounesTalksFootball we cant compare the watch alongs, however we have extra data on Chelsea FC's highlight views on YouTube. We can see if the views change when Chelsea either win or lose."
   ]
  },
  {
   "cell_type": "markdown",
   "metadata": {},
   "source": [
    "### AFTV Stats"
   ]
  },
  {
   "cell_type": "code",
   "execution_count": 1044,
   "metadata": {
    "scrolled": true
   },
   "outputs": [
    {
     "data": {
      "text/html": [
       "<div>\n",
       "<style scoped>\n",
       "    .dataframe tbody tr th:only-of-type {\n",
       "        vertical-align: middle;\n",
       "    }\n",
       "\n",
       "    .dataframe tbody tr th {\n",
       "        vertical-align: top;\n",
       "    }\n",
       "\n",
       "    .dataframe thead th {\n",
       "        text-align: right;\n",
       "    }\n",
       "</style>\n",
       "<table border=\"1\" class=\"dataframe\">\n",
       "  <thead>\n",
       "    <tr style=\"text-align: right;\">\n",
       "      <th></th>\n",
       "      <th>Competition</th>\n",
       "      <th>Opponent</th>\n",
       "      <th>Opposition Score</th>\n",
       "      <th>Arsenal Score</th>\n",
       "      <th>Goal Margin</th>\n",
       "      <th>Result (W, D or L)</th>\n",
       "      <th>DT Reaction video views (K)</th>\n",
       "      <th>Watch along views (K)</th>\n",
       "    </tr>\n",
       "  </thead>\n",
       "  <tbody>\n",
       "    <tr>\n",
       "      <th>5</th>\n",
       "      <td>EFL Cup</td>\n",
       "      <td>Manchester City</td>\n",
       "      <td>4</td>\n",
       "      <td>1</td>\n",
       "      <td>-3</td>\n",
       "      <td>L</td>\n",
       "      <td>629</td>\n",
       "      <td>916</td>\n",
       "    </tr>\n",
       "    <tr>\n",
       "      <th>6</th>\n",
       "      <td>Premier League</td>\n",
       "      <td>Everton</td>\n",
       "      <td>2</td>\n",
       "      <td>1</td>\n",
       "      <td>-1</td>\n",
       "      <td>L</td>\n",
       "      <td>699</td>\n",
       "      <td>812</td>\n",
       "    </tr>\n",
       "    <tr>\n",
       "      <th>8</th>\n",
       "      <td>Premier League</td>\n",
       "      <td>Burnley</td>\n",
       "      <td>1</td>\n",
       "      <td>0</td>\n",
       "      <td>-1</td>\n",
       "      <td>L</td>\n",
       "      <td>945</td>\n",
       "      <td>856</td>\n",
       "    </tr>\n",
       "    <tr>\n",
       "      <th>10</th>\n",
       "      <td>Premier League</td>\n",
       "      <td>Tottenham</td>\n",
       "      <td>2</td>\n",
       "      <td>0</td>\n",
       "      <td>-2</td>\n",
       "      <td>L</td>\n",
       "      <td>775</td>\n",
       "      <td>909</td>\n",
       "    </tr>\n",
       "    <tr>\n",
       "      <th>12</th>\n",
       "      <td>Premier League</td>\n",
       "      <td>Wolves</td>\n",
       "      <td>2</td>\n",
       "      <td>1</td>\n",
       "      <td>-1</td>\n",
       "      <td>L</td>\n",
       "      <td>518</td>\n",
       "      <td>559</td>\n",
       "    </tr>\n",
       "    <tr>\n",
       "      <th>15</th>\n",
       "      <td>Premier League</td>\n",
       "      <td>Aston Villa</td>\n",
       "      <td>3</td>\n",
       "      <td>0</td>\n",
       "      <td>-3</td>\n",
       "      <td>L</td>\n",
       "      <td>685</td>\n",
       "      <td>615</td>\n",
       "    </tr>\n",
       "    <tr>\n",
       "      <th>19</th>\n",
       "      <td>Premier League</td>\n",
       "      <td>Leicester</td>\n",
       "      <td>1</td>\n",
       "      <td>0</td>\n",
       "      <td>-1</td>\n",
       "      <td>L</td>\n",
       "      <td>361</td>\n",
       "      <td>365</td>\n",
       "    </tr>\n",
       "    <tr>\n",
       "      <th>21</th>\n",
       "      <td>Premier League</td>\n",
       "      <td>Manchester City</td>\n",
       "      <td>1</td>\n",
       "      <td>0</td>\n",
       "      <td>-1</td>\n",
       "      <td>L</td>\n",
       "      <td>248</td>\n",
       "      <td>291</td>\n",
       "    </tr>\n",
       "    <tr>\n",
       "      <th>24</th>\n",
       "      <td>Premier League</td>\n",
       "      <td>Liverpool</td>\n",
       "      <td>3</td>\n",
       "      <td>1</td>\n",
       "      <td>-2</td>\n",
       "      <td>L</td>\n",
       "      <td>307</td>\n",
       "      <td>448</td>\n",
       "    </tr>\n",
       "  </tbody>\n",
       "</table>\n",
       "</div>"
      ],
      "text/plain": [
       "       Competition         Opponent  Opposition Score  Arsenal Score  \\\n",
       "5          EFL Cup  Manchester City                 4              1   \n",
       "6   Premier League          Everton                 2              1   \n",
       "8   Premier League          Burnley                 1              0   \n",
       "10  Premier League        Tottenham                 2              0   \n",
       "12  Premier League           Wolves                 2              1   \n",
       "15  Premier League      Aston Villa                 3              0   \n",
       "19  Premier League        Leicester                 1              0   \n",
       "21  Premier League  Manchester City                 1              0   \n",
       "24  Premier League        Liverpool                 3              1   \n",
       "\n",
       "    Goal Margin Result (W, D or L)  DT Reaction video views (K)  \\\n",
       "5            -3                  L                          629   \n",
       "6            -1                  L                          699   \n",
       "8            -1                  L                          945   \n",
       "10           -2                  L                          775   \n",
       "12           -1                  L                          518   \n",
       "15           -3                  L                          685   \n",
       "19           -1                  L                          361   \n",
       "21           -1                  L                          248   \n",
       "24           -2                  L                          307   \n",
       "\n",
       "    Watch along views (K)  \n",
       "5                     916  \n",
       "6                     812  \n",
       "8                     856  \n",
       "10                    909  \n",
       "12                    559  \n",
       "15                    615  \n",
       "19                    365  \n",
       "21                    291  \n",
       "24                    448  "
      ]
     },
     "execution_count": 1044,
     "metadata": {},
     "output_type": "execute_result"
    }
   ],
   "source": [
    "AFTV_Ls = aftv[aftv[\"Result (W, D or L)\"] == \"L\"]\n",
    "AFTV_Ls # Table of only Arsenal losses"
   ]
  },
  {
   "cell_type": "code",
   "execution_count": 1045,
   "metadata": {
    "scrolled": true
   },
   "outputs": [
    {
     "data": {
      "text/html": [
       "<div>\n",
       "<style scoped>\n",
       "    .dataframe tbody tr th:only-of-type {\n",
       "        vertical-align: middle;\n",
       "    }\n",
       "\n",
       "    .dataframe tbody tr th {\n",
       "        vertical-align: top;\n",
       "    }\n",
       "\n",
       "    .dataframe thead th {\n",
       "        text-align: right;\n",
       "    }\n",
       "</style>\n",
       "<table border=\"1\" class=\"dataframe\">\n",
       "  <thead>\n",
       "    <tr style=\"text-align: right;\">\n",
       "      <th></th>\n",
       "      <th>Competition</th>\n",
       "      <th>Opponent</th>\n",
       "      <th>Opposition Score</th>\n",
       "      <th>Arsenal Score</th>\n",
       "      <th>Goal Margin</th>\n",
       "      <th>Result (W, D or L)</th>\n",
       "      <th>DT Reaction video views (K)</th>\n",
       "      <th>Watch along views (K)</th>\n",
       "    </tr>\n",
       "  </thead>\n",
       "  <tbody>\n",
       "    <tr>\n",
       "      <th>1</th>\n",
       "      <td>FA Cup</td>\n",
       "      <td>Newcastle</td>\n",
       "      <td>0</td>\n",
       "      <td>2</td>\n",
       "      <td>2</td>\n",
       "      <td>W</td>\n",
       "      <td>198</td>\n",
       "      <td>314</td>\n",
       "    </tr>\n",
       "    <tr>\n",
       "      <th>2</th>\n",
       "      <td>Premier League</td>\n",
       "      <td>West Brom</td>\n",
       "      <td>0</td>\n",
       "      <td>4</td>\n",
       "      <td>4</td>\n",
       "      <td>W</td>\n",
       "      <td>307</td>\n",
       "      <td>416</td>\n",
       "    </tr>\n",
       "    <tr>\n",
       "      <th>3</th>\n",
       "      <td>Premier League</td>\n",
       "      <td>Brighton</td>\n",
       "      <td>0</td>\n",
       "      <td>1</td>\n",
       "      <td>1</td>\n",
       "      <td>W</td>\n",
       "      <td>247</td>\n",
       "      <td>376</td>\n",
       "    </tr>\n",
       "    <tr>\n",
       "      <th>4</th>\n",
       "      <td>Premier League</td>\n",
       "      <td>Chelsea</td>\n",
       "      <td>1</td>\n",
       "      <td>3</td>\n",
       "      <td>2</td>\n",
       "      <td>W</td>\n",
       "      <td>535</td>\n",
       "      <td>783</td>\n",
       "    </tr>\n",
       "    <tr>\n",
       "      <th>9</th>\n",
       "      <td>Europa League</td>\n",
       "      <td>Dundalk</td>\n",
       "      <td>2</td>\n",
       "      <td>4</td>\n",
       "      <td>2</td>\n",
       "      <td>W</td>\n",
       "      <td>201</td>\n",
       "      <td>206</td>\n",
       "    </tr>\n",
       "    <tr>\n",
       "      <th>11</th>\n",
       "      <td>Europa League</td>\n",
       "      <td>Rapid Vienna</td>\n",
       "      <td>1</td>\n",
       "      <td>4</td>\n",
       "      <td>3</td>\n",
       "      <td>W</td>\n",
       "      <td>206</td>\n",
       "      <td>201</td>\n",
       "    </tr>\n",
       "    <tr>\n",
       "      <th>13</th>\n",
       "      <td>Europa League</td>\n",
       "      <td>Molde</td>\n",
       "      <td>0</td>\n",
       "      <td>3</td>\n",
       "      <td>3</td>\n",
       "      <td>W</td>\n",
       "      <td>151</td>\n",
       "      <td>156</td>\n",
       "    </tr>\n",
       "    <tr>\n",
       "      <th>16</th>\n",
       "      <td>Europa League</td>\n",
       "      <td>Molde</td>\n",
       "      <td>1</td>\n",
       "      <td>4</td>\n",
       "      <td>3</td>\n",
       "      <td>W</td>\n",
       "      <td>116</td>\n",
       "      <td>190</td>\n",
       "    </tr>\n",
       "    <tr>\n",
       "      <th>17</th>\n",
       "      <td>Premier League</td>\n",
       "      <td>Manchester United</td>\n",
       "      <td>0</td>\n",
       "      <td>1</td>\n",
       "      <td>1</td>\n",
       "      <td>W</td>\n",
       "      <td>367</td>\n",
       "      <td>570</td>\n",
       "    </tr>\n",
       "    <tr>\n",
       "      <th>18</th>\n",
       "      <td>Europa League</td>\n",
       "      <td>Dundalk</td>\n",
       "      <td>0</td>\n",
       "      <td>3</td>\n",
       "      <td>3</td>\n",
       "      <td>W</td>\n",
       "      <td>159</td>\n",
       "      <td>236</td>\n",
       "    </tr>\n",
       "    <tr>\n",
       "      <th>20</th>\n",
       "      <td>Europa League</td>\n",
       "      <td>Rapid Vienna</td>\n",
       "      <td>1</td>\n",
       "      <td>2</td>\n",
       "      <td>1</td>\n",
       "      <td>W</td>\n",
       "      <td>175</td>\n",
       "      <td>191</td>\n",
       "    </tr>\n",
       "    <tr>\n",
       "      <th>22</th>\n",
       "      <td>Premier League</td>\n",
       "      <td>Sheffield United</td>\n",
       "      <td>1</td>\n",
       "      <td>2</td>\n",
       "      <td>1</td>\n",
       "      <td>W</td>\n",
       "      <td>176</td>\n",
       "      <td>234</td>\n",
       "    </tr>\n",
       "    <tr>\n",
       "      <th>23</th>\n",
       "      <td>EFL Cup</td>\n",
       "      <td>Liverpool</td>\n",
       "      <td>0</td>\n",
       "      <td>1</td>\n",
       "      <td>1</td>\n",
       "      <td>W</td>\n",
       "      <td>197</td>\n",
       "      <td>328</td>\n",
       "    </tr>\n",
       "    <tr>\n",
       "      <th>26</th>\n",
       "      <td>Premier League</td>\n",
       "      <td>West Ham</td>\n",
       "      <td>1</td>\n",
       "      <td>2</td>\n",
       "      <td>1</td>\n",
       "      <td>W</td>\n",
       "      <td>288</td>\n",
       "      <td>284</td>\n",
       "    </tr>\n",
       "  </tbody>\n",
       "</table>\n",
       "</div>"
      ],
      "text/plain": [
       "       Competition           Opponent  Opposition Score  Arsenal Score  \\\n",
       "1           FA Cup          Newcastle                 0              2   \n",
       "2   Premier League          West Brom                 0              4   \n",
       "3   Premier League           Brighton                 0              1   \n",
       "4   Premier League            Chelsea                 1              3   \n",
       "9    Europa League            Dundalk                 2              4   \n",
       "11   Europa League       Rapid Vienna                 1              4   \n",
       "13   Europa League              Molde                 0              3   \n",
       "16   Europa League              Molde                 1              4   \n",
       "17  Premier League  Manchester United                 0              1   \n",
       "18   Europa League            Dundalk                 0              3   \n",
       "20   Europa League       Rapid Vienna                 1              2   \n",
       "22  Premier League   Sheffield United                 1              2   \n",
       "23         EFL Cup          Liverpool                 0              1   \n",
       "26  Premier League           West Ham                 1              2   \n",
       "\n",
       "    Goal Margin Result (W, D or L)  DT Reaction video views (K)  \\\n",
       "1             2                  W                          198   \n",
       "2             4                  W                          307   \n",
       "3             1                  W                          247   \n",
       "4             2                  W                          535   \n",
       "9             2                  W                          201   \n",
       "11            3                  W                          206   \n",
       "13            3                  W                          151   \n",
       "16            3                  W                          116   \n",
       "17            1                  W                          367   \n",
       "18            3                  W                          159   \n",
       "20            1                  W                          175   \n",
       "22            1                  W                          176   \n",
       "23            1                  W                          197   \n",
       "26            1                  W                          288   \n",
       "\n",
       "    Watch along views (K)  \n",
       "1                     314  \n",
       "2                     416  \n",
       "3                     376  \n",
       "4                     783  \n",
       "9                     206  \n",
       "11                    201  \n",
       "13                    156  \n",
       "16                    190  \n",
       "17                    570  \n",
       "18                    236  \n",
       "20                    191  \n",
       "22                    234  \n",
       "23                    328  \n",
       "26                    284  "
      ]
     },
     "execution_count": 1045,
     "metadata": {},
     "output_type": "execute_result"
    }
   ],
   "source": [
    "AFTV_Ws = aftv[aftv[\"Result (W, D or L)\"] == \"W\"]\n",
    "AFTV_Ws # Table of only Arsenal wins"
   ]
  },
  {
   "cell_type": "markdown",
   "metadata": {},
   "source": [
    "###### For DT videos:"
   ]
  },
  {
   "cell_type": "code",
   "execution_count": 1046,
   "metadata": {},
   "outputs": [
    {
     "data": {
      "text/plain": [
       "574.1111111111111"
      ]
     },
     "execution_count": 1046,
     "metadata": {},
     "output_type": "execute_result"
    }
   ],
   "source": [
    "dt_avg_views_Ls = AFTV_Ls[\"DT Reaction video views (K)\"].mean() \n",
    "dt_avg_views_Ls\n",
    "# Average number of views DT reaction videos receive when Arsenal lose."
   ]
  },
  {
   "cell_type": "code",
   "execution_count": 1047,
   "metadata": {},
   "outputs": [
    {
     "data": {
      "text/plain": [
       "237.35714285714286"
      ]
     },
     "execution_count": 1047,
     "metadata": {},
     "output_type": "execute_result"
    }
   ],
   "source": [
    "dt_avg_views_Ws = AFTV_Ws[\"DT Reaction video views (K)\"].mean() \n",
    "dt_avg_views_Ws\n",
    "# Average number of views DT reaction videos receive when Arsenal win."
   ]
  },
  {
   "cell_type": "code",
   "execution_count": 1048,
   "metadata": {},
   "outputs": [
    {
     "data": {
      "text/plain": [
       "141.8764837663423"
      ]
     },
     "execution_count": 1048,
     "metadata": {},
     "output_type": "execute_result"
    }
   ],
   "source": [
    "res = dt_avg_views_Ls - dt_avg_views_Ws\n",
    "dt_res = res / dt_avg_views_Ws * 100  \n",
    "dt_res\n",
    "# Percentage increased number of views DT receives when Arsenal lose."
   ]
  },
  {
   "cell_type": "code",
   "execution_count": 1049,
   "metadata": {},
   "outputs": [
    {
     "data": {
      "text/plain": [
       "2.418764837663423"
      ]
     },
     "execution_count": 1049,
     "metadata": {},
     "output_type": "execute_result"
    }
   ],
   "source": [
    "deci_dt = dt_avg_views_Ls / dt_avg_views_Ws \n",
    "deci_dt\n",
    "# Number of times more views DT receives when Arsenal lose compared to when they win."
   ]
  },
  {
   "cell_type": "code",
   "execution_count": 1050,
   "metadata": {},
   "outputs": [
    {
     "data": {
      "text/html": [
       "<div>\n",
       "<style scoped>\n",
       "    .dataframe tbody tr th:only-of-type {\n",
       "        vertical-align: middle;\n",
       "    }\n",
       "\n",
       "    .dataframe tbody tr th {\n",
       "        vertical-align: top;\n",
       "    }\n",
       "\n",
       "    .dataframe thead th {\n",
       "        text-align: right;\n",
       "    }\n",
       "</style>\n",
       "<table border=\"1\" class=\"dataframe\">\n",
       "  <thead>\n",
       "    <tr style=\"text-align: right;\">\n",
       "      <th></th>\n",
       "      <th>Opponent</th>\n",
       "      <th>Goal Margin</th>\n",
       "      <th>Result (W, D or L)</th>\n",
       "      <th>DT Reaction video views (K)</th>\n",
       "    </tr>\n",
       "  </thead>\n",
       "  <tbody>\n",
       "    <tr>\n",
       "      <th>0</th>\n",
       "      <td>Crystal Palace</td>\n",
       "      <td>0</td>\n",
       "      <td>D</td>\n",
       "      <td>136</td>\n",
       "    </tr>\n",
       "    <tr>\n",
       "      <th>1</th>\n",
       "      <td>Newcastle</td>\n",
       "      <td>2</td>\n",
       "      <td>W</td>\n",
       "      <td>198</td>\n",
       "    </tr>\n",
       "    <tr>\n",
       "      <th>2</th>\n",
       "      <td>West Brom</td>\n",
       "      <td>4</td>\n",
       "      <td>W</td>\n",
       "      <td>307</td>\n",
       "    </tr>\n",
       "    <tr>\n",
       "      <th>3</th>\n",
       "      <td>Brighton</td>\n",
       "      <td>1</td>\n",
       "      <td>W</td>\n",
       "      <td>247</td>\n",
       "    </tr>\n",
       "    <tr>\n",
       "      <th>4</th>\n",
       "      <td>Chelsea</td>\n",
       "      <td>2</td>\n",
       "      <td>W</td>\n",
       "      <td>535</td>\n",
       "    </tr>\n",
       "    <tr>\n",
       "      <th>5</th>\n",
       "      <td>Manchester City</td>\n",
       "      <td>-3</td>\n",
       "      <td>L</td>\n",
       "      <td>629</td>\n",
       "    </tr>\n",
       "    <tr>\n",
       "      <th>6</th>\n",
       "      <td>Everton</td>\n",
       "      <td>-1</td>\n",
       "      <td>L</td>\n",
       "      <td>699</td>\n",
       "    </tr>\n",
       "    <tr>\n",
       "      <th>7</th>\n",
       "      <td>Southampton</td>\n",
       "      <td>0</td>\n",
       "      <td>D</td>\n",
       "      <td>400</td>\n",
       "    </tr>\n",
       "    <tr>\n",
       "      <th>8</th>\n",
       "      <td>Burnley</td>\n",
       "      <td>-1</td>\n",
       "      <td>L</td>\n",
       "      <td>945</td>\n",
       "    </tr>\n",
       "    <tr>\n",
       "      <th>9</th>\n",
       "      <td>Dundalk</td>\n",
       "      <td>2</td>\n",
       "      <td>W</td>\n",
       "      <td>201</td>\n",
       "    </tr>\n",
       "    <tr>\n",
       "      <th>10</th>\n",
       "      <td>Tottenham</td>\n",
       "      <td>-2</td>\n",
       "      <td>L</td>\n",
       "      <td>775</td>\n",
       "    </tr>\n",
       "    <tr>\n",
       "      <th>11</th>\n",
       "      <td>Rapid Vienna</td>\n",
       "      <td>3</td>\n",
       "      <td>W</td>\n",
       "      <td>206</td>\n",
       "    </tr>\n",
       "    <tr>\n",
       "      <th>12</th>\n",
       "      <td>Wolves</td>\n",
       "      <td>-1</td>\n",
       "      <td>L</td>\n",
       "      <td>518</td>\n",
       "    </tr>\n",
       "    <tr>\n",
       "      <th>13</th>\n",
       "      <td>Molde</td>\n",
       "      <td>3</td>\n",
       "      <td>W</td>\n",
       "      <td>151</td>\n",
       "    </tr>\n",
       "    <tr>\n",
       "      <th>14</th>\n",
       "      <td>Leeds</td>\n",
       "      <td>0</td>\n",
       "      <td>D</td>\n",
       "      <td>296</td>\n",
       "    </tr>\n",
       "    <tr>\n",
       "      <th>15</th>\n",
       "      <td>Aston Villa</td>\n",
       "      <td>-3</td>\n",
       "      <td>L</td>\n",
       "      <td>685</td>\n",
       "    </tr>\n",
       "    <tr>\n",
       "      <th>16</th>\n",
       "      <td>Molde</td>\n",
       "      <td>3</td>\n",
       "      <td>W</td>\n",
       "      <td>116</td>\n",
       "    </tr>\n",
       "    <tr>\n",
       "      <th>17</th>\n",
       "      <td>Manchester United</td>\n",
       "      <td>1</td>\n",
       "      <td>W</td>\n",
       "      <td>367</td>\n",
       "    </tr>\n",
       "    <tr>\n",
       "      <th>18</th>\n",
       "      <td>Dundalk</td>\n",
       "      <td>3</td>\n",
       "      <td>W</td>\n",
       "      <td>159</td>\n",
       "    </tr>\n",
       "    <tr>\n",
       "      <th>19</th>\n",
       "      <td>Leicester</td>\n",
       "      <td>-1</td>\n",
       "      <td>L</td>\n",
       "      <td>361</td>\n",
       "    </tr>\n",
       "    <tr>\n",
       "      <th>20</th>\n",
       "      <td>Rapid Vienna</td>\n",
       "      <td>1</td>\n",
       "      <td>W</td>\n",
       "      <td>175</td>\n",
       "    </tr>\n",
       "    <tr>\n",
       "      <th>21</th>\n",
       "      <td>Manchester City</td>\n",
       "      <td>-1</td>\n",
       "      <td>L</td>\n",
       "      <td>248</td>\n",
       "    </tr>\n",
       "    <tr>\n",
       "      <th>22</th>\n",
       "      <td>Sheffield United</td>\n",
       "      <td>1</td>\n",
       "      <td>W</td>\n",
       "      <td>176</td>\n",
       "    </tr>\n",
       "    <tr>\n",
       "      <th>23</th>\n",
       "      <td>Liverpool</td>\n",
       "      <td>1</td>\n",
       "      <td>W</td>\n",
       "      <td>197</td>\n",
       "    </tr>\n",
       "    <tr>\n",
       "      <th>24</th>\n",
       "      <td>Liverpool</td>\n",
       "      <td>-2</td>\n",
       "      <td>L</td>\n",
       "      <td>307</td>\n",
       "    </tr>\n",
       "    <tr>\n",
       "      <th>26</th>\n",
       "      <td>West Ham</td>\n",
       "      <td>1</td>\n",
       "      <td>W</td>\n",
       "      <td>288</td>\n",
       "    </tr>\n",
       "  </tbody>\n",
       "</table>\n",
       "</div>"
      ],
      "text/plain": [
       "             Opponent  Goal Margin Result (W, D or L)  \\\n",
       "0      Crystal Palace            0                  D   \n",
       "1           Newcastle            2                  W   \n",
       "2           West Brom            4                  W   \n",
       "3            Brighton            1                  W   \n",
       "4             Chelsea            2                  W   \n",
       "5     Manchester City           -3                  L   \n",
       "6             Everton           -1                  L   \n",
       "7         Southampton            0                  D   \n",
       "8             Burnley           -1                  L   \n",
       "9             Dundalk            2                  W   \n",
       "10          Tottenham           -2                  L   \n",
       "11       Rapid Vienna            3                  W   \n",
       "12             Wolves           -1                  L   \n",
       "13              Molde            3                  W   \n",
       "14              Leeds            0                  D   \n",
       "15        Aston Villa           -3                  L   \n",
       "16              Molde            3                  W   \n",
       "17  Manchester United            1                  W   \n",
       "18            Dundalk            3                  W   \n",
       "19          Leicester           -1                  L   \n",
       "20       Rapid Vienna            1                  W   \n",
       "21    Manchester City           -1                  L   \n",
       "22   Sheffield United            1                  W   \n",
       "23          Liverpool            1                  W   \n",
       "24          Liverpool           -2                  L   \n",
       "26           West Ham            1                  W   \n",
       "\n",
       "    DT Reaction video views (K)  \n",
       "0                           136  \n",
       "1                           198  \n",
       "2                           307  \n",
       "3                           247  \n",
       "4                           535  \n",
       "5                           629  \n",
       "6                           699  \n",
       "7                           400  \n",
       "8                           945  \n",
       "9                           201  \n",
       "10                          775  \n",
       "11                          206  \n",
       "12                          518  \n",
       "13                          151  \n",
       "14                          296  \n",
       "15                          685  \n",
       "16                          116  \n",
       "17                          367  \n",
       "18                          159  \n",
       "19                          361  \n",
       "20                          175  \n",
       "21                          248  \n",
       "22                          176  \n",
       "23                          197  \n",
       "24                          307  \n",
       "26                          288  "
      ]
     },
     "execution_count": 1050,
     "metadata": {},
     "output_type": "execute_result"
    }
   ],
   "source": [
    "df = aftv[[\"Opponent\", \"Goal Margin\", \"Result (W, D or L)\", \"DT Reaction video views (K)\"]]\n",
    "df"
   ]
  },
  {
   "cell_type": "code",
   "execution_count": 1051,
   "metadata": {},
   "outputs": [
    {
     "data": {
      "text/html": [
       "<div>\n",
       "<style scoped>\n",
       "    .dataframe tbody tr th:only-of-type {\n",
       "        vertical-align: middle;\n",
       "    }\n",
       "\n",
       "    .dataframe tbody tr th {\n",
       "        vertical-align: top;\n",
       "    }\n",
       "\n",
       "    .dataframe thead th {\n",
       "        text-align: right;\n",
       "    }\n",
       "</style>\n",
       "<table border=\"1\" class=\"dataframe\">\n",
       "  <thead>\n",
       "    <tr style=\"text-align: right;\">\n",
       "      <th></th>\n",
       "      <th>Opponent</th>\n",
       "      <th>Goal Margin</th>\n",
       "      <th>Result (W, D or L)</th>\n",
       "      <th>DT Reaction video views (K)</th>\n",
       "    </tr>\n",
       "  </thead>\n",
       "  <tbody>\n",
       "    <tr>\n",
       "      <th>15</th>\n",
       "      <td>Aston Villa</td>\n",
       "      <td>-3</td>\n",
       "      <td>L</td>\n",
       "      <td>685</td>\n",
       "    </tr>\n",
       "    <tr>\n",
       "      <th>5</th>\n",
       "      <td>Manchester City</td>\n",
       "      <td>-3</td>\n",
       "      <td>L</td>\n",
       "      <td>629</td>\n",
       "    </tr>\n",
       "    <tr>\n",
       "      <th>24</th>\n",
       "      <td>Liverpool</td>\n",
       "      <td>-2</td>\n",
       "      <td>L</td>\n",
       "      <td>307</td>\n",
       "    </tr>\n",
       "    <tr>\n",
       "      <th>10</th>\n",
       "      <td>Tottenham</td>\n",
       "      <td>-2</td>\n",
       "      <td>L</td>\n",
       "      <td>775</td>\n",
       "    </tr>\n",
       "    <tr>\n",
       "      <th>12</th>\n",
       "      <td>Wolves</td>\n",
       "      <td>-1</td>\n",
       "      <td>L</td>\n",
       "      <td>518</td>\n",
       "    </tr>\n",
       "    <tr>\n",
       "      <th>21</th>\n",
       "      <td>Manchester City</td>\n",
       "      <td>-1</td>\n",
       "      <td>L</td>\n",
       "      <td>248</td>\n",
       "    </tr>\n",
       "    <tr>\n",
       "      <th>19</th>\n",
       "      <td>Leicester</td>\n",
       "      <td>-1</td>\n",
       "      <td>L</td>\n",
       "      <td>361</td>\n",
       "    </tr>\n",
       "    <tr>\n",
       "      <th>6</th>\n",
       "      <td>Everton</td>\n",
       "      <td>-1</td>\n",
       "      <td>L</td>\n",
       "      <td>699</td>\n",
       "    </tr>\n",
       "    <tr>\n",
       "      <th>8</th>\n",
       "      <td>Burnley</td>\n",
       "      <td>-1</td>\n",
       "      <td>L</td>\n",
       "      <td>945</td>\n",
       "    </tr>\n",
       "    <tr>\n",
       "      <th>14</th>\n",
       "      <td>Leeds</td>\n",
       "      <td>0</td>\n",
       "      <td>D</td>\n",
       "      <td>296</td>\n",
       "    </tr>\n",
       "    <tr>\n",
       "      <th>0</th>\n",
       "      <td>Crystal Palace</td>\n",
       "      <td>0</td>\n",
       "      <td>D</td>\n",
       "      <td>136</td>\n",
       "    </tr>\n",
       "    <tr>\n",
       "      <th>7</th>\n",
       "      <td>Southampton</td>\n",
       "      <td>0</td>\n",
       "      <td>D</td>\n",
       "      <td>400</td>\n",
       "    </tr>\n",
       "    <tr>\n",
       "      <th>3</th>\n",
       "      <td>Brighton</td>\n",
       "      <td>1</td>\n",
       "      <td>W</td>\n",
       "      <td>247</td>\n",
       "    </tr>\n",
       "    <tr>\n",
       "      <th>17</th>\n",
       "      <td>Manchester United</td>\n",
       "      <td>1</td>\n",
       "      <td>W</td>\n",
       "      <td>367</td>\n",
       "    </tr>\n",
       "    <tr>\n",
       "      <th>20</th>\n",
       "      <td>Rapid Vienna</td>\n",
       "      <td>1</td>\n",
       "      <td>W</td>\n",
       "      <td>175</td>\n",
       "    </tr>\n",
       "    <tr>\n",
       "      <th>22</th>\n",
       "      <td>Sheffield United</td>\n",
       "      <td>1</td>\n",
       "      <td>W</td>\n",
       "      <td>176</td>\n",
       "    </tr>\n",
       "    <tr>\n",
       "      <th>23</th>\n",
       "      <td>Liverpool</td>\n",
       "      <td>1</td>\n",
       "      <td>W</td>\n",
       "      <td>197</td>\n",
       "    </tr>\n",
       "    <tr>\n",
       "      <th>26</th>\n",
       "      <td>West Ham</td>\n",
       "      <td>1</td>\n",
       "      <td>W</td>\n",
       "      <td>288</td>\n",
       "    </tr>\n",
       "    <tr>\n",
       "      <th>4</th>\n",
       "      <td>Chelsea</td>\n",
       "      <td>2</td>\n",
       "      <td>W</td>\n",
       "      <td>535</td>\n",
       "    </tr>\n",
       "    <tr>\n",
       "      <th>1</th>\n",
       "      <td>Newcastle</td>\n",
       "      <td>2</td>\n",
       "      <td>W</td>\n",
       "      <td>198</td>\n",
       "    </tr>\n",
       "    <tr>\n",
       "      <th>9</th>\n",
       "      <td>Dundalk</td>\n",
       "      <td>2</td>\n",
       "      <td>W</td>\n",
       "      <td>201</td>\n",
       "    </tr>\n",
       "    <tr>\n",
       "      <th>11</th>\n",
       "      <td>Rapid Vienna</td>\n",
       "      <td>3</td>\n",
       "      <td>W</td>\n",
       "      <td>206</td>\n",
       "    </tr>\n",
       "    <tr>\n",
       "      <th>13</th>\n",
       "      <td>Molde</td>\n",
       "      <td>3</td>\n",
       "      <td>W</td>\n",
       "      <td>151</td>\n",
       "    </tr>\n",
       "    <tr>\n",
       "      <th>16</th>\n",
       "      <td>Molde</td>\n",
       "      <td>3</td>\n",
       "      <td>W</td>\n",
       "      <td>116</td>\n",
       "    </tr>\n",
       "    <tr>\n",
       "      <th>18</th>\n",
       "      <td>Dundalk</td>\n",
       "      <td>3</td>\n",
       "      <td>W</td>\n",
       "      <td>159</td>\n",
       "    </tr>\n",
       "    <tr>\n",
       "      <th>2</th>\n",
       "      <td>West Brom</td>\n",
       "      <td>4</td>\n",
       "      <td>W</td>\n",
       "      <td>307</td>\n",
       "    </tr>\n",
       "  </tbody>\n",
       "</table>\n",
       "</div>"
      ],
      "text/plain": [
       "             Opponent  Goal Margin Result (W, D or L)  \\\n",
       "15        Aston Villa           -3                  L   \n",
       "5     Manchester City           -3                  L   \n",
       "24          Liverpool           -2                  L   \n",
       "10          Tottenham           -2                  L   \n",
       "12             Wolves           -1                  L   \n",
       "21    Manchester City           -1                  L   \n",
       "19          Leicester           -1                  L   \n",
       "6             Everton           -1                  L   \n",
       "8             Burnley           -1                  L   \n",
       "14              Leeds            0                  D   \n",
       "0      Crystal Palace            0                  D   \n",
       "7         Southampton            0                  D   \n",
       "3            Brighton            1                  W   \n",
       "17  Manchester United            1                  W   \n",
       "20       Rapid Vienna            1                  W   \n",
       "22   Sheffield United            1                  W   \n",
       "23          Liverpool            1                  W   \n",
       "26           West Ham            1                  W   \n",
       "4             Chelsea            2                  W   \n",
       "1           Newcastle            2                  W   \n",
       "9             Dundalk            2                  W   \n",
       "11       Rapid Vienna            3                  W   \n",
       "13              Molde            3                  W   \n",
       "16              Molde            3                  W   \n",
       "18            Dundalk            3                  W   \n",
       "2           West Brom            4                  W   \n",
       "\n",
       "    DT Reaction video views (K)  \n",
       "15                          685  \n",
       "5                           629  \n",
       "24                          307  \n",
       "10                          775  \n",
       "12                          518  \n",
       "21                          248  \n",
       "19                          361  \n",
       "6                           699  \n",
       "8                           945  \n",
       "14                          296  \n",
       "0                           136  \n",
       "7                           400  \n",
       "3                           247  \n",
       "17                          367  \n",
       "20                          175  \n",
       "22                          176  \n",
       "23                          197  \n",
       "26                          288  \n",
       "4                           535  \n",
       "1                           198  \n",
       "9                           201  \n",
       "11                          206  \n",
       "13                          151  \n",
       "16                          116  \n",
       "18                          159  \n",
       "2                           307  "
      ]
     },
     "execution_count": 1051,
     "metadata": {},
     "output_type": "execute_result"
    }
   ],
   "source": [
    "df.sort_values(\"Goal Margin\", ascending = True)\n",
    "# We can see how the views are lower when Arsenal win."
   ]
  },
  {
   "cell_type": "code",
   "execution_count": 1052,
   "metadata": {},
   "outputs": [
    {
     "data": {
      "text/plain": [
       "Text(0, 0.5, 'Number of views (K)')"
      ]
     },
     "execution_count": 1052,
     "metadata": {},
     "output_type": "execute_result"
    },
    {
     "data": {
      "image/png": "[encoded data removed]",
      "text/plain": [
       "<Figure size 432x288 with 1 Axes>"
      ]
     },
     "metadata": {},
     "output_type": "display_data"
    }
   ],
   "source": [
    "sns.barplot(x = df[\"Goal Margin\"], y = df[\"DT Reaction video views (K)\"])\n",
    "plt.xticks(rotation = 90)\n",
    "plt.xlabel(\"Goal Margin\")\n",
    "plt.ylabel(\"Number of views (K)\")\n",
    "# Error bars suggest the highest and lowest views from a set of videos featuring a particular goal margin."
   ]
  },
  {
   "cell_type": "markdown",
   "metadata": {},
   "source": [
    "###### For watch along videos:"
   ]
  },
  {
   "cell_type": "code",
   "execution_count": 1053,
   "metadata": {},
   "outputs": [
    {
     "data": {
      "text/plain": [
       "641.2222222222222"
      ]
     },
     "execution_count": 1053,
     "metadata": {},
     "output_type": "execute_result"
    }
   ],
   "source": [
    "aftv_avg_views_wa_Ls = AFTV_Ls[\"Watch along views (K)\"].mean()\n",
    "aftv_avg_views_wa_Ls # Average views on AFTV's watch along videos when Arsenal lose. "
   ]
  },
  {
   "cell_type": "code",
   "execution_count": 1054,
   "metadata": {},
   "outputs": [
    {
     "data": {
      "text/plain": [
       "320.35714285714283"
      ]
     },
     "execution_count": 1054,
     "metadata": {},
     "output_type": "execute_result"
    }
   ],
   "source": [
    "aftv_avg_views_wa_Ws = AFTV_Ws[\"Watch along views (K)\"].mean()\n",
    "aftv_avg_views_wa_Ws # Average views on AFTV's watch along videos when Arsenal win."
   ]
  },
  {
   "cell_type": "code",
   "execution_count": 1055,
   "metadata": {},
   "outputs": [
    {
     "data": {
      "text/plain": [
       "21.699471915506496"
      ]
     },
     "execution_count": 1055,
     "metadata": {},
     "output_type": "execute_result"
    }
   ],
   "source": [
    "res = avg_views_wa_Ls - avg_views_wa_Ws\n",
    "aftv_res = res / avg_views_wa_Ws * 100 \n",
    "aftv_res\n",
    "# Percentage increase on AFTV's average views on watch alongs. 100% more views when Arsenal lose. "
   ]
  },
  {
   "cell_type": "code",
   "execution_count": 1056,
   "metadata": {},
   "outputs": [
    {
     "data": {
      "text/plain": [
       "2.0015855320203144"
      ]
     },
     "execution_count": 1056,
     "metadata": {},
     "output_type": "execute_result"
    }
   ],
   "source": [
    "deci_aftv = aftv_avg_views_wa_Ls / aftv_avg_views_wa_Ws \n",
    "deci_aftv\n",
    "# 2 times the amount of people tune in when Arsenal are losing. "
   ]
  },
  {
   "cell_type": "code",
   "execution_count": 1057,
   "metadata": {},
   "outputs": [],
   "source": [
    "df = aftv[[\"Opponent\", \"Goal Margin\", \"Result (W, D or L)\", \"Watch along views (K)\"]]"
   ]
  },
  {
   "cell_type": "code",
   "execution_count": 1058,
   "metadata": {},
   "outputs": [
    {
     "data": {
      "text/html": [
       "<div>\n",
       "<style scoped>\n",
       "    .dataframe tbody tr th:only-of-type {\n",
       "        vertical-align: middle;\n",
       "    }\n",
       "\n",
       "    .dataframe tbody tr th {\n",
       "        vertical-align: top;\n",
       "    }\n",
       "\n",
       "    .dataframe thead th {\n",
       "        text-align: right;\n",
       "    }\n",
       "</style>\n",
       "<table border=\"1\" class=\"dataframe\">\n",
       "  <thead>\n",
       "    <tr style=\"text-align: right;\">\n",
       "      <th></th>\n",
       "      <th>Opponent</th>\n",
       "      <th>Goal Margin</th>\n",
       "      <th>Result (W, D or L)</th>\n",
       "      <th>Watch along views (K)</th>\n",
       "    </tr>\n",
       "  </thead>\n",
       "  <tbody>\n",
       "    <tr>\n",
       "      <th>15</th>\n",
       "      <td>Aston Villa</td>\n",
       "      <td>-3</td>\n",
       "      <td>L</td>\n",
       "      <td>615</td>\n",
       "    </tr>\n",
       "    <tr>\n",
       "      <th>5</th>\n",
       "      <td>Manchester City</td>\n",
       "      <td>-3</td>\n",
       "      <td>L</td>\n",
       "      <td>916</td>\n",
       "    </tr>\n",
       "    <tr>\n",
       "      <th>24</th>\n",
       "      <td>Liverpool</td>\n",
       "      <td>-2</td>\n",
       "      <td>L</td>\n",
       "      <td>448</td>\n",
       "    </tr>\n",
       "    <tr>\n",
       "      <th>10</th>\n",
       "      <td>Tottenham</td>\n",
       "      <td>-2</td>\n",
       "      <td>L</td>\n",
       "      <td>909</td>\n",
       "    </tr>\n",
       "    <tr>\n",
       "      <th>12</th>\n",
       "      <td>Wolves</td>\n",
       "      <td>-1</td>\n",
       "      <td>L</td>\n",
       "      <td>559</td>\n",
       "    </tr>\n",
       "    <tr>\n",
       "      <th>21</th>\n",
       "      <td>Manchester City</td>\n",
       "      <td>-1</td>\n",
       "      <td>L</td>\n",
       "      <td>291</td>\n",
       "    </tr>\n",
       "    <tr>\n",
       "      <th>19</th>\n",
       "      <td>Leicester</td>\n",
       "      <td>-1</td>\n",
       "      <td>L</td>\n",
       "      <td>365</td>\n",
       "    </tr>\n",
       "    <tr>\n",
       "      <th>6</th>\n",
       "      <td>Everton</td>\n",
       "      <td>-1</td>\n",
       "      <td>L</td>\n",
       "      <td>812</td>\n",
       "    </tr>\n",
       "    <tr>\n",
       "      <th>8</th>\n",
       "      <td>Burnley</td>\n",
       "      <td>-1</td>\n",
       "      <td>L</td>\n",
       "      <td>856</td>\n",
       "    </tr>\n",
       "    <tr>\n",
       "      <th>14</th>\n",
       "      <td>Leeds</td>\n",
       "      <td>0</td>\n",
       "      <td>D</td>\n",
       "      <td>367</td>\n",
       "    </tr>\n",
       "    <tr>\n",
       "      <th>0</th>\n",
       "      <td>Crystal Palace</td>\n",
       "      <td>0</td>\n",
       "      <td>D</td>\n",
       "      <td>269</td>\n",
       "    </tr>\n",
       "    <tr>\n",
       "      <th>7</th>\n",
       "      <td>Southampton</td>\n",
       "      <td>0</td>\n",
       "      <td>D</td>\n",
       "      <td>846</td>\n",
       "    </tr>\n",
       "    <tr>\n",
       "      <th>3</th>\n",
       "      <td>Brighton</td>\n",
       "      <td>1</td>\n",
       "      <td>W</td>\n",
       "      <td>376</td>\n",
       "    </tr>\n",
       "    <tr>\n",
       "      <th>17</th>\n",
       "      <td>Manchester United</td>\n",
       "      <td>1</td>\n",
       "      <td>W</td>\n",
       "      <td>570</td>\n",
       "    </tr>\n",
       "    <tr>\n",
       "      <th>20</th>\n",
       "      <td>Rapid Vienna</td>\n",
       "      <td>1</td>\n",
       "      <td>W</td>\n",
       "      <td>191</td>\n",
       "    </tr>\n",
       "    <tr>\n",
       "      <th>22</th>\n",
       "      <td>Sheffield United</td>\n",
       "      <td>1</td>\n",
       "      <td>W</td>\n",
       "      <td>234</td>\n",
       "    </tr>\n",
       "    <tr>\n",
       "      <th>23</th>\n",
       "      <td>Liverpool</td>\n",
       "      <td>1</td>\n",
       "      <td>W</td>\n",
       "      <td>328</td>\n",
       "    </tr>\n",
       "    <tr>\n",
       "      <th>26</th>\n",
       "      <td>West Ham</td>\n",
       "      <td>1</td>\n",
       "      <td>W</td>\n",
       "      <td>284</td>\n",
       "    </tr>\n",
       "    <tr>\n",
       "      <th>4</th>\n",
       "      <td>Chelsea</td>\n",
       "      <td>2</td>\n",
       "      <td>W</td>\n",
       "      <td>783</td>\n",
       "    </tr>\n",
       "    <tr>\n",
       "      <th>1</th>\n",
       "      <td>Newcastle</td>\n",
       "      <td>2</td>\n",
       "      <td>W</td>\n",
       "      <td>314</td>\n",
       "    </tr>\n",
       "    <tr>\n",
       "      <th>9</th>\n",
       "      <td>Dundalk</td>\n",
       "      <td>2</td>\n",
       "      <td>W</td>\n",
       "      <td>206</td>\n",
       "    </tr>\n",
       "    <tr>\n",
       "      <th>11</th>\n",
       "      <td>Rapid Vienna</td>\n",
       "      <td>3</td>\n",
       "      <td>W</td>\n",
       "      <td>201</td>\n",
       "    </tr>\n",
       "    <tr>\n",
       "      <th>13</th>\n",
       "      <td>Molde</td>\n",
       "      <td>3</td>\n",
       "      <td>W</td>\n",
       "      <td>156</td>\n",
       "    </tr>\n",
       "    <tr>\n",
       "      <th>16</th>\n",
       "      <td>Molde</td>\n",
       "      <td>3</td>\n",
       "      <td>W</td>\n",
       "      <td>190</td>\n",
       "    </tr>\n",
       "    <tr>\n",
       "      <th>18</th>\n",
       "      <td>Dundalk</td>\n",
       "      <td>3</td>\n",
       "      <td>W</td>\n",
       "      <td>236</td>\n",
       "    </tr>\n",
       "    <tr>\n",
       "      <th>2</th>\n",
       "      <td>West Brom</td>\n",
       "      <td>4</td>\n",
       "      <td>W</td>\n",
       "      <td>416</td>\n",
       "    </tr>\n",
       "  </tbody>\n",
       "</table>\n",
       "</div>"
      ],
      "text/plain": [
       "             Opponent  Goal Margin Result (W, D or L)  Watch along views (K)\n",
       "15        Aston Villa           -3                  L                    615\n",
       "5     Manchester City           -3                  L                    916\n",
       "24          Liverpool           -2                  L                    448\n",
       "10          Tottenham           -2                  L                    909\n",
       "12             Wolves           -1                  L                    559\n",
       "21    Manchester City           -1                  L                    291\n",
       "19          Leicester           -1                  L                    365\n",
       "6             Everton           -1                  L                    812\n",
       "8             Burnley           -1                  L                    856\n",
       "14              Leeds            0                  D                    367\n",
       "0      Crystal Palace            0                  D                    269\n",
       "7         Southampton            0                  D                    846\n",
       "3            Brighton            1                  W                    376\n",
       "17  Manchester United            1                  W                    570\n",
       "20       Rapid Vienna            1                  W                    191\n",
       "22   Sheffield United            1                  W                    234\n",
       "23          Liverpool            1                  W                    328\n",
       "26           West Ham            1                  W                    284\n",
       "4             Chelsea            2                  W                    783\n",
       "1           Newcastle            2                  W                    314\n",
       "9             Dundalk            2                  W                    206\n",
       "11       Rapid Vienna            3                  W                    201\n",
       "13              Molde            3                  W                    156\n",
       "16              Molde            3                  W                    190\n",
       "18            Dundalk            3                  W                    236\n",
       "2           West Brom            4                  W                    416"
      ]
     },
     "execution_count": 1058,
     "metadata": {},
     "output_type": "execute_result"
    }
   ],
   "source": [
    "df.sort_values(\"Goal Margin\", ascending = True) # Looks similiar to the previous table"
   ]
  },
  {
   "cell_type": "code",
   "execution_count": 1059,
   "metadata": {},
   "outputs": [
    {
     "data": {
      "text/plain": [
       "Text(0, 0.5, 'Number of views (K)')"
      ]
     },
     "execution_count": 1059,
     "metadata": {},
     "output_type": "execute_result"
    },
    {
     "data": {
      "image/png": "[encoded data removed]",
      "text/plain": [
       "<Figure size 432x288 with 1 Axes>"
      ]
     },
     "metadata": {},
     "output_type": "display_data"
    }
   ],
   "source": [
    "sns.barplot(x = df[\"Goal Margin\"], y = df[\"Watch along views (K)\"])\n",
    "plt.xticks(rotation = 90)\n",
    "plt.xlabel(\"Goal Margin\")\n",
    "plt.ylabel(\"Number of views (K)\") \n",
    "# Views do vary a lot depending on the specific game, however we can see the worse Arsenal perform ...\n",
    "# ... the more views AFTV attract."
   ]
  },
  {
   "cell_type": "markdown",
   "metadata": {},
   "source": [
    "### Anfield Agenda Stats:"
   ]
  },
  {
   "cell_type": "code",
   "execution_count": 1060,
   "metadata": {},
   "outputs": [
    {
     "data": {
      "text/html": [
       "<div>\n",
       "<style scoped>\n",
       "    .dataframe tbody tr th:only-of-type {\n",
       "        vertical-align: middle;\n",
       "    }\n",
       "\n",
       "    .dataframe tbody tr th {\n",
       "        vertical-align: top;\n",
       "    }\n",
       "\n",
       "    .dataframe thead th {\n",
       "        text-align: right;\n",
       "    }\n",
       "</style>\n",
       "<table border=\"1\" class=\"dataframe\">\n",
       "  <thead>\n",
       "    <tr style=\"text-align: right;\">\n",
       "      <th></th>\n",
       "      <th>Competition</th>\n",
       "      <th>Opponent</th>\n",
       "      <th>Opposition Score</th>\n",
       "      <th>Liverpool Score</th>\n",
       "      <th>Goal Margin</th>\n",
       "      <th>Result (W, D or L)</th>\n",
       "      <th>Craig's Reaction (K)</th>\n",
       "      <th>Watch along views (K)</th>\n",
       "    </tr>\n",
       "  </thead>\n",
       "  <tbody>\n",
       "    <tr>\n",
       "      <th>0</th>\n",
       "      <td>FA Cup</td>\n",
       "      <td>Aston Villa</td>\n",
       "      <td>1</td>\n",
       "      <td>4</td>\n",
       "      <td>3</td>\n",
       "      <td>W</td>\n",
       "      <td>10</td>\n",
       "      <td>37</td>\n",
       "    </tr>\n",
       "    <tr>\n",
       "      <th>4</th>\n",
       "      <td>Premier League</td>\n",
       "      <td>Crystal Palace</td>\n",
       "      <td>0</td>\n",
       "      <td>7</td>\n",
       "      <td>7</td>\n",
       "      <td>W</td>\n",
       "      <td>10</td>\n",
       "      <td>61</td>\n",
       "    </tr>\n",
       "    <tr>\n",
       "      <th>5</th>\n",
       "      <td>Premier League</td>\n",
       "      <td>Tottenham</td>\n",
       "      <td>1</td>\n",
       "      <td>2</td>\n",
       "      <td>1</td>\n",
       "      <td>W</td>\n",
       "      <td>12</td>\n",
       "      <td>48</td>\n",
       "    </tr>\n",
       "    <tr>\n",
       "      <th>8</th>\n",
       "      <td>Premier League</td>\n",
       "      <td>Wolves</td>\n",
       "      <td>0</td>\n",
       "      <td>4</td>\n",
       "      <td>4</td>\n",
       "      <td>W</td>\n",
       "      <td>10</td>\n",
       "      <td>58</td>\n",
       "    </tr>\n",
       "    <tr>\n",
       "      <th>9</th>\n",
       "      <td>Champions League</td>\n",
       "      <td>Ajax</td>\n",
       "      <td>0</td>\n",
       "      <td>1</td>\n",
       "      <td>1</td>\n",
       "      <td>W</td>\n",
       "      <td>9</td>\n",
       "      <td>43</td>\n",
       "    </tr>\n",
       "    <tr>\n",
       "      <th>12</th>\n",
       "      <td>Premier League</td>\n",
       "      <td>Leicester</td>\n",
       "      <td>0</td>\n",
       "      <td>3</td>\n",
       "      <td>3</td>\n",
       "      <td>W</td>\n",
       "      <td>10</td>\n",
       "      <td>68</td>\n",
       "    </tr>\n",
       "    <tr>\n",
       "      <th>14</th>\n",
       "      <td>Champions League</td>\n",
       "      <td>Atalanta</td>\n",
       "      <td>0</td>\n",
       "      <td>5</td>\n",
       "      <td>5</td>\n",
       "      <td>W</td>\n",
       "      <td>19</td>\n",
       "      <td>71</td>\n",
       "    </tr>\n",
       "    <tr>\n",
       "      <th>15</th>\n",
       "      <td>Premier League</td>\n",
       "      <td>West Ham</td>\n",
       "      <td>1</td>\n",
       "      <td>2</td>\n",
       "      <td>1</td>\n",
       "      <td>W</td>\n",
       "      <td>11</td>\n",
       "      <td>69</td>\n",
       "    </tr>\n",
       "    <tr>\n",
       "      <th>16</th>\n",
       "      <td>Champions League</td>\n",
       "      <td>Midtjylland</td>\n",
       "      <td>0</td>\n",
       "      <td>2</td>\n",
       "      <td>2</td>\n",
       "      <td>W</td>\n",
       "      <td>7</td>\n",
       "      <td>52</td>\n",
       "    </tr>\n",
       "    <tr>\n",
       "      <th>17</th>\n",
       "      <td>Premier League</td>\n",
       "      <td>Sheffield United</td>\n",
       "      <td>1</td>\n",
       "      <td>2</td>\n",
       "      <td>1</td>\n",
       "      <td>W</td>\n",
       "      <td>7</td>\n",
       "      <td>106</td>\n",
       "    </tr>\n",
       "    <tr>\n",
       "      <th>18</th>\n",
       "      <td>Champions League</td>\n",
       "      <td>Ajax</td>\n",
       "      <td>0</td>\n",
       "      <td>1</td>\n",
       "      <td>1</td>\n",
       "      <td>W</td>\n",
       "      <td>10</td>\n",
       "      <td>49</td>\n",
       "    </tr>\n",
       "    <tr>\n",
       "      <th>22</th>\n",
       "      <td>Premier League</td>\n",
       "      <td>Arsenal</td>\n",
       "      <td>1</td>\n",
       "      <td>3</td>\n",
       "      <td>2</td>\n",
       "      <td>W</td>\n",
       "      <td>14</td>\n",
       "      <td>71</td>\n",
       "    </tr>\n",
       "    <tr>\n",
       "      <th>23</th>\n",
       "      <td>EFL Cup</td>\n",
       "      <td>Lincoln</td>\n",
       "      <td>2</td>\n",
       "      <td>7</td>\n",
       "      <td>5</td>\n",
       "      <td>W</td>\n",
       "      <td>8</td>\n",
       "      <td>63</td>\n",
       "    </tr>\n",
       "    <tr>\n",
       "      <th>24</th>\n",
       "      <td>Premier League</td>\n",
       "      <td>Chelsea</td>\n",
       "      <td>0</td>\n",
       "      <td>2</td>\n",
       "      <td>2</td>\n",
       "      <td>W</td>\n",
       "      <td>15</td>\n",
       "      <td>128</td>\n",
       "    </tr>\n",
       "    <tr>\n",
       "      <th>25</th>\n",
       "      <td>Premier League</td>\n",
       "      <td>Leeds</td>\n",
       "      <td>3</td>\n",
       "      <td>4</td>\n",
       "      <td>1</td>\n",
       "      <td>W</td>\n",
       "      <td>11</td>\n",
       "      <td>42</td>\n",
       "    </tr>\n",
       "  </tbody>\n",
       "</table>\n",
       "</div>"
      ],
      "text/plain": [
       "         Competition          Opponent  Opposition Score  Liverpool Score  \\\n",
       "0             FA Cup       Aston Villa                 1                4   \n",
       "4     Premier League    Crystal Palace                 0                7   \n",
       "5     Premier League         Tottenham                 1                2   \n",
       "8     Premier League            Wolves                 0                4   \n",
       "9   Champions League              Ajax                 0                1   \n",
       "12    Premier League         Leicester                 0                3   \n",
       "14  Champions League          Atalanta                 0                5   \n",
       "15    Premier League          West Ham                 1                2   \n",
       "16  Champions League       Midtjylland                 0                2   \n",
       "17    Premier League  Sheffield United                 1                2   \n",
       "18  Champions League              Ajax                 0                1   \n",
       "22    Premier League           Arsenal                 1                3   \n",
       "23           EFL Cup           Lincoln                 2                7   \n",
       "24    Premier League           Chelsea                 0                2   \n",
       "25    Premier League             Leeds                 3                4   \n",
       "\n",
       "    Goal Margin Result (W, D or L)  Craig's Reaction (K)  \\\n",
       "0             3                  W                    10   \n",
       "4             7                  W                    10   \n",
       "5             1                  W                    12   \n",
       "8             4                  W                    10   \n",
       "9             1                  W                     9   \n",
       "12            3                  W                    10   \n",
       "14            5                  W                    19   \n",
       "15            1                  W                    11   \n",
       "16            2                  W                     7   \n",
       "17            1                  W                     7   \n",
       "18            1                  W                    10   \n",
       "22            2                  W                    14   \n",
       "23            5                  W                     8   \n",
       "24            2                  W                    15   \n",
       "25            1                  W                    11   \n",
       "\n",
       "    Watch along views (K)  \n",
       "0                      37  \n",
       "4                      61  \n",
       "5                      48  \n",
       "8                      58  \n",
       "9                      43  \n",
       "12                     68  \n",
       "14                     71  \n",
       "15                     69  \n",
       "16                     52  \n",
       "17                    106  \n",
       "18                     49  \n",
       "22                     71  \n",
       "23                     63  \n",
       "24                    128  \n",
       "25                     42  "
      ]
     },
     "execution_count": 1060,
     "metadata": {},
     "output_type": "execute_result"
    }
   ],
   "source": [
    "AA_Ws = AA[AA[\"Result (W, D or L)\"] == \"W\"]\n",
    "AA_Ws"
   ]
  },
  {
   "cell_type": "code",
   "execution_count": 1061,
   "metadata": {},
   "outputs": [
    {
     "data": {
      "text/html": [
       "<div>\n",
       "<style scoped>\n",
       "    .dataframe tbody tr th:only-of-type {\n",
       "        vertical-align: middle;\n",
       "    }\n",
       "\n",
       "    .dataframe tbody tr th {\n",
       "        vertical-align: top;\n",
       "    }\n",
       "\n",
       "    .dataframe thead th {\n",
       "        text-align: right;\n",
       "    }\n",
       "</style>\n",
       "<table border=\"1\" class=\"dataframe\">\n",
       "  <thead>\n",
       "    <tr style=\"text-align: right;\">\n",
       "      <th></th>\n",
       "      <th>Competition</th>\n",
       "      <th>Opponent</th>\n",
       "      <th>Opposition Score</th>\n",
       "      <th>Liverpool Score</th>\n",
       "      <th>Goal Margin</th>\n",
       "      <th>Result (W, D or L)</th>\n",
       "      <th>Craig's Reaction (K)</th>\n",
       "      <th>Watch along views (K)</th>\n",
       "    </tr>\n",
       "  </thead>\n",
       "  <tbody>\n",
       "    <tr>\n",
       "      <th>1</th>\n",
       "      <td>Premier League</td>\n",
       "      <td>Southampton</td>\n",
       "      <td>1</td>\n",
       "      <td>0</td>\n",
       "      <td>-1</td>\n",
       "      <td>L</td>\n",
       "      <td>24</td>\n",
       "      <td>66</td>\n",
       "    </tr>\n",
       "    <tr>\n",
       "      <th>2</th>\n",
       "      <td>Premier League</td>\n",
       "      <td>Newcastle</td>\n",
       "      <td>0</td>\n",
       "      <td>0</td>\n",
       "      <td>0</td>\n",
       "      <td>D</td>\n",
       "      <td>14</td>\n",
       "      <td>45</td>\n",
       "    </tr>\n",
       "    <tr>\n",
       "      <th>3</th>\n",
       "      <td>Premier League</td>\n",
       "      <td>West Brom</td>\n",
       "      <td>1</td>\n",
       "      <td>1</td>\n",
       "      <td>0</td>\n",
       "      <td>D</td>\n",
       "      <td>10</td>\n",
       "      <td>48</td>\n",
       "    </tr>\n",
       "    <tr>\n",
       "      <th>6</th>\n",
       "      <td>Premier League</td>\n",
       "      <td>Fulham</td>\n",
       "      <td>1</td>\n",
       "      <td>1</td>\n",
       "      <td>0</td>\n",
       "      <td>D</td>\n",
       "      <td>6</td>\n",
       "      <td>57</td>\n",
       "    </tr>\n",
       "    <tr>\n",
       "      <th>7</th>\n",
       "      <td>Champions League</td>\n",
       "      <td>Midtjylland</td>\n",
       "      <td>1</td>\n",
       "      <td>1</td>\n",
       "      <td>0</td>\n",
       "      <td>D</td>\n",
       "      <td>5</td>\n",
       "      <td>47</td>\n",
       "    </tr>\n",
       "    <tr>\n",
       "      <th>10</th>\n",
       "      <td>Premier League</td>\n",
       "      <td>Brighton</td>\n",
       "      <td>1</td>\n",
       "      <td>1</td>\n",
       "      <td>0</td>\n",
       "      <td>D</td>\n",
       "      <td>10</td>\n",
       "      <td>44</td>\n",
       "    </tr>\n",
       "    <tr>\n",
       "      <th>11</th>\n",
       "      <td>Champions League</td>\n",
       "      <td>Atalanta</td>\n",
       "      <td>2</td>\n",
       "      <td>0</td>\n",
       "      <td>-2</td>\n",
       "      <td>L</td>\n",
       "      <td>6</td>\n",
       "      <td>54</td>\n",
       "    </tr>\n",
       "    <tr>\n",
       "      <th>13</th>\n",
       "      <td>Premier League</td>\n",
       "      <td>Manchester City</td>\n",
       "      <td>1</td>\n",
       "      <td>1</td>\n",
       "      <td>0</td>\n",
       "      <td>D</td>\n",
       "      <td>9</td>\n",
       "      <td>78</td>\n",
       "    </tr>\n",
       "    <tr>\n",
       "      <th>19</th>\n",
       "      <td>Premier League</td>\n",
       "      <td>Everton</td>\n",
       "      <td>2</td>\n",
       "      <td>2</td>\n",
       "      <td>0</td>\n",
       "      <td>D</td>\n",
       "      <td>24</td>\n",
       "      <td>88</td>\n",
       "    </tr>\n",
       "    <tr>\n",
       "      <th>20</th>\n",
       "      <td>Premier League</td>\n",
       "      <td>Aston Villa</td>\n",
       "      <td>7</td>\n",
       "      <td>2</td>\n",
       "      <td>-5</td>\n",
       "      <td>L</td>\n",
       "      <td>261</td>\n",
       "      <td>264</td>\n",
       "    </tr>\n",
       "    <tr>\n",
       "      <th>21</th>\n",
       "      <td>EFL Cup</td>\n",
       "      <td>Arsenal</td>\n",
       "      <td>1</td>\n",
       "      <td>0</td>\n",
       "      <td>-1</td>\n",
       "      <td>L</td>\n",
       "      <td>6</td>\n",
       "      <td>66</td>\n",
       "    </tr>\n",
       "  </tbody>\n",
       "</table>\n",
       "</div>"
      ],
      "text/plain": [
       "         Competition         Opponent  Opposition Score  Liverpool Score  \\\n",
       "1     Premier League      Southampton                 1                0   \n",
       "2     Premier League        Newcastle                 0                0   \n",
       "3     Premier League        West Brom                 1                1   \n",
       "6     Premier League           Fulham                 1                1   \n",
       "7   Champions League      Midtjylland                 1                1   \n",
       "10    Premier League         Brighton                 1                1   \n",
       "11  Champions League         Atalanta                 2                0   \n",
       "13    Premier League  Manchester City                 1                1   \n",
       "19    Premier League          Everton                 2                2   \n",
       "20    Premier League      Aston Villa                 7                2   \n",
       "21           EFL Cup          Arsenal                 1                0   \n",
       "\n",
       "    Goal Margin Result (W, D or L)  Craig's Reaction (K)  \\\n",
       "1            -1                  L                    24   \n",
       "2             0                  D                    14   \n",
       "3             0                  D                    10   \n",
       "6             0                  D                     6   \n",
       "7             0                  D                     5   \n",
       "10            0                  D                    10   \n",
       "11           -2                  L                     6   \n",
       "13            0                  D                     9   \n",
       "19            0                  D                    24   \n",
       "20           -5                  L                   261   \n",
       "21           -1                  L                     6   \n",
       "\n",
       "    Watch along views (K)  \n",
       "1                      66  \n",
       "2                      45  \n",
       "3                      48  \n",
       "6                      57  \n",
       "7                      47  \n",
       "10                     44  \n",
       "11                     54  \n",
       "13                     78  \n",
       "19                     88  \n",
       "20                    264  \n",
       "21                     66  "
      ]
     },
     "execution_count": 1061,
     "metadata": {},
     "output_type": "execute_result"
    }
   ],
   "source": [
    "AA_Ls = AA[AA[\"Result (W, D or L)\"] != \"W\"]\n",
    "AA_Ls"
   ]
  },
  {
   "cell_type": "markdown",
   "metadata": {},
   "source": [
    "###### For Craig's reaction videos:"
   ]
  },
  {
   "cell_type": "code",
   "execution_count": 1062,
   "metadata": {},
   "outputs": [
    {
     "data": {
      "text/plain": [
       "10.866666666666667"
      ]
     },
     "execution_count": 1062,
     "metadata": {},
     "output_type": "execute_result"
    }
   ],
   "source": [
    "craig_avg_views_Ws = AA_Ws[\"Craig's Reaction (K)\"].mean() \n",
    "craig_avg_views_Ws # Average videos on Craig's reaction videos after Liverpool win."
   ]
  },
  {
   "cell_type": "code",
   "execution_count": 1063,
   "metadata": {},
   "outputs": [
    {
     "data": {
      "text/plain": [
       "34.09090909090909"
      ]
     },
     "execution_count": 1063,
     "metadata": {},
     "output_type": "execute_result"
    }
   ],
   "source": [
    "craig_avg_views_Ls = AA_Ls[\"Craig's Reaction (K)\"].mean() \n",
    "craig_avg_views_Ls # Average views on Craig's reaction videos after Liverpool draw or win."
   ]
  },
  {
   "cell_type": "code",
   "execution_count": 1064,
   "metadata": {},
   "outputs": [
    {
     "data": {
      "text/plain": [
       "213.72002230897937"
      ]
     },
     "execution_count": 1064,
     "metadata": {},
     "output_type": "execute_result"
    }
   ],
   "source": [
    "res = craig_avg_views_Ls - craig_avg_views_Ws\n",
    "craig_res = res / craig_avg_views_Ws * 100 \n",
    "craig_res\n",
    "# Percentage of more views Craig gets when Liverpool win or draw."
   ]
  },
  {
   "cell_type": "code",
   "execution_count": 1065,
   "metadata": {},
   "outputs": [
    {
     "data": {
      "text/plain": [
       "3.1372002230897937"
      ]
     },
     "execution_count": 1065,
     "metadata": {},
     "output_type": "execute_result"
    }
   ],
   "source": [
    "deci_craig = craig_avg_views_Ls / craig_avg_views_Ws \n",
    "deci_craig\n",
    "# Number of more views Craigs reactions receive when Liverpool don't win."
   ]
  },
  {
   "cell_type": "code",
   "execution_count": 1066,
   "metadata": {},
   "outputs": [],
   "source": [
    "df = AA[[\"Opponent\", \"Goal Margin\", \"Result (W, D or L)\", \"Craig's Reaction (K)\"]]"
   ]
  },
  {
   "cell_type": "code",
   "execution_count": 1067,
   "metadata": {},
   "outputs": [
    {
     "data": {
      "text/html": [
       "<div>\n",
       "<style scoped>\n",
       "    .dataframe tbody tr th:only-of-type {\n",
       "        vertical-align: middle;\n",
       "    }\n",
       "\n",
       "    .dataframe tbody tr th {\n",
       "        vertical-align: top;\n",
       "    }\n",
       "\n",
       "    .dataframe thead th {\n",
       "        text-align: right;\n",
       "    }\n",
       "</style>\n",
       "<table border=\"1\" class=\"dataframe\">\n",
       "  <thead>\n",
       "    <tr style=\"text-align: right;\">\n",
       "      <th></th>\n",
       "      <th>Opponent</th>\n",
       "      <th>Goal Margin</th>\n",
       "      <th>Result (W, D or L)</th>\n",
       "      <th>Craig's Reaction (K)</th>\n",
       "    </tr>\n",
       "  </thead>\n",
       "  <tbody>\n",
       "    <tr>\n",
       "      <th>20</th>\n",
       "      <td>Aston Villa</td>\n",
       "      <td>-5</td>\n",
       "      <td>L</td>\n",
       "      <td>261</td>\n",
       "    </tr>\n",
       "    <tr>\n",
       "      <th>11</th>\n",
       "      <td>Atalanta</td>\n",
       "      <td>-2</td>\n",
       "      <td>L</td>\n",
       "      <td>6</td>\n",
       "    </tr>\n",
       "    <tr>\n",
       "      <th>1</th>\n",
       "      <td>Southampton</td>\n",
       "      <td>-1</td>\n",
       "      <td>L</td>\n",
       "      <td>24</td>\n",
       "    </tr>\n",
       "    <tr>\n",
       "      <th>21</th>\n",
       "      <td>Arsenal</td>\n",
       "      <td>-1</td>\n",
       "      <td>L</td>\n",
       "      <td>6</td>\n",
       "    </tr>\n",
       "    <tr>\n",
       "      <th>19</th>\n",
       "      <td>Everton</td>\n",
       "      <td>0</td>\n",
       "      <td>D</td>\n",
       "      <td>24</td>\n",
       "    </tr>\n",
       "    <tr>\n",
       "      <th>2</th>\n",
       "      <td>Newcastle</td>\n",
       "      <td>0</td>\n",
       "      <td>D</td>\n",
       "      <td>14</td>\n",
       "    </tr>\n",
       "    <tr>\n",
       "      <th>3</th>\n",
       "      <td>West Brom</td>\n",
       "      <td>0</td>\n",
       "      <td>D</td>\n",
       "      <td>10</td>\n",
       "    </tr>\n",
       "    <tr>\n",
       "      <th>6</th>\n",
       "      <td>Fulham</td>\n",
       "      <td>0</td>\n",
       "      <td>D</td>\n",
       "      <td>6</td>\n",
       "    </tr>\n",
       "    <tr>\n",
       "      <th>7</th>\n",
       "      <td>Midtjylland</td>\n",
       "      <td>0</td>\n",
       "      <td>D</td>\n",
       "      <td>5</td>\n",
       "    </tr>\n",
       "    <tr>\n",
       "      <th>10</th>\n",
       "      <td>Brighton</td>\n",
       "      <td>0</td>\n",
       "      <td>D</td>\n",
       "      <td>10</td>\n",
       "    </tr>\n",
       "    <tr>\n",
       "      <th>13</th>\n",
       "      <td>Manchester City</td>\n",
       "      <td>0</td>\n",
       "      <td>D</td>\n",
       "      <td>9</td>\n",
       "    </tr>\n",
       "    <tr>\n",
       "      <th>17</th>\n",
       "      <td>Sheffield United</td>\n",
       "      <td>1</td>\n",
       "      <td>W</td>\n",
       "      <td>7</td>\n",
       "    </tr>\n",
       "    <tr>\n",
       "      <th>15</th>\n",
       "      <td>West Ham</td>\n",
       "      <td>1</td>\n",
       "      <td>W</td>\n",
       "      <td>11</td>\n",
       "    </tr>\n",
       "    <tr>\n",
       "      <th>25</th>\n",
       "      <td>Leeds</td>\n",
       "      <td>1</td>\n",
       "      <td>W</td>\n",
       "      <td>11</td>\n",
       "    </tr>\n",
       "    <tr>\n",
       "      <th>18</th>\n",
       "      <td>Ajax</td>\n",
       "      <td>1</td>\n",
       "      <td>W</td>\n",
       "      <td>10</td>\n",
       "    </tr>\n",
       "    <tr>\n",
       "      <th>5</th>\n",
       "      <td>Tottenham</td>\n",
       "      <td>1</td>\n",
       "      <td>W</td>\n",
       "      <td>12</td>\n",
       "    </tr>\n",
       "    <tr>\n",
       "      <th>9</th>\n",
       "      <td>Ajax</td>\n",
       "      <td>1</td>\n",
       "      <td>W</td>\n",
       "      <td>9</td>\n",
       "    </tr>\n",
       "    <tr>\n",
       "      <th>16</th>\n",
       "      <td>Midtjylland</td>\n",
       "      <td>2</td>\n",
       "      <td>W</td>\n",
       "      <td>7</td>\n",
       "    </tr>\n",
       "    <tr>\n",
       "      <th>22</th>\n",
       "      <td>Arsenal</td>\n",
       "      <td>2</td>\n",
       "      <td>W</td>\n",
       "      <td>14</td>\n",
       "    </tr>\n",
       "    <tr>\n",
       "      <th>24</th>\n",
       "      <td>Chelsea</td>\n",
       "      <td>2</td>\n",
       "      <td>W</td>\n",
       "      <td>15</td>\n",
       "    </tr>\n",
       "    <tr>\n",
       "      <th>0</th>\n",
       "      <td>Aston Villa</td>\n",
       "      <td>3</td>\n",
       "      <td>W</td>\n",
       "      <td>10</td>\n",
       "    </tr>\n",
       "    <tr>\n",
       "      <th>12</th>\n",
       "      <td>Leicester</td>\n",
       "      <td>3</td>\n",
       "      <td>W</td>\n",
       "      <td>10</td>\n",
       "    </tr>\n",
       "    <tr>\n",
       "      <th>8</th>\n",
       "      <td>Wolves</td>\n",
       "      <td>4</td>\n",
       "      <td>W</td>\n",
       "      <td>10</td>\n",
       "    </tr>\n",
       "    <tr>\n",
       "      <th>23</th>\n",
       "      <td>Lincoln</td>\n",
       "      <td>5</td>\n",
       "      <td>W</td>\n",
       "      <td>8</td>\n",
       "    </tr>\n",
       "    <tr>\n",
       "      <th>14</th>\n",
       "      <td>Atalanta</td>\n",
       "      <td>5</td>\n",
       "      <td>W</td>\n",
       "      <td>19</td>\n",
       "    </tr>\n",
       "    <tr>\n",
       "      <th>4</th>\n",
       "      <td>Crystal Palace</td>\n",
       "      <td>7</td>\n",
       "      <td>W</td>\n",
       "      <td>10</td>\n",
       "    </tr>\n",
       "  </tbody>\n",
       "</table>\n",
       "</div>"
      ],
      "text/plain": [
       "            Opponent  Goal Margin Result (W, D or L)  Craig's Reaction (K)\n",
       "20       Aston Villa           -5                  L                   261\n",
       "11          Atalanta           -2                  L                     6\n",
       "1        Southampton           -1                  L                    24\n",
       "21           Arsenal           -1                  L                     6\n",
       "19           Everton            0                  D                    24\n",
       "2          Newcastle            0                  D                    14\n",
       "3          West Brom            0                  D                    10\n",
       "6             Fulham            0                  D                     6\n",
       "7        Midtjylland            0                  D                     5\n",
       "10          Brighton            0                  D                    10\n",
       "13   Manchester City            0                  D                     9\n",
       "17  Sheffield United            1                  W                     7\n",
       "15          West Ham            1                  W                    11\n",
       "25             Leeds            1                  W                    11\n",
       "18              Ajax            1                  W                    10\n",
       "5          Tottenham            1                  W                    12\n",
       "9               Ajax            1                  W                     9\n",
       "16       Midtjylland            2                  W                     7\n",
       "22           Arsenal            2                  W                    14\n",
       "24           Chelsea            2                  W                    15\n",
       "0        Aston Villa            3                  W                    10\n",
       "12         Leicester            3                  W                    10\n",
       "8             Wolves            4                  W                    10\n",
       "23           Lincoln            5                  W                     8\n",
       "14          Atalanta            5                  W                    19\n",
       "4     Crystal Palace            7                  W                    10"
      ]
     },
     "execution_count": 1067,
     "metadata": {},
     "output_type": "execute_result"
    }
   ],
   "source": [
    "df.sort_values(\"Goal Margin\", ascending = True) \n",
    "# We can see the heavy liverpool defeat spiked huge flow of views onto his channel. "
   ]
  },
  {
   "cell_type": "code",
   "execution_count": 1068,
   "metadata": {},
   "outputs": [
    {
     "data": {
      "text/plain": [
       "11.08"
      ]
     },
     "execution_count": 1068,
     "metadata": {},
     "output_type": "execute_result"
    }
   ],
   "source": [
    "df = df[df[\"Goal Margin\"] != -5]\n",
    "res = df[\"Craig's Reaction (K)\"].mean()\n",
    "res"
   ]
  },
  {
   "cell_type": "code",
   "execution_count": 1069,
   "metadata": {},
   "outputs": [
    {
     "data": {
      "text/html": [
       "<div>\n",
       "<style scoped>\n",
       "    .dataframe tbody tr th:only-of-type {\n",
       "        vertical-align: middle;\n",
       "    }\n",
       "\n",
       "    .dataframe tbody tr th {\n",
       "        vertical-align: top;\n",
       "    }\n",
       "\n",
       "    .dataframe thead th {\n",
       "        text-align: right;\n",
       "    }\n",
       "</style>\n",
       "<table border=\"1\" class=\"dataframe\">\n",
       "  <thead>\n",
       "    <tr style=\"text-align: right;\">\n",
       "      <th></th>\n",
       "      <th>Opponent</th>\n",
       "      <th>Goal Margin</th>\n",
       "      <th>Result (W, D or L)</th>\n",
       "      <th>Craig's Reaction (K)</th>\n",
       "    </tr>\n",
       "  </thead>\n",
       "  <tbody>\n",
       "    <tr>\n",
       "      <th>1</th>\n",
       "      <td>Southampton</td>\n",
       "      <td>-1</td>\n",
       "      <td>L</td>\n",
       "      <td>24</td>\n",
       "    </tr>\n",
       "    <tr>\n",
       "      <th>2</th>\n",
       "      <td>Newcastle</td>\n",
       "      <td>0</td>\n",
       "      <td>D</td>\n",
       "      <td>14</td>\n",
       "    </tr>\n",
       "    <tr>\n",
       "      <th>3</th>\n",
       "      <td>West Brom</td>\n",
       "      <td>0</td>\n",
       "      <td>D</td>\n",
       "      <td>10</td>\n",
       "    </tr>\n",
       "    <tr>\n",
       "      <th>6</th>\n",
       "      <td>Fulham</td>\n",
       "      <td>0</td>\n",
       "      <td>D</td>\n",
       "      <td>6</td>\n",
       "    </tr>\n",
       "    <tr>\n",
       "      <th>7</th>\n",
       "      <td>Midtjylland</td>\n",
       "      <td>0</td>\n",
       "      <td>D</td>\n",
       "      <td>5</td>\n",
       "    </tr>\n",
       "    <tr>\n",
       "      <th>10</th>\n",
       "      <td>Brighton</td>\n",
       "      <td>0</td>\n",
       "      <td>D</td>\n",
       "      <td>10</td>\n",
       "    </tr>\n",
       "    <tr>\n",
       "      <th>11</th>\n",
       "      <td>Atalanta</td>\n",
       "      <td>-2</td>\n",
       "      <td>L</td>\n",
       "      <td>6</td>\n",
       "    </tr>\n",
       "    <tr>\n",
       "      <th>13</th>\n",
       "      <td>Manchester City</td>\n",
       "      <td>0</td>\n",
       "      <td>D</td>\n",
       "      <td>9</td>\n",
       "    </tr>\n",
       "    <tr>\n",
       "      <th>19</th>\n",
       "      <td>Everton</td>\n",
       "      <td>0</td>\n",
       "      <td>D</td>\n",
       "      <td>24</td>\n",
       "    </tr>\n",
       "    <tr>\n",
       "      <th>21</th>\n",
       "      <td>Arsenal</td>\n",
       "      <td>-1</td>\n",
       "      <td>L</td>\n",
       "      <td>6</td>\n",
       "    </tr>\n",
       "  </tbody>\n",
       "</table>\n",
       "</div>"
      ],
      "text/plain": [
       "           Opponent  Goal Margin Result (W, D or L)  Craig's Reaction (K)\n",
       "1       Southampton           -1                  L                    24\n",
       "2         Newcastle            0                  D                    14\n",
       "3         West Brom            0                  D                    10\n",
       "6            Fulham            0                  D                     6\n",
       "7       Midtjylland            0                  D                     5\n",
       "10         Brighton            0                  D                    10\n",
       "11         Atalanta           -2                  L                     6\n",
       "13  Manchester City            0                  D                     9\n",
       "19          Everton            0                  D                    24\n",
       "21          Arsenal           -1                  L                     6"
      ]
     },
     "execution_count": 1069,
     "metadata": {},
     "output_type": "execute_result"
    }
   ],
   "source": [
    "df2 = df[df[\"Result (W, D or L)\"] != \"W\"]\n",
    "df2"
   ]
  },
  {
   "cell_type": "code",
   "execution_count": 1070,
   "metadata": {},
   "outputs": [
    {
     "data": {
      "text/plain": [
       "11.4"
      ]
     },
     "execution_count": 1070,
     "metadata": {},
     "output_type": "execute_result"
    }
   ],
   "source": [
    "df2[\"Craig's Reaction (K)\"].mean() \n",
    "# Average amount of viewers when Liverpool draw or lose without Aston Villa."
   ]
  },
  {
   "cell_type": "code",
   "execution_count": 1071,
   "metadata": {},
   "outputs": [
    {
     "data": {
      "text/plain": [
       "23.555956678700362"
      ]
     },
     "execution_count": 1071,
     "metadata": {},
     "output_type": "execute_result"
    }
   ],
   "source": [
    "261 / res # Number of times more views craig received when Liverpool suffered a heavy defeat."
   ]
  },
  {
   "cell_type": "markdown",
   "metadata": {},
   "source": [
    "###### For Anfield Agenda watch along's:"
   ]
  },
  {
   "cell_type": "code",
   "execution_count": 1072,
   "metadata": {},
   "outputs": [
    {
     "data": {
      "text/plain": [
       "64.4"
      ]
     },
     "execution_count": 1072,
     "metadata": {},
     "output_type": "execute_result"
    }
   ],
   "source": [
    "AA_avg_views_wa_Ws = AA_Ws[\"Watch along views (K)\"].mean() \n",
    "AA_avg_views_wa_Ws # Average views on watch alongs when Liverpool win."
   ]
  },
  {
   "cell_type": "code",
   "execution_count": 1073,
   "metadata": {},
   "outputs": [
    {
     "data": {
      "text/plain": [
       "77.9090909090909"
      ]
     },
     "execution_count": 1073,
     "metadata": {},
     "output_type": "execute_result"
    }
   ],
   "source": [
    "AA_avg_views_wa_Ls = AA_Ls[\"Watch along views (K)\"].mean() \n",
    "AA_avg_views_wa_Ls # Average views on watch alongs when Liverpool draw or lose."
   ]
  },
  {
   "cell_type": "code",
   "execution_count": 1074,
   "metadata": {},
   "outputs": [
    {
     "data": {
      "text/plain": [
       "20.97684923771879"
      ]
     },
     "execution_count": 1074,
     "metadata": {},
     "output_type": "execute_result"
    }
   ],
   "source": [
    "res = AA_avg_views_wa_Ls - AA_avg_views_wa_Ws\n",
    "AA_res = res / AA_avg_views_wa_Ws * 100 \n",
    "AA_res\n",
    "# How many more views do the watch alongs receive when losing or drawing? (%)"
   ]
  },
  {
   "cell_type": "code",
   "execution_count": 1075,
   "metadata": {},
   "outputs": [
    {
     "data": {
      "text/plain": [
       "1.2097684923771879"
      ]
     },
     "execution_count": 1075,
     "metadata": {},
     "output_type": "execute_result"
    }
   ],
   "source": [
    "deci_AA = AA_avg_views_wa_Ls / AA_avg_views_wa_Ws \n",
    "deci_AA\n",
    "# Watch alongs receive 1.2 times more views when Liverpool aren't winning."
   ]
  },
  {
   "cell_type": "code",
   "execution_count": 1076,
   "metadata": {},
   "outputs": [],
   "source": [
    "df = AA[[\"Opponent\", \"Goal Margin\", \"Result (W, D or L)\", \"Watch along views (K)\"]]"
   ]
  },
  {
   "cell_type": "code",
   "execution_count": 1077,
   "metadata": {},
   "outputs": [
    {
     "data": {
      "text/html": [
       "<div>\n",
       "<style scoped>\n",
       "    .dataframe tbody tr th:only-of-type {\n",
       "        vertical-align: middle;\n",
       "    }\n",
       "\n",
       "    .dataframe tbody tr th {\n",
       "        vertical-align: top;\n",
       "    }\n",
       "\n",
       "    .dataframe thead th {\n",
       "        text-align: right;\n",
       "    }\n",
       "</style>\n",
       "<table border=\"1\" class=\"dataframe\">\n",
       "  <thead>\n",
       "    <tr style=\"text-align: right;\">\n",
       "      <th></th>\n",
       "      <th>Opponent</th>\n",
       "      <th>Goal Margin</th>\n",
       "      <th>Result (W, D or L)</th>\n",
       "      <th>Watch along views (K)</th>\n",
       "    </tr>\n",
       "  </thead>\n",
       "  <tbody>\n",
       "    <tr>\n",
       "      <th>20</th>\n",
       "      <td>Aston Villa</td>\n",
       "      <td>-5</td>\n",
       "      <td>L</td>\n",
       "      <td>264</td>\n",
       "    </tr>\n",
       "    <tr>\n",
       "      <th>11</th>\n",
       "      <td>Atalanta</td>\n",
       "      <td>-2</td>\n",
       "      <td>L</td>\n",
       "      <td>54</td>\n",
       "    </tr>\n",
       "    <tr>\n",
       "      <th>1</th>\n",
       "      <td>Southampton</td>\n",
       "      <td>-1</td>\n",
       "      <td>L</td>\n",
       "      <td>66</td>\n",
       "    </tr>\n",
       "    <tr>\n",
       "      <th>21</th>\n",
       "      <td>Arsenal</td>\n",
       "      <td>-1</td>\n",
       "      <td>L</td>\n",
       "      <td>66</td>\n",
       "    </tr>\n",
       "    <tr>\n",
       "      <th>19</th>\n",
       "      <td>Everton</td>\n",
       "      <td>0</td>\n",
       "      <td>D</td>\n",
       "      <td>88</td>\n",
       "    </tr>\n",
       "    <tr>\n",
       "      <th>2</th>\n",
       "      <td>Newcastle</td>\n",
       "      <td>0</td>\n",
       "      <td>D</td>\n",
       "      <td>45</td>\n",
       "    </tr>\n",
       "    <tr>\n",
       "      <th>3</th>\n",
       "      <td>West Brom</td>\n",
       "      <td>0</td>\n",
       "      <td>D</td>\n",
       "      <td>48</td>\n",
       "    </tr>\n",
       "    <tr>\n",
       "      <th>6</th>\n",
       "      <td>Fulham</td>\n",
       "      <td>0</td>\n",
       "      <td>D</td>\n",
       "      <td>57</td>\n",
       "    </tr>\n",
       "    <tr>\n",
       "      <th>7</th>\n",
       "      <td>Midtjylland</td>\n",
       "      <td>0</td>\n",
       "      <td>D</td>\n",
       "      <td>47</td>\n",
       "    </tr>\n",
       "    <tr>\n",
       "      <th>10</th>\n",
       "      <td>Brighton</td>\n",
       "      <td>0</td>\n",
       "      <td>D</td>\n",
       "      <td>44</td>\n",
       "    </tr>\n",
       "    <tr>\n",
       "      <th>13</th>\n",
       "      <td>Manchester City</td>\n",
       "      <td>0</td>\n",
       "      <td>D</td>\n",
       "      <td>78</td>\n",
       "    </tr>\n",
       "    <tr>\n",
       "      <th>17</th>\n",
       "      <td>Sheffield United</td>\n",
       "      <td>1</td>\n",
       "      <td>W</td>\n",
       "      <td>106</td>\n",
       "    </tr>\n",
       "    <tr>\n",
       "      <th>15</th>\n",
       "      <td>West Ham</td>\n",
       "      <td>1</td>\n",
       "      <td>W</td>\n",
       "      <td>69</td>\n",
       "    </tr>\n",
       "    <tr>\n",
       "      <th>25</th>\n",
       "      <td>Leeds</td>\n",
       "      <td>1</td>\n",
       "      <td>W</td>\n",
       "      <td>42</td>\n",
       "    </tr>\n",
       "    <tr>\n",
       "      <th>18</th>\n",
       "      <td>Ajax</td>\n",
       "      <td>1</td>\n",
       "      <td>W</td>\n",
       "      <td>49</td>\n",
       "    </tr>\n",
       "    <tr>\n",
       "      <th>5</th>\n",
       "      <td>Tottenham</td>\n",
       "      <td>1</td>\n",
       "      <td>W</td>\n",
       "      <td>48</td>\n",
       "    </tr>\n",
       "    <tr>\n",
       "      <th>9</th>\n",
       "      <td>Ajax</td>\n",
       "      <td>1</td>\n",
       "      <td>W</td>\n",
       "      <td>43</td>\n",
       "    </tr>\n",
       "    <tr>\n",
       "      <th>16</th>\n",
       "      <td>Midtjylland</td>\n",
       "      <td>2</td>\n",
       "      <td>W</td>\n",
       "      <td>52</td>\n",
       "    </tr>\n",
       "    <tr>\n",
       "      <th>22</th>\n",
       "      <td>Arsenal</td>\n",
       "      <td>2</td>\n",
       "      <td>W</td>\n",
       "      <td>71</td>\n",
       "    </tr>\n",
       "    <tr>\n",
       "      <th>24</th>\n",
       "      <td>Chelsea</td>\n",
       "      <td>2</td>\n",
       "      <td>W</td>\n",
       "      <td>128</td>\n",
       "    </tr>\n",
       "    <tr>\n",
       "      <th>0</th>\n",
       "      <td>Aston Villa</td>\n",
       "      <td>3</td>\n",
       "      <td>W</td>\n",
       "      <td>37</td>\n",
       "    </tr>\n",
       "    <tr>\n",
       "      <th>12</th>\n",
       "      <td>Leicester</td>\n",
       "      <td>3</td>\n",
       "      <td>W</td>\n",
       "      <td>68</td>\n",
       "    </tr>\n",
       "    <tr>\n",
       "      <th>8</th>\n",
       "      <td>Wolves</td>\n",
       "      <td>4</td>\n",
       "      <td>W</td>\n",
       "      <td>58</td>\n",
       "    </tr>\n",
       "    <tr>\n",
       "      <th>23</th>\n",
       "      <td>Lincoln</td>\n",
       "      <td>5</td>\n",
       "      <td>W</td>\n",
       "      <td>63</td>\n",
       "    </tr>\n",
       "    <tr>\n",
       "      <th>14</th>\n",
       "      <td>Atalanta</td>\n",
       "      <td>5</td>\n",
       "      <td>W</td>\n",
       "      <td>71</td>\n",
       "    </tr>\n",
       "    <tr>\n",
       "      <th>4</th>\n",
       "      <td>Crystal Palace</td>\n",
       "      <td>7</td>\n",
       "      <td>W</td>\n",
       "      <td>61</td>\n",
       "    </tr>\n",
       "  </tbody>\n",
       "</table>\n",
       "</div>"
      ],
      "text/plain": [
       "            Opponent  Goal Margin Result (W, D or L)  Watch along views (K)\n",
       "20       Aston Villa           -5                  L                    264\n",
       "11          Atalanta           -2                  L                     54\n",
       "1        Southampton           -1                  L                     66\n",
       "21           Arsenal           -1                  L                     66\n",
       "19           Everton            0                  D                     88\n",
       "2          Newcastle            0                  D                     45\n",
       "3          West Brom            0                  D                     48\n",
       "6             Fulham            0                  D                     57\n",
       "7        Midtjylland            0                  D                     47\n",
       "10          Brighton            0                  D                     44\n",
       "13   Manchester City            0                  D                     78\n",
       "17  Sheffield United            1                  W                    106\n",
       "15          West Ham            1                  W                     69\n",
       "25             Leeds            1                  W                     42\n",
       "18              Ajax            1                  W                     49\n",
       "5          Tottenham            1                  W                     48\n",
       "9               Ajax            1                  W                     43\n",
       "16       Midtjylland            2                  W                     52\n",
       "22           Arsenal            2                  W                     71\n",
       "24           Chelsea            2                  W                    128\n",
       "0        Aston Villa            3                  W                     37\n",
       "12         Leicester            3                  W                     68\n",
       "8             Wolves            4                  W                     58\n",
       "23           Lincoln            5                  W                     63\n",
       "14          Atalanta            5                  W                     71\n",
       "4     Crystal Palace            7                  W                     61"
      ]
     },
     "execution_count": 1077,
     "metadata": {},
     "output_type": "execute_result"
    }
   ],
   "source": [
    "df.sort_values(\"Goal Margin\", ascending = True) # Similar looking table to the previous one"
   ]
  },
  {
   "cell_type": "code",
   "execution_count": 1078,
   "metadata": {},
   "outputs": [
    {
     "data": {
      "text/plain": [
       "62.36"
      ]
     },
     "execution_count": 1078,
     "metadata": {},
     "output_type": "execute_result"
    }
   ],
   "source": [
    "df = df[df[\"Goal Margin\"] != -5]\n",
    "res = df[\"Watch along views (K)\"].mean()\n",
    "res # Average number of views on watch alongs without the heavy defeat."
   ]
  },
  {
   "cell_type": "code",
   "execution_count": 1079,
   "metadata": {},
   "outputs": [
    {
     "data": {
      "text/plain": [
       "4.23348300192431"
      ]
     },
     "execution_count": 1079,
     "metadata": {},
     "output_type": "execute_result"
    }
   ],
   "source": [
    "264 / res # Number of times more the amount of people viewing the heavy defeat compared to other games."
   ]
  },
  {
   "cell_type": "markdown",
   "metadata": {},
   "source": [
    "## Expressionz Oozing Stats:"
   ]
  },
  {
   "cell_type": "code",
   "execution_count": 1080,
   "metadata": {},
   "outputs": [
    {
     "data": {
      "text/html": [
       "<div>\n",
       "<style scoped>\n",
       "    .dataframe tbody tr th:only-of-type {\n",
       "        vertical-align: middle;\n",
       "    }\n",
       "\n",
       "    .dataframe tbody tr th {\n",
       "        vertical-align: top;\n",
       "    }\n",
       "\n",
       "    .dataframe thead th {\n",
       "        text-align: right;\n",
       "    }\n",
       "</style>\n",
       "<table border=\"1\" class=\"dataframe\">\n",
       "  <thead>\n",
       "    <tr style=\"text-align: right;\">\n",
       "      <th></th>\n",
       "      <th>Competition</th>\n",
       "      <th>Opponent</th>\n",
       "      <th>Opposition Score</th>\n",
       "      <th>Tottenham Score</th>\n",
       "      <th>Goal Margin</th>\n",
       "      <th>Result (W, D or L)</th>\n",
       "      <th>Expressionz Reaction (K)</th>\n",
       "      <th>Watch along views (K)</th>\n",
       "    </tr>\n",
       "  </thead>\n",
       "  <tbody>\n",
       "    <tr>\n",
       "      <th>2</th>\n",
       "      <td>EFL Cup</td>\n",
       "      <td>Brentford</td>\n",
       "      <td>0</td>\n",
       "      <td>2</td>\n",
       "      <td>2</td>\n",
       "      <td>W</td>\n",
       "      <td>47</td>\n",
       "      <td>74</td>\n",
       "    </tr>\n",
       "    <tr>\n",
       "      <th>3</th>\n",
       "      <td>Premier League</td>\n",
       "      <td>Leeds</td>\n",
       "      <td>0</td>\n",
       "      <td>3</td>\n",
       "      <td>3</td>\n",
       "      <td>W</td>\n",
       "      <td>47</td>\n",
       "      <td>60</td>\n",
       "    </tr>\n",
       "    <tr>\n",
       "      <th>5</th>\n",
       "      <td>EFL Cup</td>\n",
       "      <td>Stoke</td>\n",
       "      <td>1</td>\n",
       "      <td>3</td>\n",
       "      <td>2</td>\n",
       "      <td>W</td>\n",
       "      <td>61</td>\n",
       "      <td>59</td>\n",
       "    </tr>\n",
       "    <tr>\n",
       "      <th>9</th>\n",
       "      <td>Europa League</td>\n",
       "      <td>Antwerp</td>\n",
       "      <td>0</td>\n",
       "      <td>2</td>\n",
       "      <td>2</td>\n",
       "      <td>W</td>\n",
       "      <td>46</td>\n",
       "      <td>28</td>\n",
       "    </tr>\n",
       "    <tr>\n",
       "      <th>10</th>\n",
       "      <td>Premier League</td>\n",
       "      <td>Arsenal</td>\n",
       "      <td>0</td>\n",
       "      <td>2</td>\n",
       "      <td>2</td>\n",
       "      <td>W</td>\n",
       "      <td>152</td>\n",
       "      <td>118</td>\n",
       "    </tr>\n",
       "    <tr>\n",
       "      <th>13</th>\n",
       "      <td>Europa League</td>\n",
       "      <td>Ludogorets</td>\n",
       "      <td>0</td>\n",
       "      <td>4</td>\n",
       "      <td>4</td>\n",
       "      <td>W</td>\n",
       "      <td>24</td>\n",
       "      <td>27</td>\n",
       "    </tr>\n",
       "    <tr>\n",
       "      <th>14</th>\n",
       "      <td>Premier League</td>\n",
       "      <td>Manchester City</td>\n",
       "      <td>0</td>\n",
       "      <td>2</td>\n",
       "      <td>2</td>\n",
       "      <td>W</td>\n",
       "      <td>79</td>\n",
       "      <td>107</td>\n",
       "    </tr>\n",
       "    <tr>\n",
       "      <th>15</th>\n",
       "      <td>Premier League</td>\n",
       "      <td>West Brom</td>\n",
       "      <td>0</td>\n",
       "      <td>1</td>\n",
       "      <td>1</td>\n",
       "      <td>W</td>\n",
       "      <td>26</td>\n",
       "      <td>80</td>\n",
       "    </tr>\n",
       "    <tr>\n",
       "      <th>16</th>\n",
       "      <td>Europa League</td>\n",
       "      <td>Ludogorets</td>\n",
       "      <td>1</td>\n",
       "      <td>3</td>\n",
       "      <td>2</td>\n",
       "      <td>W</td>\n",
       "      <td>28</td>\n",
       "      <td>30</td>\n",
       "    </tr>\n",
       "    <tr>\n",
       "      <th>17</th>\n",
       "      <td>Premier League</td>\n",
       "      <td>Brighton</td>\n",
       "      <td>1</td>\n",
       "      <td>2</td>\n",
       "      <td>1</td>\n",
       "      <td>W</td>\n",
       "      <td>49</td>\n",
       "      <td>64</td>\n",
       "    </tr>\n",
       "    <tr>\n",
       "      <th>19</th>\n",
       "      <td>Premier League</td>\n",
       "      <td>Burnley</td>\n",
       "      <td>0</td>\n",
       "      <td>1</td>\n",
       "      <td>1</td>\n",
       "      <td>W</td>\n",
       "      <td>23</td>\n",
       "      <td>11</td>\n",
       "    </tr>\n",
       "    <tr>\n",
       "      <th>20</th>\n",
       "      <td>Europa League</td>\n",
       "      <td>LASK</td>\n",
       "      <td>0</td>\n",
       "      <td>3</td>\n",
       "      <td>3</td>\n",
       "      <td>W</td>\n",
       "      <td>35</td>\n",
       "      <td>47</td>\n",
       "    </tr>\n",
       "    <tr>\n",
       "      <th>22</th>\n",
       "      <td>Premier League</td>\n",
       "      <td>Manchester United</td>\n",
       "      <td>1</td>\n",
       "      <td>6</td>\n",
       "      <td>5</td>\n",
       "      <td>W</td>\n",
       "      <td>120</td>\n",
       "      <td>120</td>\n",
       "    </tr>\n",
       "    <tr>\n",
       "      <th>24</th>\n",
       "      <td>EFL Cup</td>\n",
       "      <td>Chelsea</td>\n",
       "      <td>1</td>\n",
       "      <td>2</td>\n",
       "      <td>1</td>\n",
       "      <td>W</td>\n",
       "      <td>74</td>\n",
       "      <td>93</td>\n",
       "    </tr>\n",
       "    <tr>\n",
       "      <th>27</th>\n",
       "      <td>Premier League</td>\n",
       "      <td>Southampton</td>\n",
       "      <td>2</td>\n",
       "      <td>5</td>\n",
       "      <td>3</td>\n",
       "      <td>W</td>\n",
       "      <td>79</td>\n",
       "      <td>98</td>\n",
       "    </tr>\n",
       "  </tbody>\n",
       "</table>\n",
       "</div>"
      ],
      "text/plain": [
       "       Competition           Opponent  Opposition Score  Tottenham Score  \\\n",
       "2          EFL Cup          Brentford                 0                2   \n",
       "3   Premier League              Leeds                 0                3   \n",
       "5          EFL Cup              Stoke                 1                3   \n",
       "9    Europa League            Antwerp                 0                2   \n",
       "10  Premier League            Arsenal                 0                2   \n",
       "13   Europa League         Ludogorets                 0                4   \n",
       "14  Premier League    Manchester City                 0                2   \n",
       "15  Premier League          West Brom                 0                1   \n",
       "16   Europa League         Ludogorets                 1                3   \n",
       "17  Premier League           Brighton                 1                2   \n",
       "19  Premier League            Burnley                 0                1   \n",
       "20   Europa League               LASK                 0                3   \n",
       "22  Premier League  Manchester United                 1                6   \n",
       "24         EFL Cup            Chelsea                 1                2   \n",
       "27  Premier League        Southampton                 2                5   \n",
       "\n",
       "    Goal Margin Result (W, D or L)  Expressionz Reaction (K)  \\\n",
       "2             2                  W                        47   \n",
       "3             3                  W                        47   \n",
       "5             2                  W                        61   \n",
       "9             2                  W                        46   \n",
       "10            2                  W                       152   \n",
       "13            4                  W                        24   \n",
       "14            2                  W                        79   \n",
       "15            1                  W                        26   \n",
       "16            2                  W                        28   \n",
       "17            1                  W                        49   \n",
       "19            1                  W                        23   \n",
       "20            3                  W                        35   \n",
       "22            5                  W                       120   \n",
       "24            1                  W                        74   \n",
       "27            3                  W                        79   \n",
       "\n",
       "    Watch along views (K)  \n",
       "2                      74  \n",
       "3                      60  \n",
       "5                      59  \n",
       "9                      28  \n",
       "10                    118  \n",
       "13                     27  \n",
       "14                    107  \n",
       "15                     80  \n",
       "16                     30  \n",
       "17                     64  \n",
       "19                     11  \n",
       "20                     47  \n",
       "22                    120  \n",
       "24                     93  \n",
       "27                     98  "
      ]
     },
     "execution_count": 1080,
     "metadata": {},
     "output_type": "execute_result"
    }
   ],
   "source": [
    "Ex_Ws = Ex[Ex[\"Result (W, D or L)\"] == \"W\"]\n",
    "Ex_Ws"
   ]
  },
  {
   "cell_type": "code",
   "execution_count": 1081,
   "metadata": {},
   "outputs": [
    {
     "data": {
      "text/html": [
       "<div>\n",
       "<style scoped>\n",
       "    .dataframe tbody tr th:only-of-type {\n",
       "        vertical-align: middle;\n",
       "    }\n",
       "\n",
       "    .dataframe tbody tr th {\n",
       "        vertical-align: top;\n",
       "    }\n",
       "\n",
       "    .dataframe thead th {\n",
       "        text-align: right;\n",
       "    }\n",
       "</style>\n",
       "<table border=\"1\" class=\"dataframe\">\n",
       "  <thead>\n",
       "    <tr style=\"text-align: right;\">\n",
       "      <th></th>\n",
       "      <th>Competition</th>\n",
       "      <th>Opponent</th>\n",
       "      <th>Opposition Score</th>\n",
       "      <th>Tottenham Score</th>\n",
       "      <th>Goal Margin</th>\n",
       "      <th>Result (W, D or L)</th>\n",
       "      <th>Expressionz Reaction (K)</th>\n",
       "      <th>Watch along views (K)</th>\n",
       "    </tr>\n",
       "  </thead>\n",
       "  <tbody>\n",
       "    <tr>\n",
       "      <th>0</th>\n",
       "      <td>Premier League</td>\n",
       "      <td>Fulham</td>\n",
       "      <td>1</td>\n",
       "      <td>1</td>\n",
       "      <td>0</td>\n",
       "      <td>D</td>\n",
       "      <td>85</td>\n",
       "      <td>57</td>\n",
       "    </tr>\n",
       "    <tr>\n",
       "      <th>4</th>\n",
       "      <td>Premier League</td>\n",
       "      <td>Wolves</td>\n",
       "      <td>1</td>\n",
       "      <td>1</td>\n",
       "      <td>0</td>\n",
       "      <td>D</td>\n",
       "      <td>91</td>\n",
       "      <td>87</td>\n",
       "    </tr>\n",
       "    <tr>\n",
       "      <th>6</th>\n",
       "      <td>Premier League</td>\n",
       "      <td>Leicester</td>\n",
       "      <td>2</td>\n",
       "      <td>0</td>\n",
       "      <td>-2</td>\n",
       "      <td>L</td>\n",
       "      <td>105</td>\n",
       "      <td>116</td>\n",
       "    </tr>\n",
       "    <tr>\n",
       "      <th>7</th>\n",
       "      <td>Premier League</td>\n",
       "      <td>Liverpool</td>\n",
       "      <td>2</td>\n",
       "      <td>1</td>\n",
       "      <td>-1</td>\n",
       "      <td>L</td>\n",
       "      <td>85</td>\n",
       "      <td>113</td>\n",
       "    </tr>\n",
       "    <tr>\n",
       "      <th>8</th>\n",
       "      <td>Premier League</td>\n",
       "      <td>Crystal Palace</td>\n",
       "      <td>1</td>\n",
       "      <td>1</td>\n",
       "      <td>0</td>\n",
       "      <td>D</td>\n",
       "      <td>47</td>\n",
       "      <td>49</td>\n",
       "    </tr>\n",
       "    <tr>\n",
       "      <th>11</th>\n",
       "      <td>Europa League</td>\n",
       "      <td>LASK</td>\n",
       "      <td>3</td>\n",
       "      <td>3</td>\n",
       "      <td>0</td>\n",
       "      <td>D</td>\n",
       "      <td>43</td>\n",
       "      <td>50</td>\n",
       "    </tr>\n",
       "    <tr>\n",
       "      <th>12</th>\n",
       "      <td>Premier League</td>\n",
       "      <td>Chelsea</td>\n",
       "      <td>0</td>\n",
       "      <td>0</td>\n",
       "      <td>0</td>\n",
       "      <td>D</td>\n",
       "      <td>38</td>\n",
       "      <td>65</td>\n",
       "    </tr>\n",
       "    <tr>\n",
       "      <th>18</th>\n",
       "      <td>Europa League</td>\n",
       "      <td>Antwerp</td>\n",
       "      <td>1</td>\n",
       "      <td>0</td>\n",
       "      <td>-1</td>\n",
       "      <td>L</td>\n",
       "      <td>77</td>\n",
       "      <td>59</td>\n",
       "    </tr>\n",
       "    <tr>\n",
       "      <th>21</th>\n",
       "      <td>Premier League</td>\n",
       "      <td>West Ham</td>\n",
       "      <td>3</td>\n",
       "      <td>3</td>\n",
       "      <td>0</td>\n",
       "      <td>D</td>\n",
       "      <td>165</td>\n",
       "      <td>130</td>\n",
       "    </tr>\n",
       "    <tr>\n",
       "      <th>25</th>\n",
       "      <td>Premier League</td>\n",
       "      <td>Newcastle</td>\n",
       "      <td>1</td>\n",
       "      <td>1</td>\n",
       "      <td>0</td>\n",
       "      <td>D</td>\n",
       "      <td>131</td>\n",
       "      <td>68</td>\n",
       "    </tr>\n",
       "    <tr>\n",
       "      <th>29</th>\n",
       "      <td>Premier League</td>\n",
       "      <td>Everton</td>\n",
       "      <td>1</td>\n",
       "      <td>0</td>\n",
       "      <td>-1</td>\n",
       "      <td>L</td>\n",
       "      <td>200</td>\n",
       "      <td>86</td>\n",
       "    </tr>\n",
       "  </tbody>\n",
       "</table>\n",
       "</div>"
      ],
      "text/plain": [
       "       Competition        Opponent  Opposition Score  Tottenham Score  \\\n",
       "0   Premier League          Fulham                 1                1   \n",
       "4   Premier League          Wolves                 1                1   \n",
       "6   Premier League       Leicester                 2                0   \n",
       "7   Premier League       Liverpool                 2                1   \n",
       "8   Premier League  Crystal Palace                 1                1   \n",
       "11   Europa League            LASK                 3                3   \n",
       "12  Premier League         Chelsea                 0                0   \n",
       "18   Europa League         Antwerp                 1                0   \n",
       "21  Premier League        West Ham                 3                3   \n",
       "25  Premier League       Newcastle                 1                1   \n",
       "29  Premier League         Everton                 1                0   \n",
       "\n",
       "    Goal Margin Result (W, D or L)  Expressionz Reaction (K)  \\\n",
       "0             0                  D                        85   \n",
       "4             0                  D                        91   \n",
       "6            -2                  L                       105   \n",
       "7            -1                  L                        85   \n",
       "8             0                  D                        47   \n",
       "11            0                  D                        43   \n",
       "12            0                  D                        38   \n",
       "18           -1                  L                        77   \n",
       "21            0                  D                       165   \n",
       "25            0                  D                       131   \n",
       "29           -1                  L                       200   \n",
       "\n",
       "    Watch along views (K)  \n",
       "0                      57  \n",
       "4                      87  \n",
       "6                     116  \n",
       "7                     113  \n",
       "8                      49  \n",
       "11                     50  \n",
       "12                     65  \n",
       "18                     59  \n",
       "21                    130  \n",
       "25                     68  \n",
       "29                     86  "
      ]
     },
     "execution_count": 1081,
     "metadata": {},
     "output_type": "execute_result"
    }
   ],
   "source": [
    "Ex_LDs = Ex[Ex[\"Result (W, D or L)\"] != \"W\"]\n",
    "Ex_LDs"
   ]
  },
  {
   "cell_type": "code",
   "execution_count": 1082,
   "metadata": {},
   "outputs": [
    {
     "data": {
      "text/html": [
       "<div>\n",
       "<style scoped>\n",
       "    .dataframe tbody tr th:only-of-type {\n",
       "        vertical-align: middle;\n",
       "    }\n",
       "\n",
       "    .dataframe tbody tr th {\n",
       "        vertical-align: top;\n",
       "    }\n",
       "\n",
       "    .dataframe thead th {\n",
       "        text-align: right;\n",
       "    }\n",
       "</style>\n",
       "<table border=\"1\" class=\"dataframe\">\n",
       "  <thead>\n",
       "    <tr style=\"text-align: right;\">\n",
       "      <th></th>\n",
       "      <th>Competition</th>\n",
       "      <th>Opponent</th>\n",
       "      <th>Opposition Score</th>\n",
       "      <th>Tottenham Score</th>\n",
       "      <th>Goal Margin</th>\n",
       "      <th>Result (W, D or L)</th>\n",
       "      <th>Expressionz Reaction (K)</th>\n",
       "      <th>Watch along views (K)</th>\n",
       "    </tr>\n",
       "  </thead>\n",
       "  <tbody>\n",
       "    <tr>\n",
       "      <th>6</th>\n",
       "      <td>Premier League</td>\n",
       "      <td>Leicester</td>\n",
       "      <td>2</td>\n",
       "      <td>0</td>\n",
       "      <td>-2</td>\n",
       "      <td>L</td>\n",
       "      <td>105</td>\n",
       "      <td>116</td>\n",
       "    </tr>\n",
       "    <tr>\n",
       "      <th>7</th>\n",
       "      <td>Premier League</td>\n",
       "      <td>Liverpool</td>\n",
       "      <td>2</td>\n",
       "      <td>1</td>\n",
       "      <td>-1</td>\n",
       "      <td>L</td>\n",
       "      <td>85</td>\n",
       "      <td>113</td>\n",
       "    </tr>\n",
       "    <tr>\n",
       "      <th>18</th>\n",
       "      <td>Europa League</td>\n",
       "      <td>Antwerp</td>\n",
       "      <td>1</td>\n",
       "      <td>0</td>\n",
       "      <td>-1</td>\n",
       "      <td>L</td>\n",
       "      <td>77</td>\n",
       "      <td>59</td>\n",
       "    </tr>\n",
       "    <tr>\n",
       "      <th>29</th>\n",
       "      <td>Premier League</td>\n",
       "      <td>Everton</td>\n",
       "      <td>1</td>\n",
       "      <td>0</td>\n",
       "      <td>-1</td>\n",
       "      <td>L</td>\n",
       "      <td>200</td>\n",
       "      <td>86</td>\n",
       "    </tr>\n",
       "  </tbody>\n",
       "</table>\n",
       "</div>"
      ],
      "text/plain": [
       "       Competition   Opponent  Opposition Score  Tottenham Score  Goal Margin  \\\n",
       "6   Premier League  Leicester                 2                0           -2   \n",
       "7   Premier League  Liverpool                 2                1           -1   \n",
       "18   Europa League    Antwerp                 1                0           -1   \n",
       "29  Premier League    Everton                 1                0           -1   \n",
       "\n",
       "   Result (W, D or L)  Expressionz Reaction (K)  Watch along views (K)  \n",
       "6                   L                       105                    116  \n",
       "7                   L                        85                    113  \n",
       "18                  L                        77                     59  \n",
       "29                  L                       200                     86  "
      ]
     },
     "execution_count": 1082,
     "metadata": {},
     "output_type": "execute_result"
    }
   ],
   "source": [
    "Ex_Ls = Ex[Ex[\"Result (W, D or L)\"] == \"L\"]\n",
    "Ex_Ls"
   ]
  },
  {
   "cell_type": "markdown",
   "metadata": {},
   "source": [
    "###### For Expressions reaction videos:"
   ]
  },
  {
   "cell_type": "code",
   "execution_count": 1083,
   "metadata": {},
   "outputs": [
    {
     "data": {
      "text/plain": [
       "59.333333333333336"
      ]
     },
     "execution_count": 1083,
     "metadata": {},
     "output_type": "execute_result"
    }
   ],
   "source": [
    "Ex_avg_views_Ws = Ex_Ws[\"Expressionz Reaction (K)\"].mean()\n",
    "Ex_avg_views_Ws # Average number of views when Tottenham win."
   ]
  },
  {
   "cell_type": "code",
   "execution_count": 1084,
   "metadata": {},
   "outputs": [
    {
     "data": {
      "text/plain": [
       "97.0"
      ]
     },
     "execution_count": 1084,
     "metadata": {},
     "output_type": "execute_result"
    }
   ],
   "source": [
    "Ex_avg_views_LDs = Ex_LDs[\"Expressionz Reaction (K)\"].mean()\n",
    "Ex_avg_views_LDs # Average number of views when Tottenham draw or lose."
   ]
  },
  {
   "cell_type": "code",
   "execution_count": 1085,
   "metadata": {},
   "outputs": [
    {
     "data": {
      "text/plain": [
       "116.75"
      ]
     },
     "execution_count": 1085,
     "metadata": {},
     "output_type": "execute_result"
    }
   ],
   "source": [
    "Ex_avg_views_Ls = Ex_Ls[\"Expressionz Reaction (K)\"].mean()\n",
    "Ex_avg_views_Ls # Average number of views when Tottenham lose."
   ]
  },
  {
   "cell_type": "code",
   "execution_count": 1086,
   "metadata": {},
   "outputs": [
    {
     "data": {
      "text/plain": [
       "63.48314606741572"
      ]
     },
     "execution_count": 1086,
     "metadata": {},
     "output_type": "execute_result"
    }
   ],
   "source": [
    "res = Ex_avg_views_LDs - Ex_avg_views_Ws\n",
    "Ex_res1 = res / Ex_avg_views_Ws * 100\n",
    "Ex_res1\n",
    "# Increase in average views when Tottenham draw or lose."
   ]
  },
  {
   "cell_type": "code",
   "execution_count": 1087,
   "metadata": {},
   "outputs": [
    {
     "data": {
      "text/plain": [
       "96.76966292134831"
      ]
     },
     "execution_count": 1087,
     "metadata": {},
     "output_type": "execute_result"
    }
   ],
   "source": [
    "res = Ex_avg_views_Ls - Ex_avg_views_Ws\n",
    "Ex_res2 = res / Ex_avg_views_Ws * 100\n",
    "Ex_res2\n",
    "# Increase in average views when Tottenham lose."
   ]
  },
  {
   "cell_type": "code",
   "execution_count": 1088,
   "metadata": {},
   "outputs": [
    {
     "data": {
      "text/plain": [
       "1.6348314606741572"
      ]
     },
     "execution_count": 1088,
     "metadata": {},
     "output_type": "execute_result"
    }
   ],
   "source": [
    "Ex_res3 = Ex_avg_views_LDs / Ex_avg_views_Ws\n",
    "Ex_res3\n",
    "# Number of times more views received when Tottenham draw or lose."
   ]
  },
  {
   "cell_type": "code",
   "execution_count": 1089,
   "metadata": {},
   "outputs": [
    {
     "data": {
      "text/plain": [
       "1.967696629213483"
      ]
     },
     "execution_count": 1089,
     "metadata": {},
     "output_type": "execute_result"
    }
   ],
   "source": [
    "Ex_res4 = Ex_avg_views_Ls / Ex_avg_views_Ws\n",
    "Ex_res4\n",
    "# Number of times more views received when Tottenham lose."
   ]
  },
  {
   "cell_type": "markdown",
   "metadata": {},
   "source": [
    "###### For watch along videos:"
   ]
  },
  {
   "cell_type": "code",
   "execution_count": 1090,
   "metadata": {},
   "outputs": [
    {
     "data": {
      "text/plain": [
       "67.73333333333333"
      ]
     },
     "execution_count": 1090,
     "metadata": {},
     "output_type": "execute_result"
    }
   ],
   "source": [
    "Ex_avg_views_wa_Ws = Ex_Ws[\"Watch along views (K)\"].mean()\n",
    "Ex_avg_views_wa_Ws # Average number of views on watch alongs when Tottenham win."
   ]
  },
  {
   "cell_type": "code",
   "execution_count": 1091,
   "metadata": {},
   "outputs": [
    {
     "data": {
      "text/plain": [
       "80.0"
      ]
     },
     "execution_count": 1091,
     "metadata": {},
     "output_type": "execute_result"
    }
   ],
   "source": [
    "Ex_avg_views_wa_LDs = Ex_LDs[\"Watch along views (K)\"].mean()\n",
    "Ex_avg_views_wa_LDs # Average number of views on watch alongs when Tottenham draw or lose."
   ]
  },
  {
   "cell_type": "code",
   "execution_count": 1092,
   "metadata": {},
   "outputs": [
    {
     "data": {
      "text/plain": [
       "93.5"
      ]
     },
     "execution_count": 1092,
     "metadata": {},
     "output_type": "execute_result"
    }
   ],
   "source": [
    "Ex_avg_views_wa_Ls = Ex_Ls[\"Watch along views (K)\"].mean()\n",
    "Ex_avg_views_wa_Ls # Average number of views on watch alongs when Tottenham lose."
   ]
  },
  {
   "cell_type": "code",
   "execution_count": 1093,
   "metadata": {},
   "outputs": [
    {
     "data": {
      "text/plain": [
       "18.11023622047244"
      ]
     },
     "execution_count": 1093,
     "metadata": {},
     "output_type": "execute_result"
    }
   ],
   "source": [
    "res = Ex_avg_views_wa_LDs - Ex_avg_views_wa_Ws\n",
    "Ex_res5 = res / Ex_avg_views_wa_Ws * 100 \n",
    "Ex_res5\n",
    "# Percentage of increased watch along views when Tottenham are losing or drawing."
   ]
  },
  {
   "cell_type": "code",
   "execution_count": 1094,
   "metadata": {},
   "outputs": [
    {
     "data": {
      "text/plain": [
       "27.557932263814617"
      ]
     },
     "execution_count": 1094,
     "metadata": {},
     "output_type": "execute_result"
    }
   ],
   "source": [
    "res = Ex_avg_views_wa_Ls - Ex_avg_views_wa_Ws\n",
    "Ex_res6 = res / Ex_avg_views_wa_Ls * 100\n",
    "Ex_res6 # Percentage of increased watch along views when Tottenham are losing."
   ]
  },
  {
   "cell_type": "code",
   "execution_count": 1095,
   "metadata": {},
   "outputs": [
    {
     "data": {
      "text/plain": [
       "1.1811023622047243"
      ]
     },
     "execution_count": 1095,
     "metadata": {},
     "output_type": "execute_result"
    }
   ],
   "source": [
    "Ex_res7 = Ex_avg_views_wa_LDs / Ex_avg_views_wa_Ws\n",
    "Ex_res7\n",
    "# Number of times more views on watch alongs received when Tottenham draw or lose."
   ]
  },
  {
   "cell_type": "code",
   "execution_count": 1096,
   "metadata": {},
   "outputs": [
    {
     "data": {
      "text/plain": [
       "1.3804133858267715"
      ]
     },
     "execution_count": 1096,
     "metadata": {},
     "output_type": "execute_result"
    }
   ],
   "source": [
    "Ex_res8 = Ex_avg_views_wa_Ls / Ex_avg_views_wa_Ws\n",
    "Ex_res8\n",
    "# Number of times more views on watch alongs received when Tottenham lose."
   ]
  },
  {
   "cell_type": "code",
   "execution_count": 1097,
   "metadata": {},
   "outputs": [
    {
     "data": {
      "text/html": [
       "<div>\n",
       "<style scoped>\n",
       "    .dataframe tbody tr th:only-of-type {\n",
       "        vertical-align: middle;\n",
       "    }\n",
       "\n",
       "    .dataframe tbody tr th {\n",
       "        vertical-align: top;\n",
       "    }\n",
       "\n",
       "    .dataframe thead th {\n",
       "        text-align: right;\n",
       "    }\n",
       "</style>\n",
       "<table border=\"1\" class=\"dataframe\">\n",
       "  <thead>\n",
       "    <tr style=\"text-align: right;\">\n",
       "      <th></th>\n",
       "      <th>Watch Along Statistics</th>\n",
       "      <th>Expressionz Reacts Statistics</th>\n",
       "    </tr>\n",
       "  </thead>\n",
       "  <tbody>\n",
       "    <tr>\n",
       "      <th>Average Views (W)</th>\n",
       "      <td>67.73</td>\n",
       "      <td>59.33</td>\n",
       "    </tr>\n",
       "    <tr>\n",
       "      <th>Average Views (L+D)</th>\n",
       "      <td>80.00</td>\n",
       "      <td>97.00</td>\n",
       "    </tr>\n",
       "    <tr>\n",
       "      <th>Average Views (L)</th>\n",
       "      <td>93.50</td>\n",
       "      <td>116.75</td>\n",
       "    </tr>\n",
       "    <tr>\n",
       "      <th>% of more views on Ls &amp; Ds</th>\n",
       "      <td>63.48</td>\n",
       "      <td>18.11</td>\n",
       "    </tr>\n",
       "    <tr>\n",
       "      <th>% of more views on Ls</th>\n",
       "      <td>96.77</td>\n",
       "      <td>27.56</td>\n",
       "    </tr>\n",
       "    <tr>\n",
       "      <th>x more views on Ls and Ds</th>\n",
       "      <td>1.63</td>\n",
       "      <td>1.18</td>\n",
       "    </tr>\n",
       "    <tr>\n",
       "      <th>x more views on Ls</th>\n",
       "      <td>1.97</td>\n",
       "      <td>1.38</td>\n",
       "    </tr>\n",
       "  </tbody>\n",
       "</table>\n",
       "</div>"
      ],
      "text/plain": [
       "                            Watch Along Statistics  \\\n",
       "Average Views (W)                            67.73   \n",
       "Average Views (L+D)                          80.00   \n",
       "Average Views (L)                            93.50   \n",
       "% of more views on Ls & Ds                   63.48   \n",
       "% of more views on Ls                        96.77   \n",
       "x more views on Ls and Ds                     1.63   \n",
       "x more views on Ls                            1.97   \n",
       "\n",
       "                            Expressionz Reacts Statistics  \n",
       "Average Views (W)                                   59.33  \n",
       "Average Views (L+D)                                 97.00  \n",
       "Average Views (L)                                  116.75  \n",
       "% of more views on Ls & Ds                          18.11  \n",
       "% of more views on Ls                               27.56  \n",
       "x more views on Ls and Ds                            1.18  \n",
       "x more views on Ls                                   1.38  "
      ]
     },
     "execution_count": 1097,
     "metadata": {},
     "output_type": "execute_result"
    }
   ],
   "source": [
    "d = {\"Watch Along Statistics\": [Ex_avg_views_wa_Ws, Ex_avg_views_wa_LDs, Ex_avg_views_wa_Ls, \n",
    "                               Ex_res1, Ex_res2, Ex_res3, Ex_res4],\n",
    "     \"Expressionz Reacts Statistics\": [Ex_avg_views_Ws, Ex_avg_views_LDs, Ex_avg_views_Ls, \n",
    "                               Ex_res5, Ex_res6, Ex_res7, Ex_res8]}\n",
    "df = pd.DataFrame(data = d, index = [\"Average Views (W)\", \"Average Views (L+D)\", \"Average Views (L)\", \n",
    "                                     \"% of more views on Ls & Ds\", \"% of more views on Ls\", \n",
    "                                     \"x more views on Ls and Ds\", \"x more views on Ls\"])\n",
    "df.round(2)"
   ]
  },
  {
   "cell_type": "markdown",
   "metadata": {},
   "source": [
    "## The United Stand Stats:"
   ]
  },
  {
   "cell_type": "code",
   "execution_count": 1098,
   "metadata": {},
   "outputs": [
    {
     "data": {
      "text/html": [
       "<div>\n",
       "<style scoped>\n",
       "    .dataframe tbody tr th:only-of-type {\n",
       "        vertical-align: middle;\n",
       "    }\n",
       "\n",
       "    .dataframe tbody tr th {\n",
       "        vertical-align: top;\n",
       "    }\n",
       "\n",
       "    .dataframe thead th {\n",
       "        text-align: right;\n",
       "    }\n",
       "</style>\n",
       "<table border=\"1\" class=\"dataframe\">\n",
       "  <thead>\n",
       "    <tr style=\"text-align: right;\">\n",
       "      <th></th>\n",
       "      <th>Competition</th>\n",
       "      <th>Opponent</th>\n",
       "      <th>Opposition Score</th>\n",
       "      <th>United Score</th>\n",
       "      <th>Goal Margin</th>\n",
       "      <th>Result (W, D or L)</th>\n",
       "      <th>Goldbridge Reaction (K)</th>\n",
       "      <th>Watch along views (K)</th>\n",
       "    </tr>\n",
       "  </thead>\n",
       "  <tbody>\n",
       "    <tr>\n",
       "      <th>0</th>\n",
       "      <td>Premier League</td>\n",
       "      <td>Burnley</td>\n",
       "      <td>0</td>\n",
       "      <td>1</td>\n",
       "      <td>1</td>\n",
       "      <td>W</td>\n",
       "      <td>370</td>\n",
       "      <td>659</td>\n",
       "    </tr>\n",
       "    <tr>\n",
       "      <th>1</th>\n",
       "      <td>FA Cup</td>\n",
       "      <td>Watford</td>\n",
       "      <td>0</td>\n",
       "      <td>1</td>\n",
       "      <td>1</td>\n",
       "      <td>W</td>\n",
       "      <td>209</td>\n",
       "      <td>433</td>\n",
       "    </tr>\n",
       "    <tr>\n",
       "      <th>3</th>\n",
       "      <td>Premier League</td>\n",
       "      <td>Aston Villa</td>\n",
       "      <td>1</td>\n",
       "      <td>2</td>\n",
       "      <td>1</td>\n",
       "      <td>W</td>\n",
       "      <td>373</td>\n",
       "      <td>614</td>\n",
       "    </tr>\n",
       "    <tr>\n",
       "      <th>4</th>\n",
       "      <td>Premier League</td>\n",
       "      <td>Wolves</td>\n",
       "      <td>0</td>\n",
       "      <td>1</td>\n",
       "      <td>1</td>\n",
       "      <td>W</td>\n",
       "      <td>333</td>\n",
       "      <td>591</td>\n",
       "    </tr>\n",
       "    <tr>\n",
       "      <th>5</th>\n",
       "      <td>Premier League</td>\n",
       "      <td>Leicester</td>\n",
       "      <td>2</td>\n",
       "      <td>2</td>\n",
       "      <td>0</td>\n",
       "      <td>D</td>\n",
       "      <td>263</td>\n",
       "      <td>605</td>\n",
       "    </tr>\n",
       "    <tr>\n",
       "      <th>6</th>\n",
       "      <td>EFL Cup</td>\n",
       "      <td>Everton</td>\n",
       "      <td>0</td>\n",
       "      <td>2</td>\n",
       "      <td>2</td>\n",
       "      <td>W</td>\n",
       "      <td>305</td>\n",
       "      <td>470</td>\n",
       "    </tr>\n",
       "    <tr>\n",
       "      <th>7</th>\n",
       "      <td>Premier League</td>\n",
       "      <td>Leeds</td>\n",
       "      <td>2</td>\n",
       "      <td>6</td>\n",
       "      <td>4</td>\n",
       "      <td>W</td>\n",
       "      <td>372</td>\n",
       "      <td>657</td>\n",
       "    </tr>\n",
       "    <tr>\n",
       "      <th>8</th>\n",
       "      <td>Premier League</td>\n",
       "      <td>Sheffield United</td>\n",
       "      <td>2</td>\n",
       "      <td>3</td>\n",
       "      <td>1</td>\n",
       "      <td>W</td>\n",
       "      <td>265</td>\n",
       "      <td>562</td>\n",
       "    </tr>\n",
       "    <tr>\n",
       "      <th>9</th>\n",
       "      <td>Premier League</td>\n",
       "      <td>Manchester City</td>\n",
       "      <td>0</td>\n",
       "      <td>0</td>\n",
       "      <td>0</td>\n",
       "      <td>D</td>\n",
       "      <td>231</td>\n",
       "      <td>569</td>\n",
       "    </tr>\n",
       "    <tr>\n",
       "      <th>11</th>\n",
       "      <td>Premier League</td>\n",
       "      <td>West Ham</td>\n",
       "      <td>1</td>\n",
       "      <td>3</td>\n",
       "      <td>2</td>\n",
       "      <td>W</td>\n",
       "      <td>303</td>\n",
       "      <td>566</td>\n",
       "    </tr>\n",
       "    <tr>\n",
       "      <th>13</th>\n",
       "      <td>Premier League</td>\n",
       "      <td>Southampton</td>\n",
       "      <td>2</td>\n",
       "      <td>3</td>\n",
       "      <td>1</td>\n",
       "      <td>W</td>\n",
       "      <td>373</td>\n",
       "      <td>744</td>\n",
       "    </tr>\n",
       "    <tr>\n",
       "      <th>14</th>\n",
       "      <td>Champions League</td>\n",
       "      <td>Basaksehir</td>\n",
       "      <td>1</td>\n",
       "      <td>4</td>\n",
       "      <td>3</td>\n",
       "      <td>W</td>\n",
       "      <td>236</td>\n",
       "      <td>574</td>\n",
       "    </tr>\n",
       "    <tr>\n",
       "      <th>15</th>\n",
       "      <td>Premier League</td>\n",
       "      <td>West Brom</td>\n",
       "      <td>0</td>\n",
       "      <td>1</td>\n",
       "      <td>1</td>\n",
       "      <td>W</td>\n",
       "      <td>222</td>\n",
       "      <td>487</td>\n",
       "    </tr>\n",
       "    <tr>\n",
       "      <th>16</th>\n",
       "      <td>Premier League</td>\n",
       "      <td>Everton</td>\n",
       "      <td>1</td>\n",
       "      <td>3</td>\n",
       "      <td>2</td>\n",
       "      <td>W</td>\n",
       "      <td>296</td>\n",
       "      <td>741</td>\n",
       "    </tr>\n",
       "    <tr>\n",
       "      <th>19</th>\n",
       "      <td>Champions League</td>\n",
       "      <td>Leipzig</td>\n",
       "      <td>0</td>\n",
       "      <td>5</td>\n",
       "      <td>5</td>\n",
       "      <td>W</td>\n",
       "      <td>412</td>\n",
       "      <td>633</td>\n",
       "    </tr>\n",
       "    <tr>\n",
       "      <th>20</th>\n",
       "      <td>Premier League</td>\n",
       "      <td>Chelsea</td>\n",
       "      <td>0</td>\n",
       "      <td>0</td>\n",
       "      <td>0</td>\n",
       "      <td>D</td>\n",
       "      <td>242</td>\n",
       "      <td>601</td>\n",
       "    </tr>\n",
       "    <tr>\n",
       "      <th>21</th>\n",
       "      <td>Champions League</td>\n",
       "      <td>PSG</td>\n",
       "      <td>1</td>\n",
       "      <td>2</td>\n",
       "      <td>1</td>\n",
       "      <td>W</td>\n",
       "      <td>392</td>\n",
       "      <td>800</td>\n",
       "    </tr>\n",
       "    <tr>\n",
       "      <th>22</th>\n",
       "      <td>Premier League</td>\n",
       "      <td>Newcastle</td>\n",
       "      <td>1</td>\n",
       "      <td>4</td>\n",
       "      <td>3</td>\n",
       "      <td>W</td>\n",
       "      <td>323</td>\n",
       "      <td>715</td>\n",
       "    </tr>\n",
       "    <tr>\n",
       "      <th>24</th>\n",
       "      <td>EFL Cup</td>\n",
       "      <td>Brighton</td>\n",
       "      <td>0</td>\n",
       "      <td>3</td>\n",
       "      <td>3</td>\n",
       "      <td>W</td>\n",
       "      <td>243</td>\n",
       "      <td>390</td>\n",
       "    </tr>\n",
       "    <tr>\n",
       "      <th>25</th>\n",
       "      <td>Premier League</td>\n",
       "      <td>Brighton</td>\n",
       "      <td>2</td>\n",
       "      <td>3</td>\n",
       "      <td>1</td>\n",
       "      <td>W</td>\n",
       "      <td>294</td>\n",
       "      <td>706</td>\n",
       "    </tr>\n",
       "    <tr>\n",
       "      <th>26</th>\n",
       "      <td>EFL Cup</td>\n",
       "      <td>Luton</td>\n",
       "      <td>0</td>\n",
       "      <td>3</td>\n",
       "      <td>3</td>\n",
       "      <td>W</td>\n",
       "      <td>238</td>\n",
       "      <td>381</td>\n",
       "    </tr>\n",
       "  </tbody>\n",
       "</table>\n",
       "</div>"
      ],
      "text/plain": [
       "         Competition          Opponent  Opposition Score  United Score  \\\n",
       "0     Premier League           Burnley                 0             1   \n",
       "1             FA Cup           Watford                 0             1   \n",
       "3     Premier League       Aston Villa                 1             2   \n",
       "4     Premier League            Wolves                 0             1   \n",
       "5     Premier League         Leicester                 2             2   \n",
       "6            EFL Cup           Everton                 0             2   \n",
       "7     Premier League             Leeds                 2             6   \n",
       "8     Premier League  Sheffield United                 2             3   \n",
       "9     Premier League   Manchester City                 0             0   \n",
       "11    Premier League          West Ham                 1             3   \n",
       "13    Premier League       Southampton                 2             3   \n",
       "14  Champions League        Basaksehir                 1             4   \n",
       "15    Premier League         West Brom                 0             1   \n",
       "16    Premier League           Everton                 1             3   \n",
       "19  Champions League           Leipzig                 0             5   \n",
       "20    Premier League           Chelsea                 0             0   \n",
       "21  Champions League               PSG                 1             2   \n",
       "22    Premier League         Newcastle                 1             4   \n",
       "24           EFL Cup          Brighton                 0             3   \n",
       "25    Premier League          Brighton                 2             3   \n",
       "26           EFL Cup             Luton                 0             3   \n",
       "\n",
       "    Goal Margin Result (W, D or L)  Goldbridge Reaction (K)  \\\n",
       "0             1                  W                      370   \n",
       "1             1                  W                      209   \n",
       "3             1                  W                      373   \n",
       "4             1                  W                      333   \n",
       "5             0                  D                      263   \n",
       "6             2                  W                      305   \n",
       "7             4                  W                      372   \n",
       "8             1                  W                      265   \n",
       "9             0                  D                      231   \n",
       "11            2                  W                      303   \n",
       "13            1                  W                      373   \n",
       "14            3                  W                      236   \n",
       "15            1                  W                      222   \n",
       "16            2                  W                      296   \n",
       "19            5                  W                      412   \n",
       "20            0                  D                      242   \n",
       "21            1                  W                      392   \n",
       "22            3                  W                      323   \n",
       "24            3                  W                      243   \n",
       "25            1                  W                      294   \n",
       "26            3                  W                      238   \n",
       "\n",
       "    Watch along views (K)  \n",
       "0                     659  \n",
       "1                     433  \n",
       "3                     614  \n",
       "4                     591  \n",
       "5                     605  \n",
       "6                     470  \n",
       "7                     657  \n",
       "8                     562  \n",
       "9                     569  \n",
       "11                    566  \n",
       "13                    744  \n",
       "14                    574  \n",
       "15                    487  \n",
       "16                    741  \n",
       "19                    633  \n",
       "20                    601  \n",
       "21                    800  \n",
       "22                    715  \n",
       "24                    390  \n",
       "25                    706  \n",
       "26                    381  "
      ]
     },
     "execution_count": 1098,
     "metadata": {},
     "output_type": "execute_result"
    }
   ],
   "source": [
    "US_Ws = US[US[\"Result (W, D or L)\"] != \"L\"]\n",
    "US_Ws # Manchester United wins."
   ]
  },
  {
   "cell_type": "code",
   "execution_count": 1099,
   "metadata": {},
   "outputs": [
    {
     "data": {
      "text/html": [
       "<div>\n",
       "<style scoped>\n",
       "    .dataframe tbody tr th:only-of-type {\n",
       "        vertical-align: middle;\n",
       "    }\n",
       "\n",
       "    .dataframe tbody tr th {\n",
       "        vertical-align: top;\n",
       "    }\n",
       "\n",
       "    .dataframe thead th {\n",
       "        text-align: right;\n",
       "    }\n",
       "</style>\n",
       "<table border=\"1\" class=\"dataframe\">\n",
       "  <thead>\n",
       "    <tr style=\"text-align: right;\">\n",
       "      <th></th>\n",
       "      <th>Competition</th>\n",
       "      <th>Opponent</th>\n",
       "      <th>Opposition Score</th>\n",
       "      <th>United Score</th>\n",
       "      <th>Goal Margin</th>\n",
       "      <th>Result (W, D or L)</th>\n",
       "      <th>Goldbridge Reaction (K)</th>\n",
       "      <th>Watch along views (K)</th>\n",
       "    </tr>\n",
       "  </thead>\n",
       "  <tbody>\n",
       "    <tr>\n",
       "      <th>2</th>\n",
       "      <td>EFL Cup</td>\n",
       "      <td>Manchester City</td>\n",
       "      <td>2</td>\n",
       "      <td>0</td>\n",
       "      <td>-2</td>\n",
       "      <td>L</td>\n",
       "      <td>290</td>\n",
       "      <td>731</td>\n",
       "    </tr>\n",
       "    <tr>\n",
       "      <th>10</th>\n",
       "      <td>Champions League</td>\n",
       "      <td>Leipzig</td>\n",
       "      <td>3</td>\n",
       "      <td>2</td>\n",
       "      <td>-1</td>\n",
       "      <td>L</td>\n",
       "      <td>454</td>\n",
       "      <td>950</td>\n",
       "    </tr>\n",
       "    <tr>\n",
       "      <th>12</th>\n",
       "      <td>Champions League</td>\n",
       "      <td>PSG</td>\n",
       "      <td>3</td>\n",
       "      <td>1</td>\n",
       "      <td>-2</td>\n",
       "      <td>L</td>\n",
       "      <td>274</td>\n",
       "      <td>567</td>\n",
       "    </tr>\n",
       "    <tr>\n",
       "      <th>17</th>\n",
       "      <td>Champions League</td>\n",
       "      <td>Basaksehir</td>\n",
       "      <td>2</td>\n",
       "      <td>1</td>\n",
       "      <td>-1</td>\n",
       "      <td>L</td>\n",
       "      <td>376</td>\n",
       "      <td>606</td>\n",
       "    </tr>\n",
       "    <tr>\n",
       "      <th>18</th>\n",
       "      <td>Premier League</td>\n",
       "      <td>Arsenal</td>\n",
       "      <td>1</td>\n",
       "      <td>0</td>\n",
       "      <td>-1</td>\n",
       "      <td>L</td>\n",
       "      <td>418</td>\n",
       "      <td>503</td>\n",
       "    </tr>\n",
       "    <tr>\n",
       "      <th>23</th>\n",
       "      <td>Premier League</td>\n",
       "      <td>Tottenham</td>\n",
       "      <td>6</td>\n",
       "      <td>1</td>\n",
       "      <td>-5</td>\n",
       "      <td>L</td>\n",
       "      <td>438</td>\n",
       "      <td>1000</td>\n",
       "    </tr>\n",
       "    <tr>\n",
       "      <th>27</th>\n",
       "      <td>Premier League</td>\n",
       "      <td>Crystal Palace</td>\n",
       "      <td>3</td>\n",
       "      <td>1</td>\n",
       "      <td>-2</td>\n",
       "      <td>L</td>\n",
       "      <td>414</td>\n",
       "      <td>713</td>\n",
       "    </tr>\n",
       "  </tbody>\n",
       "</table>\n",
       "</div>"
      ],
      "text/plain": [
       "         Competition         Opponent  Opposition Score  United Score  \\\n",
       "2            EFL Cup  Manchester City                 2             0   \n",
       "10  Champions League          Leipzig                 3             2   \n",
       "12  Champions League              PSG                 3             1   \n",
       "17  Champions League       Basaksehir                 2             1   \n",
       "18    Premier League          Arsenal                 1             0   \n",
       "23    Premier League        Tottenham                 6             1   \n",
       "27    Premier League   Crystal Palace                 3             1   \n",
       "\n",
       "    Goal Margin Result (W, D or L)  Goldbridge Reaction (K)  \\\n",
       "2            -2                  L                      290   \n",
       "10           -1                  L                      454   \n",
       "12           -2                  L                      274   \n",
       "17           -1                  L                      376   \n",
       "18           -1                  L                      418   \n",
       "23           -5                  L                      438   \n",
       "27           -2                  L                      414   \n",
       "\n",
       "    Watch along views (K)  \n",
       "2                     731  \n",
       "10                    950  \n",
       "12                    567  \n",
       "17                    606  \n",
       "18                    503  \n",
       "23                   1000  \n",
       "27                    713  "
      ]
     },
     "execution_count": 1099,
     "metadata": {},
     "output_type": "execute_result"
    }
   ],
   "source": [
    "US_Ls = US[US[\"Result (W, D or L)\"] == \"L\"]\n",
    "US_Ls # Manchester United losses."
   ]
  },
  {
   "cell_type": "markdown",
   "metadata": {},
   "source": [
    "###### For Goldbridge reaction videos:"
   ]
  },
  {
   "cell_type": "code",
   "execution_count": 1100,
   "metadata": {},
   "outputs": [
    {
     "data": {
      "text/plain": [
       "299.76190476190476"
      ]
     },
     "execution_count": 1100,
     "metadata": {},
     "output_type": "execute_result"
    }
   ],
   "source": [
    "US_avg_views_Ws = US_Ws[\"Goldbridge Reaction (K)\"].mean()\n",
    "US_avg_views_Ws # Average views Goldbridge reaction videos receive when Manchester United win. "
   ]
  },
  {
   "cell_type": "code",
   "execution_count": 1101,
   "metadata": {},
   "outputs": [
    {
     "data": {
      "text/plain": [
       "380.57142857142856"
      ]
     },
     "execution_count": 1101,
     "metadata": {},
     "output_type": "execute_result"
    }
   ],
   "source": [
    "US_avg_views_Ls = US_Ls[\"Goldbridge Reaction (K)\"].mean()\n",
    "US_avg_views_Ls \n",
    "# Average views Goldbridge reaction videos receive when Manchester United lose. "
   ]
  },
  {
   "cell_type": "code",
   "execution_count": 1102,
   "metadata": {},
   "outputs": [],
   "source": [
    "d = {\"Average views between wins and losses\": [US_avg_views_Ws, US_avg_views_Ls]}\n",
    "df = pd.DataFrame(data = d, index = [\"Avg views (wins)\", \"Avg views (losses)\"])"
   ]
  },
  {
   "cell_type": "code",
   "execution_count": 1103,
   "metadata": {},
   "outputs": [
    {
     "data": {
      "text/plain": [
       "([<matplotlib.patches.Wedge at 0x1c3a8606bc8>,\n",
       "  <matplotlib.patches.Wedge at 0x1c3a8610688>],\n",
       " [Text(-1.0809091976409615, 0.20404731425621123, 'Avg views (wins)'),\n",
       "  Text(1.0809091785366685, -0.2040474154582328, 'Avg views (losses)')],\n",
       " [Text(-0.589586835076888, 0.11129853504884248, '44.1%'),\n",
       "  Text(0.5895868246563646, -0.11129859024994515, '55.9%')])"
      ]
     },
     "execution_count": 1103,
     "metadata": {},
     "output_type": "execute_result"
    },
    {
     "data": {
      "image/png": "[encoded data removed]",
      "text/plain": [
       "<Figure size 432x288 with 1 Axes>"
      ]
     },
     "metadata": {},
     "output_type": "display_data"
    }
   ],
   "source": [
    "plt.pie(df[\"Average views between wins and losses\"], labels = df.index, startangle = 90, \n",
    "        shadow = True, autopct='%1.1f%%')"
   ]
  },
  {
   "cell_type": "code",
   "execution_count": 1104,
   "metadata": {},
   "outputs": [
    {
     "data": {
      "text/plain": [
       "26.95790309769658"
      ]
     },
     "execution_count": 1104,
     "metadata": {},
     "output_type": "execute_result"
    }
   ],
   "source": [
    "res = US_avg_views_Ls - US_avg_views_Ws\n",
    "Gold_res = res / US_avg_views_Ws * 100 \n",
    "Gold_res\n",
    "# Increase % more views when Manchester United lose."
   ]
  },
  {
   "cell_type": "code",
   "execution_count": 1105,
   "metadata": {},
   "outputs": [
    {
     "data": {
      "text/plain": [
       "1.269579030976966"
      ]
     },
     "execution_count": 1105,
     "metadata": {},
     "output_type": "execute_result"
    }
   ],
   "source": [
    "deci_US = US_avg_views_Ls / US_avg_views_Ws \n",
    "deci_US\n",
    "# Number of times more views received when Manchester United lose."
   ]
  },
  {
   "cell_type": "markdown",
   "metadata": {},
   "source": [
    "###### For watch along videos:"
   ]
  },
  {
   "cell_type": "code",
   "execution_count": 1106,
   "metadata": {},
   "outputs": [
    {
     "data": {
      "text/plain": [
       "595.1428571428571"
      ]
     },
     "execution_count": 1106,
     "metadata": {},
     "output_type": "execute_result"
    }
   ],
   "source": [
    "US_avg_views_wa_Ws = US_Ws[\"Watch along views (K)\"].mean()\n",
    "US_avg_views_wa_Ws # Number of views on watch alongs when Manchester United win."
   ]
  },
  {
   "cell_type": "code",
   "execution_count": 1107,
   "metadata": {},
   "outputs": [
    {
     "data": {
      "text/plain": [
       "724.2857142857143"
      ]
     },
     "execution_count": 1107,
     "metadata": {},
     "output_type": "execute_result"
    }
   ],
   "source": [
    "US_avg_views_wa_Ls = US_Ls[\"Watch along views (K)\"].mean()\n",
    "US_avg_views_wa_Ls # Number of views on watch alongs when Manchester United lose."
   ]
  },
  {
   "cell_type": "code",
   "execution_count": 1108,
   "metadata": {},
   "outputs": [
    {
     "data": {
      "text/plain": [
       "21.699471915506496"
      ]
     },
     "execution_count": 1108,
     "metadata": {},
     "output_type": "execute_result"
    }
   ],
   "source": [
    "res = US_avg_views_wa_Ls - US_avg_views_wa_Ws\n",
    "Gold_res = res / US_avg_views_wa_Ws * 100\n",
    "Gold_res\n",
    "# % increase in views when Manchester United were losing."
   ]
  },
  {
   "cell_type": "code",
   "execution_count": 1109,
   "metadata": {},
   "outputs": [
    {
     "data": {
      "text/plain": [
       "1.216994719155065"
      ]
     },
     "execution_count": 1109,
     "metadata": {},
     "output_type": "execute_result"
    }
   ],
   "source": [
    "deci_Gold = US_avg_views_wa_Ls / US_avg_views_wa_Ws \n",
    "deci_Gold\n",
    "# Number of times more views watch alongs received when Manchester United were losing."
   ]
  },
  {
   "cell_type": "code",
   "execution_count": 1110,
   "metadata": {},
   "outputs": [
    {
     "data": {
      "text/plain": [
       "65.7"
      ]
     },
     "execution_count": 1110,
     "metadata": {},
     "output_type": "execute_result"
    }
   ],
   "source": [
    "657 / 1000 * 100 \n",
    "# United Stand watch along received 65% more views on their heaviest defeat compared to heaviest win. "
   ]
  },
  {
   "cell_type": "markdown",
   "metadata": {},
   "source": [
    "## YounesTalksFootball Stats:"
   ]
  },
  {
   "cell_type": "code",
   "execution_count": 1111,
   "metadata": {},
   "outputs": [
    {
     "data": {
      "text/html": [
       "<div>\n",
       "<style scoped>\n",
       "    .dataframe tbody tr th:only-of-type {\n",
       "        vertical-align: middle;\n",
       "    }\n",
       "\n",
       "    .dataframe tbody tr th {\n",
       "        vertical-align: top;\n",
       "    }\n",
       "\n",
       "    .dataframe thead th {\n",
       "        text-align: right;\n",
       "    }\n",
       "</style>\n",
       "<table border=\"1\" class=\"dataframe\">\n",
       "  <thead>\n",
       "    <tr style=\"text-align: right;\">\n",
       "      <th></th>\n",
       "      <th>Competition</th>\n",
       "      <th>Opponent</th>\n",
       "      <th>Opposition Score</th>\n",
       "      <th>Chelsea Score</th>\n",
       "      <th>Goal Margin</th>\n",
       "      <th>Result (W, D or L)</th>\n",
       "      <th>Younes Reaction (K)</th>\n",
       "      <th>Chelsea FC highlight views (K)</th>\n",
       "    </tr>\n",
       "  </thead>\n",
       "  <tbody>\n",
       "    <tr>\n",
       "      <th>0</th>\n",
       "      <td>FA Cup</td>\n",
       "      <td>Morecombe</td>\n",
       "      <td>0</td>\n",
       "      <td>4</td>\n",
       "      <td>4</td>\n",
       "      <td>W</td>\n",
       "      <td>37</td>\n",
       "      <td>658.0</td>\n",
       "    </tr>\n",
       "    <tr>\n",
       "      <th>4</th>\n",
       "      <td>Premier League</td>\n",
       "      <td>West Ham</td>\n",
       "      <td>0</td>\n",
       "      <td>3</td>\n",
       "      <td>3</td>\n",
       "      <td>W</td>\n",
       "      <td>30</td>\n",
       "      <td>1800.0</td>\n",
       "    </tr>\n",
       "    <tr>\n",
       "      <th>8</th>\n",
       "      <td>Premier League</td>\n",
       "      <td>Leeds</td>\n",
       "      <td>1</td>\n",
       "      <td>3</td>\n",
       "      <td>2</td>\n",
       "      <td>W</td>\n",
       "      <td>27</td>\n",
       "      <td>3100.0</td>\n",
       "    </tr>\n",
       "    <tr>\n",
       "      <th>12</th>\n",
       "      <td>Premier League</td>\n",
       "      <td>Newcastle</td>\n",
       "      <td>0</td>\n",
       "      <td>2</td>\n",
       "      <td>2</td>\n",
       "      <td>W</td>\n",
       "      <td>35</td>\n",
       "      <td>1600.0</td>\n",
       "    </tr>\n",
       "    <tr>\n",
       "      <th>13</th>\n",
       "      <td>Premier League</td>\n",
       "      <td>Sheffield United</td>\n",
       "      <td>1</td>\n",
       "      <td>4</td>\n",
       "      <td>3</td>\n",
       "      <td>W</td>\n",
       "      <td>63</td>\n",
       "      <td>3500.0</td>\n",
       "    </tr>\n",
       "    <tr>\n",
       "      <th>15</th>\n",
       "      <td>Premier League</td>\n",
       "      <td>Burnley</td>\n",
       "      <td>0</td>\n",
       "      <td>3</td>\n",
       "      <td>3</td>\n",
       "      <td>W</td>\n",
       "      <td>58</td>\n",
       "      <td>2600.0</td>\n",
       "    </tr>\n",
       "    <tr>\n",
       "      <th>20</th>\n",
       "      <td>Premier League</td>\n",
       "      <td>Crystal Palace</td>\n",
       "      <td>0</td>\n",
       "      <td>4</td>\n",
       "      <td>4</td>\n",
       "      <td>W</td>\n",
       "      <td>48</td>\n",
       "      <td>1900.0</td>\n",
       "    </tr>\n",
       "    <tr>\n",
       "      <th>23</th>\n",
       "      <td>EFL Cup</td>\n",
       "      <td>Barnsley</td>\n",
       "      <td>0</td>\n",
       "      <td>6</td>\n",
       "      <td>6</td>\n",
       "      <td>W</td>\n",
       "      <td>43</td>\n",
       "      <td>4100.0</td>\n",
       "    </tr>\n",
       "    <tr>\n",
       "      <th>25</th>\n",
       "      <td>Premier League</td>\n",
       "      <td>Brighton</td>\n",
       "      <td>1</td>\n",
       "      <td>3</td>\n",
       "      <td>2</td>\n",
       "      <td>W</td>\n",
       "      <td>40</td>\n",
       "      <td>3000.0</td>\n",
       "    </tr>\n",
       "  </tbody>\n",
       "</table>\n",
       "</div>"
      ],
      "text/plain": [
       "       Competition          Opponent  Opposition Score  Chelsea Score  \\\n",
       "0           FA Cup         Morecombe                 0              4   \n",
       "4   Premier League          West Ham                 0              3   \n",
       "8   Premier League             Leeds                 1              3   \n",
       "12  Premier League         Newcastle                 0              2   \n",
       "13  Premier League  Sheffield United                 1              4   \n",
       "15  Premier League           Burnley                 0              3   \n",
       "20  Premier League    Crystal Palace                 0              4   \n",
       "23         EFL Cup          Barnsley                 0              6   \n",
       "25  Premier League          Brighton                 1              3   \n",
       "\n",
       "    Goal Margin Result (W, D or L)  Younes Reaction (K)  \\\n",
       "0             4                  W                   37   \n",
       "4             3                  W                   30   \n",
       "8             2                  W                   27   \n",
       "12            2                  W                   35   \n",
       "13            3                  W                   63   \n",
       "15            3                  W                   58   \n",
       "20            4                  W                   48   \n",
       "23            6                  W                   43   \n",
       "25            2                  W                   40   \n",
       "\n",
       "    Chelsea FC highlight views (K)  \n",
       "0                            658.0  \n",
       "4                           1800.0  \n",
       "8                           3100.0  \n",
       "12                          1600.0  \n",
       "13                          3500.0  \n",
       "15                          2600.0  \n",
       "20                          1900.0  \n",
       "23                          4100.0  \n",
       "25                          3000.0  "
      ]
     },
     "execution_count": 1111,
     "metadata": {},
     "output_type": "execute_result"
    }
   ],
   "source": [
    "Younes_Ws = Younes[Younes[\"Result (W, D or L)\"] == \"W\"]\n",
    "Younes_Ws # Chelsea Wins"
   ]
  },
  {
   "cell_type": "code",
   "execution_count": 1112,
   "metadata": {
    "scrolled": true
   },
   "outputs": [
    {
     "data": {
      "text/html": [
       "<div>\n",
       "<style scoped>\n",
       "    .dataframe tbody tr th:only-of-type {\n",
       "        vertical-align: middle;\n",
       "    }\n",
       "\n",
       "    .dataframe tbody tr th {\n",
       "        vertical-align: top;\n",
       "    }\n",
       "\n",
       "    .dataframe thead th {\n",
       "        text-align: right;\n",
       "    }\n",
       "</style>\n",
       "<table border=\"1\" class=\"dataframe\">\n",
       "  <thead>\n",
       "    <tr style=\"text-align: right;\">\n",
       "      <th></th>\n",
       "      <th>Competition</th>\n",
       "      <th>Opponent</th>\n",
       "      <th>Opposition Score</th>\n",
       "      <th>Chelsea Score</th>\n",
       "      <th>Goal Margin</th>\n",
       "      <th>Result (W, D or L)</th>\n",
       "      <th>Younes Reaction (K)</th>\n",
       "      <th>Chelsea FC highlight views (K)</th>\n",
       "    </tr>\n",
       "  </thead>\n",
       "  <tbody>\n",
       "    <tr>\n",
       "      <th>1</th>\n",
       "      <td>Premier League</td>\n",
       "      <td>Manchester City</td>\n",
       "      <td>3</td>\n",
       "      <td>1</td>\n",
       "      <td>-2</td>\n",
       "      <td>L</td>\n",
       "      <td>49</td>\n",
       "      <td>2200.0</td>\n",
       "    </tr>\n",
       "    <tr>\n",
       "      <th>2</th>\n",
       "      <td>Premier League</td>\n",
       "      <td>Aston Villa</td>\n",
       "      <td>1</td>\n",
       "      <td>1</td>\n",
       "      <td>0</td>\n",
       "      <td>D</td>\n",
       "      <td>37</td>\n",
       "      <td>950.0</td>\n",
       "    </tr>\n",
       "    <tr>\n",
       "      <th>3</th>\n",
       "      <td>Premier League</td>\n",
       "      <td>Arsenal</td>\n",
       "      <td>3</td>\n",
       "      <td>1</td>\n",
       "      <td>-2</td>\n",
       "      <td>L</td>\n",
       "      <td>53</td>\n",
       "      <td>2900.0</td>\n",
       "    </tr>\n",
       "    <tr>\n",
       "      <th>5</th>\n",
       "      <td>Premier League</td>\n",
       "      <td>Wolves</td>\n",
       "      <td>2</td>\n",
       "      <td>1</td>\n",
       "      <td>-1</td>\n",
       "      <td>L</td>\n",
       "      <td>36</td>\n",
       "      <td>1300.0</td>\n",
       "    </tr>\n",
       "    <tr>\n",
       "      <th>6</th>\n",
       "      <td>Premier League</td>\n",
       "      <td>Everton</td>\n",
       "      <td>1</td>\n",
       "      <td>0</td>\n",
       "      <td>-1</td>\n",
       "      <td>L</td>\n",
       "      <td>29</td>\n",
       "      <td>1100.0</td>\n",
       "    </tr>\n",
       "    <tr>\n",
       "      <th>10</th>\n",
       "      <td>Premier League</td>\n",
       "      <td>Tottenham</td>\n",
       "      <td>0</td>\n",
       "      <td>0</td>\n",
       "      <td>0</td>\n",
       "      <td>D</td>\n",
       "      <td>33</td>\n",
       "      <td>1000.0</td>\n",
       "    </tr>\n",
       "    <tr>\n",
       "      <th>17</th>\n",
       "      <td>Premier League</td>\n",
       "      <td>Manchester United</td>\n",
       "      <td>0</td>\n",
       "      <td>0</td>\n",
       "      <td>0</td>\n",
       "      <td>D</td>\n",
       "      <td>39</td>\n",
       "      <td>2000.0</td>\n",
       "    </tr>\n",
       "    <tr>\n",
       "      <th>19</th>\n",
       "      <td>Premier League</td>\n",
       "      <td>Southampton</td>\n",
       "      <td>3</td>\n",
       "      <td>3</td>\n",
       "      <td>0</td>\n",
       "      <td>D</td>\n",
       "      <td>56</td>\n",
       "      <td>2700.0</td>\n",
       "    </tr>\n",
       "    <tr>\n",
       "      <th>21</th>\n",
       "      <td>EFL Cup</td>\n",
       "      <td>Tottenham</td>\n",
       "      <td>2</td>\n",
       "      <td>1</td>\n",
       "      <td>-1</td>\n",
       "      <td>L</td>\n",
       "      <td>47</td>\n",
       "      <td>2300.0</td>\n",
       "    </tr>\n",
       "    <tr>\n",
       "      <th>22</th>\n",
       "      <td>Premier League</td>\n",
       "      <td>West Brom</td>\n",
       "      <td>3</td>\n",
       "      <td>3</td>\n",
       "      <td>0</td>\n",
       "      <td>D</td>\n",
       "      <td>44</td>\n",
       "      <td>2700.0</td>\n",
       "    </tr>\n",
       "    <tr>\n",
       "      <th>24</th>\n",
       "      <td>Premier League</td>\n",
       "      <td>Liverpool</td>\n",
       "      <td>2</td>\n",
       "      <td>0</td>\n",
       "      <td>-2</td>\n",
       "      <td>L</td>\n",
       "      <td>55</td>\n",
       "      <td>2700.0</td>\n",
       "    </tr>\n",
       "  </tbody>\n",
       "</table>\n",
       "</div>"
      ],
      "text/plain": [
       "       Competition           Opponent  Opposition Score  Chelsea Score  \\\n",
       "1   Premier League    Manchester City                 3              1   \n",
       "2   Premier League        Aston Villa                 1              1   \n",
       "3   Premier League            Arsenal                 3              1   \n",
       "5   Premier League             Wolves                 2              1   \n",
       "6   Premier League            Everton                 1              0   \n",
       "10  Premier League          Tottenham                 0              0   \n",
       "17  Premier League  Manchester United                 0              0   \n",
       "19  Premier League        Southampton                 3              3   \n",
       "21         EFL Cup          Tottenham                 2              1   \n",
       "22  Premier League          West Brom                 3              3   \n",
       "24  Premier League          Liverpool                 2              0   \n",
       "\n",
       "    Goal Margin Result (W, D or L)  Younes Reaction (K)  \\\n",
       "1            -2                  L                   49   \n",
       "2             0                  D                   37   \n",
       "3            -2                  L                   53   \n",
       "5            -1                  L                   36   \n",
       "6            -1                  L                   29   \n",
       "10            0                  D                   33   \n",
       "17            0                  D                   39   \n",
       "19            0                  D                   56   \n",
       "21           -1                  L                   47   \n",
       "22            0                  D                   44   \n",
       "24           -2                  L                   55   \n",
       "\n",
       "    Chelsea FC highlight views (K)  \n",
       "1                           2200.0  \n",
       "2                            950.0  \n",
       "3                           2900.0  \n",
       "5                           1300.0  \n",
       "6                           1100.0  \n",
       "10                          1000.0  \n",
       "17                          2000.0  \n",
       "19                          2700.0  \n",
       "21                          2300.0  \n",
       "22                          2700.0  \n",
       "24                          2700.0  "
      ]
     },
     "execution_count": 1112,
     "metadata": {},
     "output_type": "execute_result"
    }
   ],
   "source": [
    "Younes_LDs = Younes[Younes[\"Result (W, D or L)\"] != \"W\"]\n",
    "Younes_LDs #Chelsea draws and losses"
   ]
  },
  {
   "cell_type": "code",
   "execution_count": 1113,
   "metadata": {},
   "outputs": [
    {
     "data": {
      "text/html": [
       "<div>\n",
       "<style scoped>\n",
       "    .dataframe tbody tr th:only-of-type {\n",
       "        vertical-align: middle;\n",
       "    }\n",
       "\n",
       "    .dataframe tbody tr th {\n",
       "        vertical-align: top;\n",
       "    }\n",
       "\n",
       "    .dataframe thead th {\n",
       "        text-align: right;\n",
       "    }\n",
       "</style>\n",
       "<table border=\"1\" class=\"dataframe\">\n",
       "  <thead>\n",
       "    <tr style=\"text-align: right;\">\n",
       "      <th></th>\n",
       "      <th>Competition</th>\n",
       "      <th>Opponent</th>\n",
       "      <th>Opposition Score</th>\n",
       "      <th>Chelsea Score</th>\n",
       "      <th>Goal Margin</th>\n",
       "      <th>Result (W, D or L)</th>\n",
       "      <th>Younes Reaction (K)</th>\n",
       "      <th>Chelsea FC highlight views (K)</th>\n",
       "    </tr>\n",
       "  </thead>\n",
       "  <tbody>\n",
       "    <tr>\n",
       "      <th>1</th>\n",
       "      <td>Premier League</td>\n",
       "      <td>Manchester City</td>\n",
       "      <td>3</td>\n",
       "      <td>1</td>\n",
       "      <td>-2</td>\n",
       "      <td>L</td>\n",
       "      <td>49</td>\n",
       "      <td>2200.0</td>\n",
       "    </tr>\n",
       "    <tr>\n",
       "      <th>3</th>\n",
       "      <td>Premier League</td>\n",
       "      <td>Arsenal</td>\n",
       "      <td>3</td>\n",
       "      <td>1</td>\n",
       "      <td>-2</td>\n",
       "      <td>L</td>\n",
       "      <td>53</td>\n",
       "      <td>2900.0</td>\n",
       "    </tr>\n",
       "    <tr>\n",
       "      <th>5</th>\n",
       "      <td>Premier League</td>\n",
       "      <td>Wolves</td>\n",
       "      <td>2</td>\n",
       "      <td>1</td>\n",
       "      <td>-1</td>\n",
       "      <td>L</td>\n",
       "      <td>36</td>\n",
       "      <td>1300.0</td>\n",
       "    </tr>\n",
       "    <tr>\n",
       "      <th>6</th>\n",
       "      <td>Premier League</td>\n",
       "      <td>Everton</td>\n",
       "      <td>1</td>\n",
       "      <td>0</td>\n",
       "      <td>-1</td>\n",
       "      <td>L</td>\n",
       "      <td>29</td>\n",
       "      <td>1100.0</td>\n",
       "    </tr>\n",
       "    <tr>\n",
       "      <th>21</th>\n",
       "      <td>EFL Cup</td>\n",
       "      <td>Tottenham</td>\n",
       "      <td>2</td>\n",
       "      <td>1</td>\n",
       "      <td>-1</td>\n",
       "      <td>L</td>\n",
       "      <td>47</td>\n",
       "      <td>2300.0</td>\n",
       "    </tr>\n",
       "    <tr>\n",
       "      <th>24</th>\n",
       "      <td>Premier League</td>\n",
       "      <td>Liverpool</td>\n",
       "      <td>2</td>\n",
       "      <td>0</td>\n",
       "      <td>-2</td>\n",
       "      <td>L</td>\n",
       "      <td>55</td>\n",
       "      <td>2700.0</td>\n",
       "    </tr>\n",
       "  </tbody>\n",
       "</table>\n",
       "</div>"
      ],
      "text/plain": [
       "       Competition         Opponent  Opposition Score  Chelsea Score  \\\n",
       "1   Premier League  Manchester City                 3              1   \n",
       "3   Premier League          Arsenal                 3              1   \n",
       "5   Premier League           Wolves                 2              1   \n",
       "6   Premier League          Everton                 1              0   \n",
       "21         EFL Cup        Tottenham                 2              1   \n",
       "24  Premier League        Liverpool                 2              0   \n",
       "\n",
       "    Goal Margin Result (W, D or L)  Younes Reaction (K)  \\\n",
       "1            -2                  L                   49   \n",
       "3            -2                  L                   53   \n",
       "5            -1                  L                   36   \n",
       "6            -1                  L                   29   \n",
       "21           -1                  L                   47   \n",
       "24           -2                  L                   55   \n",
       "\n",
       "    Chelsea FC highlight views (K)  \n",
       "1                           2200.0  \n",
       "3                           2900.0  \n",
       "5                           1300.0  \n",
       "6                           1100.0  \n",
       "21                          2300.0  \n",
       "24                          2700.0  "
      ]
     },
     "execution_count": 1113,
     "metadata": {},
     "output_type": "execute_result"
    }
   ],
   "source": [
    "Younes_Ls = Younes[Younes[\"Result (W, D or L)\"] == \"L\"]\n",
    "Younes_Ls"
   ]
  },
  {
   "cell_type": "markdown",
   "metadata": {},
   "source": [
    "###### Younes reaction videos:"
   ]
  },
  {
   "cell_type": "code",
   "execution_count": 1114,
   "metadata": {},
   "outputs": [
    {
     "data": {
      "text/plain": [
       "42.333333333333336"
      ]
     },
     "execution_count": 1114,
     "metadata": {},
     "output_type": "execute_result"
    }
   ],
   "source": [
    "Younes_avg_views_Ws = Younes_Ws[\"Younes Reaction (K)\"].mean()\n",
    "Younes_avg_views_Ws #Average wins when Chelsea win."
   ]
  },
  {
   "cell_type": "code",
   "execution_count": 1115,
   "metadata": {},
   "outputs": [
    {
     "data": {
      "text/plain": [
       "43.45454545454545"
      ]
     },
     "execution_count": 1115,
     "metadata": {},
     "output_type": "execute_result"
    }
   ],
   "source": [
    "Younes_avg_views_LDs = Younes_LDs[\"Younes Reaction (K)\"].mean()\n",
    "Younes_avg_views_LDs #Average views when Chelsea draw or lose."
   ]
  },
  {
   "cell_type": "code",
   "execution_count": 1116,
   "metadata": {},
   "outputs": [
    {
     "data": {
      "text/plain": [
       "44.833333333333336"
      ]
     },
     "execution_count": 1116,
     "metadata": {},
     "output_type": "execute_result"
    }
   ],
   "source": [
    "Younes_avg_views_Ls = Younes_Ls[\"Younes Reaction (K)\"].mean()\n",
    "Younes_avg_views_Ls # Average views when Chelsea lose."
   ]
  },
  {
   "cell_type": "code",
   "execution_count": 1117,
   "metadata": {},
   "outputs": [
    {
     "data": {
      "text/plain": [
       "2.6485325697924034"
      ]
     },
     "execution_count": 1117,
     "metadata": {},
     "output_type": "execute_result"
    }
   ],
   "source": [
    "res = Younes_avg_views_LDs - Younes_avg_views_Ws\n",
    "Younes_res1 = res / Younes_avg_views_Ws * 100 \n",
    "Younes_res1\n",
    "# % increase of average views when Chelsea draw or lose."
   ]
  },
  {
   "cell_type": "code",
   "execution_count": 1118,
   "metadata": {},
   "outputs": [
    {
     "data": {
      "text/plain": [
       "5.905511811023622"
      ]
     },
     "execution_count": 1118,
     "metadata": {},
     "output_type": "execute_result"
    }
   ],
   "source": [
    "res = Younes_avg_views_Ls - Younes_avg_views_Ws\n",
    "Younes_res2 = res / Younes_avg_views_Ws * 100  \n",
    "Younes_res2\n",
    "# % increase of average views when Chelsea lose."
   ]
  },
  {
   "cell_type": "code",
   "execution_count": 1119,
   "metadata": {},
   "outputs": [
    {
     "data": {
      "text/plain": [
       "1.026485325697924"
      ]
     },
     "execution_count": 1119,
     "metadata": {},
     "output_type": "execute_result"
    }
   ],
   "source": [
    "deci_Younes1 = Younes_avg_views_LDs / Younes_avg_views_Ws \n",
    "deci_Younes1\n",
    "# Number of times more average views recevied when Chelsea draw or lose."
   ]
  },
  {
   "cell_type": "code",
   "execution_count": 1120,
   "metadata": {},
   "outputs": [
    {
     "data": {
      "text/plain": [
       "1.0590551181102361"
      ]
     },
     "execution_count": 1120,
     "metadata": {},
     "output_type": "execute_result"
    }
   ],
   "source": [
    "deci_Younes = Younes_avg_views_Ls / Younes_avg_views_Ws \n",
    "deci_Younes\n",
    "# Number of times more average views recevied when Chelsea lose."
   ]
  },
  {
   "cell_type": "markdown",
   "metadata": {},
   "source": [
    "###### Chelsea FC's official channel. Do Chelsea receive more views on their channel when they lose matches?"
   ]
  },
  {
   "cell_type": "code",
   "execution_count": 1121,
   "metadata": {},
   "outputs": [
    {
     "data": {
      "text/plain": [
       "2473.1111111111113"
      ]
     },
     "execution_count": 1121,
     "metadata": {},
     "output_type": "execute_result"
    }
   ],
   "source": [
    "avg_views_CFC_Ws = Younes_Ws[\"Chelsea FC highlight views (K)\"].mean()\n",
    "avg_views_CFC_Ws # Averge views Chelsea receive when they win."
   ]
  },
  {
   "cell_type": "code",
   "execution_count": 1122,
   "metadata": {},
   "outputs": [
    {
     "data": {
      "text/plain": [
       "2083.3333333333335"
      ]
     },
     "execution_count": 1122,
     "metadata": {},
     "output_type": "execute_result"
    }
   ],
   "source": [
    "avg_views_CFC_Ls = Younes_Ls[\"Chelsea FC highlight views (K)\"].mean()\n",
    "avg_views_CFC_Ls # Average views Chelsea receive when they lose."
   ]
  },
  {
   "cell_type": "code",
   "execution_count": 1123,
   "metadata": {},
   "outputs": [
    {
     "data": {
      "text/plain": [
       "-15.760625393117081"
      ]
     },
     "execution_count": 1123,
     "metadata": {},
     "output_type": "execute_result"
    }
   ],
   "source": [
    "res = avg_views_CFC_Ls - avg_views_CFC_Ws\n",
    "res / avg_views_CFC_Ws * 100 # % increase in views when Chelsea lose. "
   ]
  },
  {
   "cell_type": "code",
   "execution_count": 1124,
   "metadata": {},
   "outputs": [
    {
     "data": {
      "text/plain": [
       "0.8423937460688292"
      ]
     },
     "execution_count": 1124,
     "metadata": {},
     "output_type": "execute_result"
    }
   ],
   "source": [
    "avg_views_CFC_Ls / avg_views_CFC_Ws # Number of times the amount of views received when losing. "
   ]
  },
  {
   "cell_type": "code",
   "execution_count": 1125,
   "metadata": {},
   "outputs": [
    {
     "data": {
      "text/html": [
       "<div>\n",
       "<style scoped>\n",
       "    .dataframe tbody tr th:only-of-type {\n",
       "        vertical-align: middle;\n",
       "    }\n",
       "\n",
       "    .dataframe tbody tr th {\n",
       "        vertical-align: top;\n",
       "    }\n",
       "\n",
       "    .dataframe thead th {\n",
       "        text-align: right;\n",
       "    }\n",
       "</style>\n",
       "<table border=\"1\" class=\"dataframe\">\n",
       "  <thead>\n",
       "    <tr style=\"text-align: right;\">\n",
       "      <th></th>\n",
       "      <th>Views when Chelsea win</th>\n",
       "      <th>Views when Chelsea lose</th>\n",
       "    </tr>\n",
       "  </thead>\n",
       "  <tbody>\n",
       "    <tr>\n",
       "      <th>Results</th>\n",
       "      <td>2473.111111</td>\n",
       "      <td>2083.333333</td>\n",
       "    </tr>\n",
       "  </tbody>\n",
       "</table>\n",
       "</div>"
      ],
      "text/plain": [
       "         Views when Chelsea win  Views when Chelsea lose\n",
       "Results             2473.111111              2083.333333"
      ]
     },
     "execution_count": 1125,
     "metadata": {},
     "output_type": "execute_result"
    }
   ],
   "source": [
    "df = pd.DataFrame({\"Views when Chelsea win\": avg_views_CFC_Ws, \n",
    "                   \"Views when Chelsea lose\": avg_views_CFC_Ls}, index = [\"Results\"])\n",
    "df"
   ]
  },
  {
   "cell_type": "code",
   "execution_count": 1126,
   "metadata": {
    "scrolled": true
   },
   "outputs": [
    {
     "data": {
      "text/plain": [
       "<matplotlib.axes._subplots.AxesSubplot at 0x1c3a861e488>"
      ]
     },
     "execution_count": 1126,
     "metadata": {},
     "output_type": "execute_result"
    },
    {
     "data": {
      "image/png": "[encoded data removed]",
      "text/plain": [
       "<Figure size 432x288 with 1 Axes>"
      ]
     },
     "metadata": {},
     "output_type": "display_data"
    }
   ],
   "source": [
    "sns.barplot(data = df)"
   ]
  },
  {
   "cell_type": "markdown",
   "metadata": {},
   "source": [
    "## Summary table"
   ]
  },
  {
   "cell_type": "code",
   "execution_count": 1127,
   "metadata": {},
   "outputs": [
    {
     "data": {
      "text/html": [
       "<div>\n",
       "<style scoped>\n",
       "    .dataframe tbody tr th:only-of-type {\n",
       "        vertical-align: middle;\n",
       "    }\n",
       "\n",
       "    .dataframe tbody tr th {\n",
       "        vertical-align: top;\n",
       "    }\n",
       "\n",
       "    .dataframe thead th {\n",
       "        text-align: right;\n",
       "    }\n",
       "</style>\n",
       "<table border=\"1\" class=\"dataframe\">\n",
       "  <thead>\n",
       "    <tr style=\"text-align: right;\">\n",
       "      <th></th>\n",
       "      <th>Average reaction video views when winning</th>\n",
       "      <th>Average reaction video views when losing</th>\n",
       "      <th>% more views received when losing compared to winning</th>\n",
       "      <th>x more views when losing compared to winning</th>\n",
       "    </tr>\n",
       "  </thead>\n",
       "  <tbody>\n",
       "    <tr>\n",
       "      <th>DT (AFTV)</th>\n",
       "      <td>237.36</td>\n",
       "      <td>574.11</td>\n",
       "      <td>141.88</td>\n",
       "      <td>2.42</td>\n",
       "    </tr>\n",
       "    <tr>\n",
       "      <th>Craig (Anfield Agenda)</th>\n",
       "      <td>10.87</td>\n",
       "      <td>34.09</td>\n",
       "      <td>213.72</td>\n",
       "      <td>3.14</td>\n",
       "    </tr>\n",
       "    <tr>\n",
       "      <th>Ex (Expressionz Oozing)</th>\n",
       "      <td>59.33</td>\n",
       "      <td>116.75</td>\n",
       "      <td>96.77</td>\n",
       "      <td>1.97</td>\n",
       "    </tr>\n",
       "    <tr>\n",
       "      <th>Goldbridge (United Stand)</th>\n",
       "      <td>299.76</td>\n",
       "      <td>380.57</td>\n",
       "      <td>21.70</td>\n",
       "      <td>1.22</td>\n",
       "    </tr>\n",
       "    <tr>\n",
       "      <th>Younes (YounesTalksFootball)</th>\n",
       "      <td>42.33</td>\n",
       "      <td>44.83</td>\n",
       "      <td>5.91</td>\n",
       "      <td>1.06</td>\n",
       "    </tr>\n",
       "  </tbody>\n",
       "</table>\n",
       "</div>"
      ],
      "text/plain": [
       "                              Average reaction video views when winning  \\\n",
       "DT (AFTV)                                                        237.36   \n",
       "Craig (Anfield Agenda)                                            10.87   \n",
       "Ex (Expressionz Oozing)                                           59.33   \n",
       "Goldbridge (United Stand)                                        299.76   \n",
       "Younes (YounesTalksFootball)                                      42.33   \n",
       "\n",
       "                              Average reaction video views when losing  \\\n",
       "DT (AFTV)                                                       574.11   \n",
       "Craig (Anfield Agenda)                                           34.09   \n",
       "Ex (Expressionz Oozing)                                         116.75   \n",
       "Goldbridge (United Stand)                                       380.57   \n",
       "Younes (YounesTalksFootball)                                     44.83   \n",
       "\n",
       "                              % more views received when losing compared to winning  \\\n",
       "DT (AFTV)                                                                141.88       \n",
       "Craig (Anfield Agenda)                                                   213.72       \n",
       "Ex (Expressionz Oozing)                                                   96.77       \n",
       "Goldbridge (United Stand)                                                 21.70       \n",
       "Younes (YounesTalksFootball)                                               5.91       \n",
       "\n",
       "                              x more views when losing compared to winning  \n",
       "DT (AFTV)                                                             2.42  \n",
       "Craig (Anfield Agenda)                                                3.14  \n",
       "Ex (Expressionz Oozing)                                               1.97  \n",
       "Goldbridge (United Stand)                                             1.22  \n",
       "Younes (YounesTalksFootball)                                          1.06  "
      ]
     },
     "execution_count": 1127,
     "metadata": {},
     "output_type": "execute_result"
    }
   ],
   "source": [
    "df = pd.DataFrame({\"Average reaction video views when winning\":[dt_avg_views_Ws, craig_avg_views_Ws, \n",
    "                                                              Ex_avg_views_Ws, US_avg_views_Ws, \n",
    "                                                              Younes_avg_views_Ws], \n",
    "                  \"Average reaction video views when losing\": [dt_avg_views_Ls, craig_avg_views_Ls, \n",
    "                                                              Ex_avg_views_Ls, US_avg_views_Ls, \n",
    "                                                              Younes_avg_views_Ls], \n",
    "                  \"% more views received when losing compared to winning\": [dt_res, \n",
    "                                                                            craig_res, \n",
    "                                                              Ex_res2, Gold_res, \n",
    "                                                              Younes_res2], \n",
    "                  \"x more views when losing compared to winning\":[deci_dt, deci_craig, \n",
    "                                                              Ex_res4, deci_Gold, \n",
    "                                                              deci_Younes]}, \n",
    "                 index = [\"DT (AFTV)\", \"Craig (Anfield Agenda)\", \"Ex (Expressionz Oozing)\",\n",
    "                          \"Goldbridge (United Stand)\", \"Younes (YounesTalksFootball)\"])\n",
    "df.round(2)"
   ]
  }
 ],
 "metadata": {
  "kernelspec": {
   "display_name": "Python 3",
   "language": "python",
   "name": "python3"
  },
  "language_info": {
   "codemirror_mode": {
    "name": "ipython",
    "version": 3
   },
   "file_extension": ".py",
   "mimetype": "text/x-python",
   "name": "python",
   "nbconvert_exporter": "python",
   "pygments_lexer": "ipython3",
   "version": "3.7.6"
  }
 },
 "nbformat": 4,
 "nbformat_minor": 4
}
